{
 "cells": [
  {
   "cell_type": "markdown",
   "metadata": {},
   "source": [
    "## Boston 데이터셋 - 첫번째 코딩\n",
    "참고자료: \n",
    "- https://www.kaggle.com/vikrishnan/boston-house-prices\n",
    "- 회귀 문제\n",
    "- Ames 데이터셋이 유명해지기 전 많이 사용됐던 데이터셋\n",
    "- 결측치가 없고 numerical한 데이터만 있음"
   ]
  },
  {
   "cell_type": "markdown",
   "metadata": {},
   "source": [
    "### 0.불러오기 등 준비"
   ]
  },
  {
   "cell_type": "code",
   "execution_count": 17,
   "metadata": {},
   "outputs": [
    {
     "name": "stdout",
     "output_type": "stream",
     "text": [
      "Ran on Jupyter Notebook\n",
      "3.6.9 |Anaconda, Inc.| (default, Jul 30 2019, 14:00:49) [MSC v.1915 64 bit (AMD64)]\n",
      "C:\\ProgramData\\Anaconda3\\python.exe\n",
      "C:\\Users\\Administrator\\Desktop\\D0123_make_lecture_for_tobigs\\D0210_실제로_코드_짜기\\notebooks\n"
     ]
    },
    {
     "data": {
      "text/html": [
       "<style>.container { width:100% !important; }</style>"
      ],
      "text/plain": [
       "<IPython.core.display.HTML object>"
      ]
     },
     "metadata": {},
     "output_type": "display_data"
    }
   ],
   "source": [
    "## 준비\n",
    "print('Ran on Jupyter Notebook')\n",
    "\n",
    "import sys \n",
    "print(sys.version) # 파이썬 버전 \n",
    "print(sys.executable) # 파이썬 위치\n",
    "import os\n",
    "print(os.getcwd()) # 폴더 위치\n",
    "\n",
    "import inspect\n",
    "from datetime import datetime\n",
    "\n",
    "from IPython.core.display import display, HTML # 셀이 화면 전체 채우도록 함\n",
    "display(HTML(\"<style>.container { width:100% !important; }</style>\"))"
   ]
  },
  {
   "cell_type": "code",
   "execution_count": 18,
   "metadata": {},
   "outputs": [],
   "source": [
    "## 자주 쓰는 모듈들\n",
    "import pandas as pd\n",
    "import numpy as np\n",
    "\n",
    "import sklearn\n",
    "from sklearn import datasets\n",
    "from sklearn.model_selection import GridSearchCV\n",
    "from sklearn.model_selection import RandomizedSearchCV\n",
    "from sklearn.model_selection import train_test_split\n",
    "from sklearn.model_selection import cross_val_score\n",
    "from sklearn import metrics\n",
    "\n",
    "%matplotlib inline\n",
    "import matplotlib.pyplot as plt\n",
    "import seaborn as sns\n",
    "color = sns.color_palette()\n",
    "sns.set_style('darkgrid')"
   ]
  },
  {
   "cell_type": "markdown",
   "metadata": {},
   "source": [
    "### 1. 핵심 모듈 및 데이터 불러오기 (Import Modules and Data)"
   ]
  },
  {
   "cell_type": "code",
   "execution_count": 19,
   "metadata": {},
   "outputs": [],
   "source": [
    "from sklearn.datasets import load_boston\n",
    "\n",
    "from sklearn.linear_model import LinearRegression\n",
    "from sklearn.preprocessing import StandardScaler\n",
    "from sklearn.svm import SVR\n",
    "\n",
    "import pickle"
   ]
  },
  {
   "cell_type": "code",
   "execution_count": 20,
   "metadata": {},
   "outputs": [],
   "source": [
    "boston = load_boston()\n",
    "df_feat = pd.DataFrame(boston.data)\n",
    "df_feat.columns = boston.feature_names\n",
    "df_feat['PRICE'] = boston.target\n",
    "df = df_feat\n",
    "del df_feat "
   ]
  },
  {
   "cell_type": "markdown",
   "metadata": {},
   "source": [
    "### 2. 데이터 탐색"
   ]
  },
  {
   "cell_type": "code",
   "execution_count": 21,
   "metadata": {},
   "outputs": [
    {
     "data": {
      "text/html": [
       "<div>\n",
       "<style scoped>\n",
       "    .dataframe tbody tr th:only-of-type {\n",
       "        vertical-align: middle;\n",
       "    }\n",
       "\n",
       "    .dataframe tbody tr th {\n",
       "        vertical-align: top;\n",
       "    }\n",
       "\n",
       "    .dataframe thead th {\n",
       "        text-align: right;\n",
       "    }\n",
       "</style>\n",
       "<table border=\"1\" class=\"dataframe\">\n",
       "  <thead>\n",
       "    <tr style=\"text-align: right;\">\n",
       "      <th></th>\n",
       "      <th>CRIM</th>\n",
       "      <th>ZN</th>\n",
       "      <th>INDUS</th>\n",
       "      <th>CHAS</th>\n",
       "      <th>NOX</th>\n",
       "      <th>RM</th>\n",
       "      <th>AGE</th>\n",
       "      <th>DIS</th>\n",
       "      <th>RAD</th>\n",
       "      <th>TAX</th>\n",
       "      <th>PTRATIO</th>\n",
       "      <th>B</th>\n",
       "      <th>LSTAT</th>\n",
       "      <th>PRICE</th>\n",
       "    </tr>\n",
       "  </thead>\n",
       "  <tbody>\n",
       "    <tr>\n",
       "      <th>0</th>\n",
       "      <td>0.00632</td>\n",
       "      <td>18.0</td>\n",
       "      <td>2.31</td>\n",
       "      <td>0.0</td>\n",
       "      <td>0.538</td>\n",
       "      <td>6.575</td>\n",
       "      <td>65.2</td>\n",
       "      <td>4.0900</td>\n",
       "      <td>1.0</td>\n",
       "      <td>296.0</td>\n",
       "      <td>15.3</td>\n",
       "      <td>396.90</td>\n",
       "      <td>4.98</td>\n",
       "      <td>24.0</td>\n",
       "    </tr>\n",
       "    <tr>\n",
       "      <th>1</th>\n",
       "      <td>0.02731</td>\n",
       "      <td>0.0</td>\n",
       "      <td>7.07</td>\n",
       "      <td>0.0</td>\n",
       "      <td>0.469</td>\n",
       "      <td>6.421</td>\n",
       "      <td>78.9</td>\n",
       "      <td>4.9671</td>\n",
       "      <td>2.0</td>\n",
       "      <td>242.0</td>\n",
       "      <td>17.8</td>\n",
       "      <td>396.90</td>\n",
       "      <td>9.14</td>\n",
       "      <td>21.6</td>\n",
       "    </tr>\n",
       "    <tr>\n",
       "      <th>2</th>\n",
       "      <td>0.02729</td>\n",
       "      <td>0.0</td>\n",
       "      <td>7.07</td>\n",
       "      <td>0.0</td>\n",
       "      <td>0.469</td>\n",
       "      <td>7.185</td>\n",
       "      <td>61.1</td>\n",
       "      <td>4.9671</td>\n",
       "      <td>2.0</td>\n",
       "      <td>242.0</td>\n",
       "      <td>17.8</td>\n",
       "      <td>392.83</td>\n",
       "      <td>4.03</td>\n",
       "      <td>34.7</td>\n",
       "    </tr>\n",
       "    <tr>\n",
       "      <th>3</th>\n",
       "      <td>0.03237</td>\n",
       "      <td>0.0</td>\n",
       "      <td>2.18</td>\n",
       "      <td>0.0</td>\n",
       "      <td>0.458</td>\n",
       "      <td>6.998</td>\n",
       "      <td>45.8</td>\n",
       "      <td>6.0622</td>\n",
       "      <td>3.0</td>\n",
       "      <td>222.0</td>\n",
       "      <td>18.7</td>\n",
       "      <td>394.63</td>\n",
       "      <td>2.94</td>\n",
       "      <td>33.4</td>\n",
       "    </tr>\n",
       "    <tr>\n",
       "      <th>4</th>\n",
       "      <td>0.06905</td>\n",
       "      <td>0.0</td>\n",
       "      <td>2.18</td>\n",
       "      <td>0.0</td>\n",
       "      <td>0.458</td>\n",
       "      <td>7.147</td>\n",
       "      <td>54.2</td>\n",
       "      <td>6.0622</td>\n",
       "      <td>3.0</td>\n",
       "      <td>222.0</td>\n",
       "      <td>18.7</td>\n",
       "      <td>396.90</td>\n",
       "      <td>5.33</td>\n",
       "      <td>36.2</td>\n",
       "    </tr>\n",
       "  </tbody>\n",
       "</table>\n",
       "</div>"
      ],
      "text/plain": [
       "      CRIM    ZN  INDUS  CHAS    NOX     RM   AGE     DIS  RAD    TAX  \\\n",
       "0  0.00632  18.0   2.31   0.0  0.538  6.575  65.2  4.0900  1.0  296.0   \n",
       "1  0.02731   0.0   7.07   0.0  0.469  6.421  78.9  4.9671  2.0  242.0   \n",
       "2  0.02729   0.0   7.07   0.0  0.469  7.185  61.1  4.9671  2.0  242.0   \n",
       "3  0.03237   0.0   2.18   0.0  0.458  6.998  45.8  6.0622  3.0  222.0   \n",
       "4  0.06905   0.0   2.18   0.0  0.458  7.147  54.2  6.0622  3.0  222.0   \n",
       "\n",
       "   PTRATIO       B  LSTAT  PRICE  \n",
       "0     15.3  396.90   4.98   24.0  \n",
       "1     17.8  396.90   9.14   21.6  \n",
       "2     17.8  392.83   4.03   34.7  \n",
       "3     18.7  394.63   2.94   33.4  \n",
       "4     18.7  396.90   5.33   36.2  "
      ]
     },
     "metadata": {},
     "output_type": "display_data"
    }
   ],
   "source": [
    "display(df.head())"
   ]
  },
  {
   "cell_type": "markdown",
   "metadata": {},
   "source": [
    "### 3. 데이터 전처리"
   ]
  },
  {
   "cell_type": "code",
   "execution_count": 22,
   "metadata": {},
   "outputs": [],
   "source": [
    "X = df.drop(['PRICE'], axis = 1)\n",
    "y = df['PRICE']\n",
    "\n",
    "X_train, X_test, y_train, y_test = train_test_split(X, y, test_size = 0.3, random_state = 4) "
   ]
  },
  {
   "cell_type": "code",
   "execution_count": 23,
   "metadata": {},
   "outputs": [
    {
     "data": {
      "text/plain": [
       "StandardScaler(copy=True, with_mean=True, with_std=True)"
      ]
     },
     "execution_count": 23,
     "metadata": {},
     "output_type": "execute_result"
    }
   ],
   "source": [
    "sc = StandardScaler()\n",
    "sc.fit(X_train) "
   ]
  },
  {
   "cell_type": "code",
   "execution_count": 24,
   "metadata": {},
   "outputs": [],
   "source": [
    "X_train = sc.transform(X_train) \n",
    "X_test = sc.transform(X_test)"
   ]
  },
  {
   "cell_type": "markdown",
   "metadata": {},
   "source": [
    "### 4. 모델 선정"
   ]
  },
  {
   "cell_type": "markdown",
   "metadata": {},
   "source": [
    "#### 하이퍼 파라미터 튜닝"
   ]
  },
  {
   "cell_type": "code",
   "execution_count": 25,
   "metadata": {},
   "outputs": [
    {
     "name": "stdout",
     "output_type": "stream",
     "text": [
      "Fitting 3 folds for each of 72 candidates, totalling 216 fits\n"
     ]
    },
    {
     "name": "stderr",
     "output_type": "stream",
     "text": [
      "[Parallel(n_jobs=-1)]: Using backend LokyBackend with 8 concurrent workers.\n",
      "[Parallel(n_jobs=-1)]: Batch computation too fast (0.0110s.) Setting batch_size=2.\n",
      "[Parallel(n_jobs=-1)]: Done   2 tasks      | elapsed:    0.0s\n",
      "[Parallel(n_jobs=-1)]: Done   9 tasks      | elapsed:    0.0s\n",
      "[Parallel(n_jobs=-1)]: Done  16 tasks      | elapsed:    0.0s\n",
      "[Parallel(n_jobs=-1)]: Batch computation too fast (0.0410s.) Setting batch_size=4.\n",
      "[Parallel(n_jobs=-1)]: Done  34 tasks      | elapsed:    0.0s\n",
      "[Parallel(n_jobs=-1)]: Batch computation too fast (0.0430s.) Setting batch_size=8.\n",
      "[Parallel(n_jobs=-1)]: Done  56 tasks      | elapsed:    0.0s\n",
      "[Parallel(n_jobs=-1)]: Done 100 tasks      | elapsed:    0.1s\n",
      "[Parallel(n_jobs=-1)]: Batch computation too fast (0.0670s.) Setting batch_size=16.\n"
     ]
    },
    {
     "name": "stdout",
     "output_type": "stream",
     "text": [
      "time consumed: 0:00:00.299000\n"
     ]
    },
    {
     "name": "stderr",
     "output_type": "stream",
     "text": [
      "[Parallel(n_jobs=-1)]: Done 155 tasks      | elapsed:    0.1s\n",
      "[Parallel(n_jobs=-1)]: Done 182 tasks      | elapsed:    0.1s\n",
      "[Parallel(n_jobs=-1)]: Done 216 out of 216 | elapsed:    0.2s finished\n"
     ]
    }
   ],
   "source": [
    "start=datetime.now()\n",
    "parameters = {\n",
    "    'gamma': [1e-7, 1e-4],\n",
    "    'epsilon':[0.1,0.2,0.5,0.3], \n",
    "    'kernel':('rbf', 'poly', 'sigmoid'),\n",
    "    'C': [1, 5, 10]\n",
    "}\n",
    "\n",
    "gridsearch = GridSearchCV(estimator = SVR(), param_grid  = parameters, cv = 3, scoring = 'r2',  n_jobs=-1, verbose = 10)\n",
    "gridsearch.fit(X_train, y_train)\n",
    "## (2 * 4 * 3 * 3) by parameter grid * (3) by cross-validation -> 54 fits\n",
    "\n",
    "print('time consumed:', datetime.now()-start)"
   ]
  },
  {
   "cell_type": "code",
   "execution_count": 26,
   "metadata": {},
   "outputs": [
    {
     "name": "stdout",
     "output_type": "stream",
     "text": [
      "--- best_params_ ---\n",
      "{'C': 10, 'epsilon': 0.1, 'gamma': 0.0001, 'kernel': 'rbf'}\n",
      "--------------------\n",
      "--- best_score_ ----\n",
      "0.1735920031836977\n",
      "--------------------\n",
      "--- cv_results_ ----\n",
      "[{'C': 1, 'epsilon': 0.1, 'gamma': 1e-07, 'kernel': 'rbf'}, {'C': 1, 'epsilon': 0.1, 'gamma': 1e-07, 'kernel': 'poly'}, {'C': 1, 'epsilon': 0.1, 'gamma': 1e-07, 'kernel': 'sigmoid'}, {'C': 1, 'epsilon': 0.1, 'gamma': 0.0001, 'kernel': 'rbf'}, {'C': 1, 'epsilon': 0.1, 'gamma': 0.0001, 'kernel': 'poly'}, {'C': 1, 'epsilon': 0.1, 'gamma': 0.0001, 'kernel': 'sigmoid'}, {'C': 1, 'epsilon': 0.2, 'gamma': 1e-07, 'kernel': 'rbf'}, {'C': 1, 'epsilon': 0.2, 'gamma': 1e-07, 'kernel': 'poly'}, {'C': 1, 'epsilon': 0.2, 'gamma': 1e-07, 'kernel': 'sigmoid'}, {'C': 1, 'epsilon': 0.2, 'gamma': 0.0001, 'kernel': 'rbf'}, {'C': 1, 'epsilon': 0.2, 'gamma': 0.0001, 'kernel': 'poly'}, {'C': 1, 'epsilon': 0.2, 'gamma': 0.0001, 'kernel': 'sigmoid'}, {'C': 1, 'epsilon': 0.5, 'gamma': 1e-07, 'kernel': 'rbf'}, {'C': 1, 'epsilon': 0.5, 'gamma': 1e-07, 'kernel': 'poly'}, {'C': 1, 'epsilon': 0.5, 'gamma': 1e-07, 'kernel': 'sigmoid'}, {'C': 1, 'epsilon': 0.5, 'gamma': 0.0001, 'kernel': 'rbf'}, {'C': 1, 'epsilon': 0.5, 'gamma': 0.0001, 'kernel': 'poly'}, {'C': 1, 'epsilon': 0.5, 'gamma': 0.0001, 'kernel': 'sigmoid'}, {'C': 1, 'epsilon': 0.3, 'gamma': 1e-07, 'kernel': 'rbf'}, {'C': 1, 'epsilon': 0.3, 'gamma': 1e-07, 'kernel': 'poly'}, {'C': 1, 'epsilon': 0.3, 'gamma': 1e-07, 'kernel': 'sigmoid'}, {'C': 1, 'epsilon': 0.3, 'gamma': 0.0001, 'kernel': 'rbf'}, {'C': 1, 'epsilon': 0.3, 'gamma': 0.0001, 'kernel': 'poly'}, {'C': 1, 'epsilon': 0.3, 'gamma': 0.0001, 'kernel': 'sigmoid'}, {'C': 5, 'epsilon': 0.1, 'gamma': 1e-07, 'kernel': 'rbf'}, {'C': 5, 'epsilon': 0.1, 'gamma': 1e-07, 'kernel': 'poly'}, {'C': 5, 'epsilon': 0.1, 'gamma': 1e-07, 'kernel': 'sigmoid'}, {'C': 5, 'epsilon': 0.1, 'gamma': 0.0001, 'kernel': 'rbf'}, {'C': 5, 'epsilon': 0.1, 'gamma': 0.0001, 'kernel': 'poly'}, {'C': 5, 'epsilon': 0.1, 'gamma': 0.0001, 'kernel': 'sigmoid'}, {'C': 5, 'epsilon': 0.2, 'gamma': 1e-07, 'kernel': 'rbf'}, {'C': 5, 'epsilon': 0.2, 'gamma': 1e-07, 'kernel': 'poly'}, {'C': 5, 'epsilon': 0.2, 'gamma': 1e-07, 'kernel': 'sigmoid'}, {'C': 5, 'epsilon': 0.2, 'gamma': 0.0001, 'kernel': 'rbf'}, {'C': 5, 'epsilon': 0.2, 'gamma': 0.0001, 'kernel': 'poly'}, {'C': 5, 'epsilon': 0.2, 'gamma': 0.0001, 'kernel': 'sigmoid'}, {'C': 5, 'epsilon': 0.5, 'gamma': 1e-07, 'kernel': 'rbf'}, {'C': 5, 'epsilon': 0.5, 'gamma': 1e-07, 'kernel': 'poly'}, {'C': 5, 'epsilon': 0.5, 'gamma': 1e-07, 'kernel': 'sigmoid'}, {'C': 5, 'epsilon': 0.5, 'gamma': 0.0001, 'kernel': 'rbf'}, {'C': 5, 'epsilon': 0.5, 'gamma': 0.0001, 'kernel': 'poly'}, {'C': 5, 'epsilon': 0.5, 'gamma': 0.0001, 'kernel': 'sigmoid'}, {'C': 5, 'epsilon': 0.3, 'gamma': 1e-07, 'kernel': 'rbf'}, {'C': 5, 'epsilon': 0.3, 'gamma': 1e-07, 'kernel': 'poly'}, {'C': 5, 'epsilon': 0.3, 'gamma': 1e-07, 'kernel': 'sigmoid'}, {'C': 5, 'epsilon': 0.3, 'gamma': 0.0001, 'kernel': 'rbf'}, {'C': 5, 'epsilon': 0.3, 'gamma': 0.0001, 'kernel': 'poly'}, {'C': 5, 'epsilon': 0.3, 'gamma': 0.0001, 'kernel': 'sigmoid'}, {'C': 10, 'epsilon': 0.1, 'gamma': 1e-07, 'kernel': 'rbf'}, {'C': 10, 'epsilon': 0.1, 'gamma': 1e-07, 'kernel': 'poly'}, {'C': 10, 'epsilon': 0.1, 'gamma': 1e-07, 'kernel': 'sigmoid'}, {'C': 10, 'epsilon': 0.1, 'gamma': 0.0001, 'kernel': 'rbf'}, {'C': 10, 'epsilon': 0.1, 'gamma': 0.0001, 'kernel': 'poly'}, {'C': 10, 'epsilon': 0.1, 'gamma': 0.0001, 'kernel': 'sigmoid'}, {'C': 10, 'epsilon': 0.2, 'gamma': 1e-07, 'kernel': 'rbf'}, {'C': 10, 'epsilon': 0.2, 'gamma': 1e-07, 'kernel': 'poly'}, {'C': 10, 'epsilon': 0.2, 'gamma': 1e-07, 'kernel': 'sigmoid'}, {'C': 10, 'epsilon': 0.2, 'gamma': 0.0001, 'kernel': 'rbf'}, {'C': 10, 'epsilon': 0.2, 'gamma': 0.0001, 'kernel': 'poly'}, {'C': 10, 'epsilon': 0.2, 'gamma': 0.0001, 'kernel': 'sigmoid'}, {'C': 10, 'epsilon': 0.5, 'gamma': 1e-07, 'kernel': 'rbf'}, {'C': 10, 'epsilon': 0.5, 'gamma': 1e-07, 'kernel': 'poly'}, {'C': 10, 'epsilon': 0.5, 'gamma': 1e-07, 'kernel': 'sigmoid'}, {'C': 10, 'epsilon': 0.5, 'gamma': 0.0001, 'kernel': 'rbf'}, {'C': 10, 'epsilon': 0.5, 'gamma': 0.0001, 'kernel': 'poly'}, {'C': 10, 'epsilon': 0.5, 'gamma': 0.0001, 'kernel': 'sigmoid'}, {'C': 10, 'epsilon': 0.3, 'gamma': 1e-07, 'kernel': 'rbf'}, {'C': 10, 'epsilon': 0.3, 'gamma': 1e-07, 'kernel': 'poly'}, {'C': 10, 'epsilon': 0.3, 'gamma': 1e-07, 'kernel': 'sigmoid'}, {'C': 10, 'epsilon': 0.3, 'gamma': 0.0001, 'kernel': 'rbf'}, {'C': 10, 'epsilon': 0.3, 'gamma': 0.0001, 'kernel': 'poly'}, {'C': 10, 'epsilon': 0.3, 'gamma': 0.0001, 'kernel': 'sigmoid'}]\n",
      "{'mean_fit_time': array([0.0030001 , 0.00199986, 0.00233316, 0.00266671, 0.00200001,\n",
      "       0.00333341, 0.00299994, 0.00266671, 0.00299994, 0.00266663,\n",
      "       0.00166655, 0.00300002, 0.00333325, 0.00266663, 0.00266663,\n",
      "       0.00233348, 0.00266663, 0.00366664, 0.00299994, 0.0023334 ,\n",
      "       0.00333333, 0.00333325, 0.00866667, 0.00233348, 0.00266679,\n",
      "       0.00266671, 0.00366664, 0.00366664, 0.00200001, 0.00233348,\n",
      "       0.00266663, 0.00199993, 0.00333325, 0.00333325, 0.00233332,\n",
      "       0.00333325, 0.00233332, 0.00500011, 0.00333341, 0.00366672,\n",
      "       0.0023334 , 0.00566673, 0.00266671, 0.00266663, 0.00399987,\n",
      "       0.00333333, 0.00200001, 0.00266655, 0.00366672, 0.00299994,\n",
      "       0.01366679, 0.00566681, 0.00333333, 0.00366664, 0.00500003,\n",
      "       0.00333325, 0.00233348, 0.00400011, 0.00366656, 0.0030001 ,\n",
      "       0.00233332, 0.00300002, 0.00366664, 0.00266663, 0.00200001,\n",
      "       0.00399995, 0.00333333, 0.00266671, 0.00333341, 0.00333333,\n",
      "       0.00266663, 0.00333341]), 'std_fit_time': array([1.12391596e-07, 0.00000000e+00, 4.71370354e-04, 4.71370394e-04,\n",
      "       1.12391596e-07, 4.71482745e-04, 8.16534738e-04, 4.71370354e-04,\n",
      "       1.12391596e-07, 4.71314168e-04, 4.71370354e-04, 1.94667955e-07,\n",
      "       4.71426560e-04, 4.71314168e-04, 4.71314168e-04, 4.71482745e-04,\n",
      "       4.71482745e-04, 4.71370354e-04, 8.16534738e-04, 4.71370354e-04,\n",
      "       1.24725618e-03, 9.42853099e-04, 5.73486511e-03, 4.71482745e-04,\n",
      "       4.71426560e-04, 4.71370354e-04, 4.71370354e-04, 1.24719247e-03,\n",
      "       1.12391596e-07, 4.71314168e-04, 9.42628316e-04, 1.12391596e-07,\n",
      "       9.42853099e-04, 4.71426560e-04, 4.71426560e-04, 4.71426560e-04,\n",
      "       4.71426560e-04, 2.82855930e-03, 1.24710750e-03, 9.42684517e-04,\n",
      "       4.71538951e-04, 4.49692237e-03, 4.71538951e-04, 4.71314168e-04,\n",
      "       1.12391596e-07, 4.71538951e-04, 1.12391596e-07, 4.71426560e-04,\n",
      "       4.71426560e-04, 1.12391596e-07, 1.43834945e-02, 2.35696416e-03,\n",
      "       4.71538951e-04, 4.71370354e-04, 1.41416726e-03, 4.71426560e-04,\n",
      "       4.71314168e-04, 1.41433584e-03, 4.71482745e-04, 8.16340070e-04,\n",
      "       4.71426560e-04, 1.94667955e-07, 4.71370354e-04, 4.71314168e-04,\n",
      "       8.16437410e-04, 0.00000000e+00, 4.71538951e-04, 4.71370354e-04,\n",
      "       4.71314168e-04, 4.71538951e-04, 4.71482745e-04, 4.71482745e-04]), 'mean_score_time': array([0.00100001, 0.00100009, 0.0013334 , 0.00066662, 0.00099993,\n",
      "       0.00100001, 0.00133348, 0.00033331, 0.00133332, 0.00100001,\n",
      "       0.0006667 , 0.0013334 , 0.00100001, 0.00100001, 0.00100001,\n",
      "       0.00099993, 0.00099993, 0.00800006, 0.0013334 , 0.00300002,\n",
      "       0.00099993, 0.00133348, 0.00133332, 0.00099993, 0.00133324,\n",
      "       0.0006667 , 0.00133324, 0.0006667 , 0.00066662, 0.00133324,\n",
      "       0.00100001, 0.00100001, 0.0013334 , 0.00100017, 0.00066662,\n",
      "       0.0016667 , 0.00066662, 0.00099993, 0.00133332, 0.00099993,\n",
      "       0.00100001, 0.00099993, 0.00099993, 0.00100001, 0.00100009,\n",
      "       0.0013334 , 0.00066662, 0.00100001, 0.00133324, 0.00100009,\n",
      "       0.00199993, 0.00133332, 0.00100001, 0.00266671, 0.00133332,\n",
      "       0.00100009, 0.00133324, 0.00133332, 0.00166678, 0.00133324,\n",
      "       0.00133332, 0.0006667 , 0.00100001, 0.00199993, 0.00100001,\n",
      "       0.0013334 , 0.00100001, 0.00100001, 0.0013334 , 0.00099993,\n",
      "       0.00133332, 0.00133332]), 'std_score_time': array([1.12391596e-07, 1.12391596e-07, 4.71257962e-04, 4.71370354e-04,\n",
      "       0.00000000e+00, 1.12391596e-07, 4.71370354e-04, 4.71370354e-04,\n",
      "       4.71314168e-04, 8.16534738e-04, 4.71426560e-04, 4.71258002e-04,\n",
      "       1.12391596e-07, 1.12391596e-07, 1.12391596e-07, 0.00000000e+00,\n",
      "       0.00000000e+00, 9.89967656e-03, 4.71426560e-04, 3.55910308e-03,\n",
      "       0.00000000e+00, 4.71370354e-04, 4.71482745e-04, 0.00000000e+00,\n",
      "       4.71370354e-04, 4.71426560e-04, 4.71370354e-04, 4.71426560e-04,\n",
      "       4.71370354e-04, 4.71370354e-04, 1.12391596e-07, 1.12391596e-07,\n",
      "       4.71595137e-04, 1.94667955e-07, 4.71370354e-04, 4.71482745e-04,\n",
      "       4.71370354e-04, 0.00000000e+00, 4.71314168e-04, 8.16437402e-04,\n",
      "       1.12391596e-07, 0.00000000e+00, 0.00000000e+00, 1.12391596e-07,\n",
      "       2.24783192e-07, 4.71426560e-04, 4.71370354e-04, 1.12391596e-07,\n",
      "       4.71370354e-04, 2.24783192e-07, 8.16534738e-04, 4.71314168e-04,\n",
      "       1.12391596e-07, 1.69959675e-03, 4.71314168e-04, 1.12391596e-07,\n",
      "       4.71370354e-04, 4.71482745e-04, 4.71370354e-04, 4.71370354e-04,\n",
      "       4.71482745e-04, 4.71426560e-04, 1.12391596e-07, 8.16534738e-04,\n",
      "       1.12391596e-07, 4.71426560e-04, 1.12391596e-07, 1.12391596e-07,\n",
      "       4.71258002e-04, 0.00000000e+00, 4.71482745e-04, 4.71482745e-04]), 'param_C': masked_array(data=[1, 1, 1, 1, 1, 1, 1, 1, 1, 1, 1, 1, 1, 1, 1, 1, 1, 1,\n",
      "                   1, 1, 1, 1, 1, 1, 5, 5, 5, 5, 5, 5, 5, 5, 5, 5, 5, 5,\n",
      "                   5, 5, 5, 5, 5, 5, 5, 5, 5, 5, 5, 5, 10, 10, 10, 10, 10,\n",
      "                   10, 10, 10, 10, 10, 10, 10, 10, 10, 10, 10, 10, 10, 10,\n",
      "                   10, 10, 10, 10, 10],\n",
      "             mask=[False, False, False, False, False, False, False, False,\n",
      "                   False, False, False, False, False, False, False, False,\n",
      "                   False, False, False, False, False, False, False, False,\n",
      "                   False, False, False, False, False, False, False, False,\n",
      "                   False, False, False, False, False, False, False, False,\n",
      "                   False, False, False, False, False, False, False, False,\n",
      "                   False, False, False, False, False, False, False, False,\n",
      "                   False, False, False, False, False, False, False, False,\n",
      "                   False, False, False, False, False, False, False, False],\n",
      "       fill_value='?',\n",
      "            dtype=object), 'param_epsilon': masked_array(data=[0.1, 0.1, 0.1, 0.1, 0.1, 0.1, 0.2, 0.2, 0.2, 0.2, 0.2,\n",
      "                   0.2, 0.5, 0.5, 0.5, 0.5, 0.5, 0.5, 0.3, 0.3, 0.3, 0.3,\n",
      "                   0.3, 0.3, 0.1, 0.1, 0.1, 0.1, 0.1, 0.1, 0.2, 0.2, 0.2,\n",
      "                   0.2, 0.2, 0.2, 0.5, 0.5, 0.5, 0.5, 0.5, 0.5, 0.3, 0.3,\n",
      "                   0.3, 0.3, 0.3, 0.3, 0.1, 0.1, 0.1, 0.1, 0.1, 0.1, 0.2,\n",
      "                   0.2, 0.2, 0.2, 0.2, 0.2, 0.5, 0.5, 0.5, 0.5, 0.5, 0.5,\n",
      "                   0.3, 0.3, 0.3, 0.3, 0.3, 0.3],\n",
      "             mask=[False, False, False, False, False, False, False, False,\n",
      "                   False, False, False, False, False, False, False, False,\n",
      "                   False, False, False, False, False, False, False, False,\n",
      "                   False, False, False, False, False, False, False, False,\n",
      "                   False, False, False, False, False, False, False, False,\n",
      "                   False, False, False, False, False, False, False, False,\n",
      "                   False, False, False, False, False, False, False, False,\n",
      "                   False, False, False, False, False, False, False, False,\n",
      "                   False, False, False, False, False, False, False, False],\n",
      "       fill_value='?',\n",
      "            dtype=object), 'param_gamma': masked_array(data=[1e-07, 1e-07, 1e-07, 0.0001, 0.0001, 0.0001, 1e-07,\n",
      "                   1e-07, 1e-07, 0.0001, 0.0001, 0.0001, 1e-07, 1e-07,\n",
      "                   1e-07, 0.0001, 0.0001, 0.0001, 1e-07, 1e-07, 1e-07,\n",
      "                   0.0001, 0.0001, 0.0001, 1e-07, 1e-07, 1e-07, 0.0001,\n",
      "                   0.0001, 0.0001, 1e-07, 1e-07, 1e-07, 0.0001, 0.0001,\n",
      "                   0.0001, 1e-07, 1e-07, 1e-07, 0.0001, 0.0001, 0.0001,\n",
      "                   1e-07, 1e-07, 1e-07, 0.0001, 0.0001, 0.0001, 1e-07,\n",
      "                   1e-07, 1e-07, 0.0001, 0.0001, 0.0001, 1e-07, 1e-07,\n",
      "                   1e-07, 0.0001, 0.0001, 0.0001, 1e-07, 1e-07, 1e-07,\n",
      "                   0.0001, 0.0001, 0.0001, 1e-07, 1e-07, 1e-07, 0.0001,\n",
      "                   0.0001, 0.0001],\n",
      "             mask=[False, False, False, False, False, False, False, False,\n",
      "                   False, False, False, False, False, False, False, False,\n",
      "                   False, False, False, False, False, False, False, False,\n",
      "                   False, False, False, False, False, False, False, False,\n",
      "                   False, False, False, False, False, False, False, False,\n",
      "                   False, False, False, False, False, False, False, False,\n",
      "                   False, False, False, False, False, False, False, False,\n",
      "                   False, False, False, False, False, False, False, False,\n",
      "                   False, False, False, False, False, False, False, False],\n",
      "       fill_value='?',\n",
      "            dtype=object), 'param_kernel': masked_array(data=['rbf', 'poly', 'sigmoid', 'rbf', 'poly', 'sigmoid',\n",
      "                   'rbf', 'poly', 'sigmoid', 'rbf', 'poly', 'sigmoid',\n",
      "                   'rbf', 'poly', 'sigmoid', 'rbf', 'poly', 'sigmoid',\n",
      "                   'rbf', 'poly', 'sigmoid', 'rbf', 'poly', 'sigmoid',\n",
      "                   'rbf', 'poly', 'sigmoid', 'rbf', 'poly', 'sigmoid',\n",
      "                   'rbf', 'poly', 'sigmoid', 'rbf', 'poly', 'sigmoid',\n",
      "                   'rbf', 'poly', 'sigmoid', 'rbf', 'poly', 'sigmoid',\n",
      "                   'rbf', 'poly', 'sigmoid', 'rbf', 'poly', 'sigmoid',\n",
      "                   'rbf', 'poly', 'sigmoid', 'rbf', 'poly', 'sigmoid',\n",
      "                   'rbf', 'poly', 'sigmoid', 'rbf', 'poly', 'sigmoid',\n",
      "                   'rbf', 'poly', 'sigmoid', 'rbf', 'poly', 'sigmoid',\n",
      "                   'rbf', 'poly', 'sigmoid', 'rbf', 'poly', 'sigmoid'],\n",
      "             mask=[False, False, False, False, False, False, False, False,\n",
      "                   False, False, False, False, False, False, False, False,\n",
      "                   False, False, False, False, False, False, False, False,\n",
      "                   False, False, False, False, False, False, False, False,\n",
      "                   False, False, False, False, False, False, False, False,\n",
      "                   False, False, False, False, False, False, False, False,\n",
      "                   False, False, False, False, False, False, False, False,\n",
      "                   False, False, False, False, False, False, False, False,\n",
      "                   False, False, False, False, False, False, False, False],\n",
      "       fill_value='?',\n",
      "            dtype=object), 'params': [{'C': 1, 'epsilon': 0.1, 'gamma': 1e-07, 'kernel': 'rbf'}, {'C': 1, 'epsilon': 0.1, 'gamma': 1e-07, 'kernel': 'poly'}, {'C': 1, 'epsilon': 0.1, 'gamma': 1e-07, 'kernel': 'sigmoid'}, {'C': 1, 'epsilon': 0.1, 'gamma': 0.0001, 'kernel': 'rbf'}, {'C': 1, 'epsilon': 0.1, 'gamma': 0.0001, 'kernel': 'poly'}, {'C': 1, 'epsilon': 0.1, 'gamma': 0.0001, 'kernel': 'sigmoid'}, {'C': 1, 'epsilon': 0.2, 'gamma': 1e-07, 'kernel': 'rbf'}, {'C': 1, 'epsilon': 0.2, 'gamma': 1e-07, 'kernel': 'poly'}, {'C': 1, 'epsilon': 0.2, 'gamma': 1e-07, 'kernel': 'sigmoid'}, {'C': 1, 'epsilon': 0.2, 'gamma': 0.0001, 'kernel': 'rbf'}, {'C': 1, 'epsilon': 0.2, 'gamma': 0.0001, 'kernel': 'poly'}, {'C': 1, 'epsilon': 0.2, 'gamma': 0.0001, 'kernel': 'sigmoid'}, {'C': 1, 'epsilon': 0.5, 'gamma': 1e-07, 'kernel': 'rbf'}, {'C': 1, 'epsilon': 0.5, 'gamma': 1e-07, 'kernel': 'poly'}, {'C': 1, 'epsilon': 0.5, 'gamma': 1e-07, 'kernel': 'sigmoid'}, {'C': 1, 'epsilon': 0.5, 'gamma': 0.0001, 'kernel': 'rbf'}, {'C': 1, 'epsilon': 0.5, 'gamma': 0.0001, 'kernel': 'poly'}, {'C': 1, 'epsilon': 0.5, 'gamma': 0.0001, 'kernel': 'sigmoid'}, {'C': 1, 'epsilon': 0.3, 'gamma': 1e-07, 'kernel': 'rbf'}, {'C': 1, 'epsilon': 0.3, 'gamma': 1e-07, 'kernel': 'poly'}, {'C': 1, 'epsilon': 0.3, 'gamma': 1e-07, 'kernel': 'sigmoid'}, {'C': 1, 'epsilon': 0.3, 'gamma': 0.0001, 'kernel': 'rbf'}, {'C': 1, 'epsilon': 0.3, 'gamma': 0.0001, 'kernel': 'poly'}, {'C': 1, 'epsilon': 0.3, 'gamma': 0.0001, 'kernel': 'sigmoid'}, {'C': 5, 'epsilon': 0.1, 'gamma': 1e-07, 'kernel': 'rbf'}, {'C': 5, 'epsilon': 0.1, 'gamma': 1e-07, 'kernel': 'poly'}, {'C': 5, 'epsilon': 0.1, 'gamma': 1e-07, 'kernel': 'sigmoid'}, {'C': 5, 'epsilon': 0.1, 'gamma': 0.0001, 'kernel': 'rbf'}, {'C': 5, 'epsilon': 0.1, 'gamma': 0.0001, 'kernel': 'poly'}, {'C': 5, 'epsilon': 0.1, 'gamma': 0.0001, 'kernel': 'sigmoid'}, {'C': 5, 'epsilon': 0.2, 'gamma': 1e-07, 'kernel': 'rbf'}, {'C': 5, 'epsilon': 0.2, 'gamma': 1e-07, 'kernel': 'poly'}, {'C': 5, 'epsilon': 0.2, 'gamma': 1e-07, 'kernel': 'sigmoid'}, {'C': 5, 'epsilon': 0.2, 'gamma': 0.0001, 'kernel': 'rbf'}, {'C': 5, 'epsilon': 0.2, 'gamma': 0.0001, 'kernel': 'poly'}, {'C': 5, 'epsilon': 0.2, 'gamma': 0.0001, 'kernel': 'sigmoid'}, {'C': 5, 'epsilon': 0.5, 'gamma': 1e-07, 'kernel': 'rbf'}, {'C': 5, 'epsilon': 0.5, 'gamma': 1e-07, 'kernel': 'poly'}, {'C': 5, 'epsilon': 0.5, 'gamma': 1e-07, 'kernel': 'sigmoid'}, {'C': 5, 'epsilon': 0.5, 'gamma': 0.0001, 'kernel': 'rbf'}, {'C': 5, 'epsilon': 0.5, 'gamma': 0.0001, 'kernel': 'poly'}, {'C': 5, 'epsilon': 0.5, 'gamma': 0.0001, 'kernel': 'sigmoid'}, {'C': 5, 'epsilon': 0.3, 'gamma': 1e-07, 'kernel': 'rbf'}, {'C': 5, 'epsilon': 0.3, 'gamma': 1e-07, 'kernel': 'poly'}, {'C': 5, 'epsilon': 0.3, 'gamma': 1e-07, 'kernel': 'sigmoid'}, {'C': 5, 'epsilon': 0.3, 'gamma': 0.0001, 'kernel': 'rbf'}, {'C': 5, 'epsilon': 0.3, 'gamma': 0.0001, 'kernel': 'poly'}, {'C': 5, 'epsilon': 0.3, 'gamma': 0.0001, 'kernel': 'sigmoid'}, {'C': 10, 'epsilon': 0.1, 'gamma': 1e-07, 'kernel': 'rbf'}, {'C': 10, 'epsilon': 0.1, 'gamma': 1e-07, 'kernel': 'poly'}, {'C': 10, 'epsilon': 0.1, 'gamma': 1e-07, 'kernel': 'sigmoid'}, {'C': 10, 'epsilon': 0.1, 'gamma': 0.0001, 'kernel': 'rbf'}, {'C': 10, 'epsilon': 0.1, 'gamma': 0.0001, 'kernel': 'poly'}, {'C': 10, 'epsilon': 0.1, 'gamma': 0.0001, 'kernel': 'sigmoid'}, {'C': 10, 'epsilon': 0.2, 'gamma': 1e-07, 'kernel': 'rbf'}, {'C': 10, 'epsilon': 0.2, 'gamma': 1e-07, 'kernel': 'poly'}, {'C': 10, 'epsilon': 0.2, 'gamma': 1e-07, 'kernel': 'sigmoid'}, {'C': 10, 'epsilon': 0.2, 'gamma': 0.0001, 'kernel': 'rbf'}, {'C': 10, 'epsilon': 0.2, 'gamma': 0.0001, 'kernel': 'poly'}, {'C': 10, 'epsilon': 0.2, 'gamma': 0.0001, 'kernel': 'sigmoid'}, {'C': 10, 'epsilon': 0.5, 'gamma': 1e-07, 'kernel': 'rbf'}, {'C': 10, 'epsilon': 0.5, 'gamma': 1e-07, 'kernel': 'poly'}, {'C': 10, 'epsilon': 0.5, 'gamma': 1e-07, 'kernel': 'sigmoid'}, {'C': 10, 'epsilon': 0.5, 'gamma': 0.0001, 'kernel': 'rbf'}, {'C': 10, 'epsilon': 0.5, 'gamma': 0.0001, 'kernel': 'poly'}, {'C': 10, 'epsilon': 0.5, 'gamma': 0.0001, 'kernel': 'sigmoid'}, {'C': 10, 'epsilon': 0.3, 'gamma': 1e-07, 'kernel': 'rbf'}, {'C': 10, 'epsilon': 0.3, 'gamma': 1e-07, 'kernel': 'poly'}, {'C': 10, 'epsilon': 0.3, 'gamma': 1e-07, 'kernel': 'sigmoid'}, {'C': 10, 'epsilon': 0.3, 'gamma': 0.0001, 'kernel': 'rbf'}, {'C': 10, 'epsilon': 0.3, 'gamma': 0.0001, 'kernel': 'poly'}, {'C': 10, 'epsilon': 0.3, 'gamma': 0.0001, 'kernel': 'sigmoid'}], 'split0_test_score': array([-0.00056949, -0.0005933 , -0.00058158,  0.02254422, -0.00059328,\n",
      "        0.01101281, -0.0008537 , -0.00087746, -0.00086558,  0.0221953 ,\n",
      "       -0.00087744,  0.01096531, -0.00119284, -0.00121704, -0.00120494,\n",
      "        0.02241095, -0.00121702,  0.01076318, -0.00119272, -0.00121704,\n",
      "       -0.00120488,  0.02255298, -0.00121702,  0.01083004, -0.00047422,\n",
      "       -0.0005933 , -0.00053468,  0.10218306, -0.00059319,  0.05453661,\n",
      "       -0.00075866, -0.00087746, -0.00081806,  0.10257832, -0.00087734,\n",
      "        0.05513755, -0.00109607, -0.00121704, -0.00115655,  0.10278809,\n",
      "       -0.00121693,  0.05466716, -0.00109544, -0.00121704, -0.00115624,\n",
      "        0.10277562, -0.00121692,  0.05563115, -0.00035916, -0.0005933 ,\n",
      "       -0.00047606,  0.18227587, -0.00059307,  0.10258434, -0.00063989,\n",
      "       -0.00087746, -0.00075866,  0.18235539, -0.00087723,  0.10298418,\n",
      "       -0.00097512, -0.00121704, -0.00109607,  0.17680379, -0.00121681,\n",
      "        0.10302561, -0.00097386, -0.00121704, -0.00109544,  0.1791005 ,\n",
      "       -0.00121681,  0.10315614]), 'split1_test_score': array([-0.03631164, -0.03633855, -0.0363251 , -0.00664934, -0.03633852,\n",
      "       -0.02175833, -0.03630642, -0.03633855, -0.03632249, -0.0091287 ,\n",
      "       -0.03633852, -0.02218696, -0.03379879, -0.03382661, -0.03381269,\n",
      "       -0.00502624, -0.03382658, -0.020057  , -0.0337983 , -0.03382661,\n",
      "       -0.03381245, -0.00763754, -0.03382658, -0.01980185, -0.03620405,\n",
      "       -0.03633855, -0.03627131,  0.0963776 , -0.03633841,  0.03577773,\n",
      "       -0.03617792, -0.03633855, -0.03625826,  0.09662886, -0.03633842,\n",
      "        0.03402762, -0.03368755, -0.03382661, -0.03375704,  0.0913399 ,\n",
      "       -0.03382647,  0.03472073, -0.0336851 , -0.03382661, -0.03375584,\n",
      "        0.09799416, -0.03382647,  0.03304458, -0.03606959, -0.03633855,\n",
      "       -0.03620408,  0.18716359, -0.03633828,  0.09688455, -0.03601731,\n",
      "       -0.03633855, -0.03617797,  0.18480436, -0.0363383 ,  0.09711132,\n",
      "       -0.03354852, -0.03382661, -0.03368747,  0.18665766, -0.03382634,\n",
      "        0.09181055, -0.03354361, -0.03382661, -0.03368507,  0.18415996,\n",
      "       -0.03382633,  0.09861297]), 'split2_test_score': array([-0.02570592, -0.02572829, -0.0257171 , -0.00300887, -0.02572827,\n",
      "       -0.014631  , -0.02753711, -0.02756269, -0.0275499 , -0.00361742,\n",
      "       -0.02756267, -0.01502001, -0.02570759, -0.02572829, -0.02571794,\n",
      "       -0.00252057, -0.02572827, -0.0146326 , -0.02570298, -0.02572829,\n",
      "       -0.02571563, -0.00330194, -0.02572827, -0.01348724, -0.02561642,\n",
      "       -0.02572829, -0.02567235,  0.07885344, -0.02572819,  0.02985368,\n",
      "       -0.02743478, -0.02756269, -0.02749873,  0.07607538, -0.02756258,\n",
      "        0.0286633 , -0.02562479, -0.02572829, -0.02567655,  0.07508923,\n",
      "       -0.0257282 ,  0.02701589, -0.02560173, -0.02572829, -0.02566499,\n",
      "        0.07593148, -0.02572819,  0.03108033, -0.02550457, -0.02572829,\n",
      "       -0.02561641,  0.15133655, -0.02572808,  0.07921845, -0.0273069 ,\n",
      "       -0.02756269, -0.02743477,  0.15026814, -0.02756247,  0.07645519,\n",
      "       -0.02550458, -0.02572829, -0.02562481,  0.14854009, -0.02572811,\n",
      "        0.07546706, -0.02547519, -0.02572829, -0.02560169,  0.15003295,\n",
      "       -0.02572808,  0.07623887]), 'mean_test_score': array([-0.02086235, -0.02088671, -0.02087459,  0.00429534, -0.02088669,\n",
      "       -0.00845884, -0.02156574, -0.0215929 , -0.02157932,  0.00314973,\n",
      "       -0.02159287, -0.00874722, -0.02023308, -0.02025731, -0.02024519,\n",
      "        0.00495471, -0.02025729, -0.00797547, -0.02023133, -0.02025731,\n",
      "       -0.02024432,  0.00387117, -0.02025729, -0.00748635, -0.0207649 ,\n",
      "       -0.02088671, -0.02082611,  0.09247137, -0.0208866 ,  0.04005601,\n",
      "       -0.02145712, -0.0215929 , -0.02152501,  0.09176085, -0.02159278,\n",
      "        0.03927616, -0.02013614, -0.02025731, -0.02019671,  0.08973907,\n",
      "       -0.0202572 ,  0.03880126, -0.02012742, -0.02025731, -0.02019235,\n",
      "        0.09223375, -0.02025719,  0.03991869, -0.02064444, -0.02088671,\n",
      "       -0.02076552,  0.173592  , -0.02088648,  0.09289578, -0.02132136,\n",
      "       -0.0215929 , -0.02145713,  0.17247596, -0.02159266,  0.09218357,\n",
      "       -0.0200094 , -0.02025731, -0.02013612,  0.17066718, -0.02025709,\n",
      "        0.09010107, -0.01999755, -0.02025731, -0.0201274 ,  0.1710978 ,\n",
      "       -0.02025707,  0.09266933]), 'std_test_score': array([0.01498823, 0.01498914, 0.0149886 , 0.01298921, 0.01498913,\n",
      "       0.01407264, 0.01507684, 0.01507981, 0.01507833, 0.01365391,\n",
      "       0.01507981, 0.01424264, 0.01386277, 0.01386349, 0.01386313,\n",
      "       0.01238574, 0.01386349, 0.01343401, 0.01386206, 0.01386349,\n",
      "       0.01386278, 0.01332809, 0.01386349, 0.01320571, 0.01498462,\n",
      "       0.01498914, 0.01498646, 0.00991671, 0.01498913, 0.01052107,\n",
      "       0.01506497, 0.01507981, 0.0150724 , 0.01135413, 0.01507981,\n",
      "       0.01142751, 0.0138599 , 0.01386349, 0.01386168, 0.01136453,\n",
      "       0.01386349, 0.0116515 , 0.01385635, 0.01386349, 0.01385991,\n",
      "       0.01169155, 0.01386349, 0.01113929, 0.0149783 , 0.01498914,\n",
      "       0.01498379, 0.01586298, 0.01498913, 0.00994732, 0.01505015,\n",
      "       0.01507981, 0.01506499, 0.0157351 , 0.0150798 , 0.01137714,\n",
      "       0.0138541 , 0.01386349, 0.01385988, 0.0161551 , 0.01386349,\n",
      "       0.01131548, 0.0138492 , 0.01386349, 0.01385633, 0.01503763,\n",
      "       0.01386348, 0.01176521]), 'rank_test_score': array([53, 60, 54, 18, 57, 23, 65, 72, 66, 20, 69, 24, 34, 46, 36, 17, 42,\n",
      "       22, 33, 48, 35, 19, 41, 21, 50, 59, 52,  7, 56, 13, 62, 70, 64, 10,\n",
      "       68, 15, 30, 45, 32, 12, 40, 16, 28, 46, 31,  8, 39, 14, 49, 58, 51,\n",
      "        1, 55,  5, 61, 70, 63,  2, 67,  9, 26, 43, 29,  4, 38, 11, 25, 44,\n",
      "       27,  3, 37,  6])}\n",
      "--------------------\n"
     ]
    }
   ],
   "source": [
    "print('--- best_params_ ---')\n",
    "print(gridsearch.best_params_)\n",
    "print('--------------------')\n",
    "\n",
    "print('--- best_score_ ----')\n",
    "print(gridsearch.best_score_)\n",
    "print('--------------------')\n",
    "\n",
    "print('--- cv_results_ ----')\n",
    "print(gridsearch.cv_results_['params'])\n",
    "print(gridsearch.cv_results_)\n",
    "print('--------------------')"
   ]
  },
  {
   "cell_type": "code",
   "execution_count": 27,
   "metadata": {},
   "outputs": [
    {
     "name": "stdout",
     "output_type": "stream",
     "text": [
      "training time: 0:00:00.006000\n"
     ]
    }
   ],
   "source": [
    "svr = SVR(kernel='rbf', gamma= 0.0001, epsilon= 0.2, C= 10)\n",
    "\n",
    "start=datetime.now()\n",
    "svr.fit(X_train, y_train)\n",
    "print('training time:', datetime.now()-start)"
   ]
  },
  {
   "cell_type": "code",
   "execution_count": 28,
   "metadata": {},
   "outputs": [
    {
     "name": "stdout",
     "output_type": "stream",
     "text": [
      "[22.96895748]\n",
      "(single observation) prediction time: 0:00:00.001000\n",
      "24.8\n"
     ]
    }
   ],
   "source": [
    "start=datetime.now()\n",
    "print(svr.predict(X_test[1].reshape(1,-1)))\n",
    "print('(single observation) prediction time:', datetime.now()-start)\n",
    "\n",
    "print(y_test.iloc[1])"
   ]
  },
  {
   "cell_type": "code",
   "execution_count": 29,
   "metadata": {
    "code_folding": []
   },
   "outputs": [
    {
     "name": "stdout",
     "output_type": "stream",
     "text": [
      "R^2: 0.17081764691450696\n",
      "Adjusted R^2: 0.09270626582674313\n",
      "MAE: 6.225594616267996\n",
      "MSE: 86.5832812440266\n",
      "RMSE: 9.305013769147608\n"
     ]
    }
   ],
   "source": [
    "# test셋 가지고 모델 평가\n",
    "y_pred = svr.predict(X_test)\n",
    "\n",
    "print('R^2:', metrics.r2_score(y_test, y_pred))\n",
    "print('Adjusted R^2:', 1 - (1-metrics.r2_score(y_test, y_pred))\n",
    "      * (len(y_test)-1)/(len(y_test)-X_train.shape[1]-1))\n",
    "print('MAE:', metrics.mean_absolute_error(y_test, y_pred))\n",
    "print('MSE:', metrics.mean_squared_error(y_test, y_pred))\n",
    "print('RMSE:', np.sqrt(metrics.mean_squared_error(y_test, y_pred)))"
   ]
  },
  {
   "cell_type": "markdown",
   "metadata": {},
   "source": [
    "### 5.모델 배포 준비"
   ]
  },
  {
   "cell_type": "code",
   "execution_count": 30,
   "metadata": {},
   "outputs": [],
   "source": [
    "# Pickle로 serialize해서 모델 저장하기 (나중에 다시 predict 할 수 있게)\n",
    "filename = os.path.join('..','output', 'models', 'SVR_deploy.sav')  # filename = 'output/models/SVR_deploy.sav'\n",
    "pickle.dump(svr, open(filename, 'wb'))\n",
    "\n",
    "# https://machinelearningmastery.com/save-load-machine-learning-models-python-scikit-learn/\n",
    "# https://scikit-learn.org/stable/tutorial/basic/tutorial.html"
   ]
  },
  {
   "cell_type": "code",
   "execution_count": 31,
   "metadata": {},
   "outputs": [
    {
     "data": {
      "text/plain": [
       "array([22.96895748])"
      ]
     },
     "execution_count": 31,
     "metadata": {},
     "output_type": "execute_result"
    }
   ],
   "source": [
    "# 다시 load\n",
    "filename = os.path.join('..','output', 'models', 'SVR_deploy.sav')\n",
    "svr = pickle.load(open(filename, 'rb'))\n",
    "svr.predict(X_test[1].reshape(1, -1))"
   ]
  }
 ],
 "metadata": {
  "kernelspec": {
   "display_name": "Python 3",
   "language": "python",
   "name": "python3"
  },
  "language_info": {
   "codemirror_mode": {
    "name": "ipython",
    "version": 3
   },
   "file_extension": ".py",
   "mimetype": "text/x-python",
   "name": "python",
   "nbconvert_exporter": "python",
   "pygments_lexer": "ipython3",
   "version": "3.6.9"
  },
  "varInspector": {
   "cols": {
    "lenName": 16,
    "lenType": 16,
    "lenVar": 40
   },
   "kernels_config": {
    "python": {
     "delete_cmd_postfix": "",
     "delete_cmd_prefix": "del ",
     "library": "var_list.py",
     "varRefreshCmd": "print(var_dic_list())"
    },
    "r": {
     "delete_cmd_postfix": ") ",
     "delete_cmd_prefix": "rm(",
     "library": "var_list.r",
     "varRefreshCmd": "cat(var_dic_list()) "
    }
   },
   "types_to_exclude": [
    "module",
    "function",
    "builtin_function_or_method",
    "instance",
    "_Feature"
   ],
   "window_display": false
  }
 },
 "nbformat": 4,
 "nbformat_minor": 2
}
