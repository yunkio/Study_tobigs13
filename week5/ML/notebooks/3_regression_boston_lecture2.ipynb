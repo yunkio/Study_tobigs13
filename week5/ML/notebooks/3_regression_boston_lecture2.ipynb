{
 "cells": [
  {
   "cell_type": "markdown",
   "metadata": {},
   "source": [
    "## Boston 데이터셋 - 두번째 코딩\n",
    "- sklearn의 pipeline 모듈 활용\n",
    "- hyperopt 사용하기"
   ]
  },
  {
   "cell_type": "markdown",
   "metadata": {
    "heading_collapsed": true
   },
   "source": [
    "### 0.불러오기 등 준비"
   ]
  },
  {
   "cell_type": "code",
   "execution_count": 37,
   "metadata": {
    "hidden": true
   },
   "outputs": [
    {
     "name": "stdout",
     "output_type": "stream",
     "text": [
      "Ran on Jupyter Notebook\n",
      "3.6.9 |Anaconda, Inc.| (default, Jul 30 2019, 14:00:49) [MSC v.1915 64 bit (AMD64)]\n",
      "C:\\ProgramData\\Anaconda3\\python.exe\n",
      "C:\\Users\\Administrator\\Desktop\\D0123_make_lecture_for_tobigs\\D0210_실제로_코드_짜기\\notebooks\n"
     ]
    },
    {
     "data": {
      "text/html": [
       "<style>.container { width:100% !important; }</style>"
      ],
      "text/plain": [
       "<IPython.core.display.HTML object>"
      ]
     },
     "metadata": {},
     "output_type": "display_data"
    }
   ],
   "source": [
    "## 준비\n",
    "print('Ran on Jupyter Notebook')\n",
    "\n",
    "import sys \n",
    "print(sys.version) # 파이썬 버전 \n",
    "print(sys.executable) # 파이썬 위치\n",
    "import os\n",
    "print(os.getcwd()) # 폴더 위치\n",
    "\n",
    "import inspect\n",
    "import pixiedust\n",
    "from datetime import datetime\n",
    "\n",
    "from IPython.core.display import display, HTML # 셀이 화면 전체 채우도록 함\n",
    "display(HTML(\"<style>.container { width:100% !important; }</style>\"))"
   ]
  },
  {
   "cell_type": "code",
   "execution_count": 38,
   "metadata": {
    "hidden": true
   },
   "outputs": [],
   "source": [
    "## 자주 쓰는 모듈들\n",
    "import pandas as pd\n",
    "import numpy as np\n",
    "\n",
    "import sklearn\n",
    "from sklearn import datasets\n",
    "from sklearn.model_selection import GridSearchCV\n",
    "from sklearn.model_selection import RandomizedSearchCV\n",
    "from sklearn.model_selection import train_test_split\n",
    "from sklearn.model_selection import cross_val_score\n",
    "from sklearn import metrics\n",
    "\n",
    "%matplotlib inline\n",
    "import matplotlib.pyplot as plt\n",
    "import seaborn as sns\n",
    "color = sns.color_palette()\n",
    "sns.set_style('darkgrid')"
   ]
  },
  {
   "cell_type": "markdown",
   "metadata": {},
   "source": [
    "### 1. 핵심 모듈 및 데이터 불러오기 (Import Modules and Data)"
   ]
  },
  {
   "cell_type": "code",
   "execution_count": 49,
   "metadata": {},
   "outputs": [],
   "source": [
    "from sklearn.datasets import load_boston\n",
    "from sklearn.pipeline import Pipeline\n",
    "from joblib import Memory\n",
    "from shutil import rmtree\n",
    "\n",
    "from sklearn.linear_model import LinearRegression\n",
    "from sklearn.preprocessing import StandardScaler\n",
    "from sklearn.decomposition import PCA\n",
    "from sklearn.svm import SVR"
   ]
  },
  {
   "cell_type": "code",
   "execution_count": 40,
   "metadata": {},
   "outputs": [],
   "source": [
    "boston = load_boston()\n",
    "df_feat = pd.DataFrame(boston.data)\n",
    "df_feat.columns = boston.feature_names\n",
    "df_feat['PRICE'] = boston.target\n",
    "df = df_feat\n",
    "del df_feat "
   ]
  },
  {
   "cell_type": "markdown",
   "metadata": {},
   "source": [
    "### 2. 데이터 탐색"
   ]
  },
  {
   "cell_type": "code",
   "execution_count": 41,
   "metadata": {},
   "outputs": [
    {
     "data": {
      "text/html": [
       "<div>\n",
       "<style scoped>\n",
       "    .dataframe tbody tr th:only-of-type {\n",
       "        vertical-align: middle;\n",
       "    }\n",
       "\n",
       "    .dataframe tbody tr th {\n",
       "        vertical-align: top;\n",
       "    }\n",
       "\n",
       "    .dataframe thead th {\n",
       "        text-align: right;\n",
       "    }\n",
       "</style>\n",
       "<table border=\"1\" class=\"dataframe\">\n",
       "  <thead>\n",
       "    <tr style=\"text-align: right;\">\n",
       "      <th></th>\n",
       "      <th>CRIM</th>\n",
       "      <th>ZN</th>\n",
       "      <th>INDUS</th>\n",
       "      <th>CHAS</th>\n",
       "      <th>NOX</th>\n",
       "      <th>RM</th>\n",
       "      <th>AGE</th>\n",
       "      <th>DIS</th>\n",
       "      <th>RAD</th>\n",
       "      <th>TAX</th>\n",
       "      <th>PTRATIO</th>\n",
       "      <th>B</th>\n",
       "      <th>LSTAT</th>\n",
       "      <th>PRICE</th>\n",
       "    </tr>\n",
       "  </thead>\n",
       "  <tbody>\n",
       "    <tr>\n",
       "      <th>0</th>\n",
       "      <td>0.00632</td>\n",
       "      <td>18.0</td>\n",
       "      <td>2.31</td>\n",
       "      <td>0.0</td>\n",
       "      <td>0.538</td>\n",
       "      <td>6.575</td>\n",
       "      <td>65.2</td>\n",
       "      <td>4.0900</td>\n",
       "      <td>1.0</td>\n",
       "      <td>296.0</td>\n",
       "      <td>15.3</td>\n",
       "      <td>396.90</td>\n",
       "      <td>4.98</td>\n",
       "      <td>24.0</td>\n",
       "    </tr>\n",
       "    <tr>\n",
       "      <th>1</th>\n",
       "      <td>0.02731</td>\n",
       "      <td>0.0</td>\n",
       "      <td>7.07</td>\n",
       "      <td>0.0</td>\n",
       "      <td>0.469</td>\n",
       "      <td>6.421</td>\n",
       "      <td>78.9</td>\n",
       "      <td>4.9671</td>\n",
       "      <td>2.0</td>\n",
       "      <td>242.0</td>\n",
       "      <td>17.8</td>\n",
       "      <td>396.90</td>\n",
       "      <td>9.14</td>\n",
       "      <td>21.6</td>\n",
       "    </tr>\n",
       "    <tr>\n",
       "      <th>2</th>\n",
       "      <td>0.02729</td>\n",
       "      <td>0.0</td>\n",
       "      <td>7.07</td>\n",
       "      <td>0.0</td>\n",
       "      <td>0.469</td>\n",
       "      <td>7.185</td>\n",
       "      <td>61.1</td>\n",
       "      <td>4.9671</td>\n",
       "      <td>2.0</td>\n",
       "      <td>242.0</td>\n",
       "      <td>17.8</td>\n",
       "      <td>392.83</td>\n",
       "      <td>4.03</td>\n",
       "      <td>34.7</td>\n",
       "    </tr>\n",
       "    <tr>\n",
       "      <th>3</th>\n",
       "      <td>0.03237</td>\n",
       "      <td>0.0</td>\n",
       "      <td>2.18</td>\n",
       "      <td>0.0</td>\n",
       "      <td>0.458</td>\n",
       "      <td>6.998</td>\n",
       "      <td>45.8</td>\n",
       "      <td>6.0622</td>\n",
       "      <td>3.0</td>\n",
       "      <td>222.0</td>\n",
       "      <td>18.7</td>\n",
       "      <td>394.63</td>\n",
       "      <td>2.94</td>\n",
       "      <td>33.4</td>\n",
       "    </tr>\n",
       "    <tr>\n",
       "      <th>4</th>\n",
       "      <td>0.06905</td>\n",
       "      <td>0.0</td>\n",
       "      <td>2.18</td>\n",
       "      <td>0.0</td>\n",
       "      <td>0.458</td>\n",
       "      <td>7.147</td>\n",
       "      <td>54.2</td>\n",
       "      <td>6.0622</td>\n",
       "      <td>3.0</td>\n",
       "      <td>222.0</td>\n",
       "      <td>18.7</td>\n",
       "      <td>396.90</td>\n",
       "      <td>5.33</td>\n",
       "      <td>36.2</td>\n",
       "    </tr>\n",
       "  </tbody>\n",
       "</table>\n",
       "</div>"
      ],
      "text/plain": [
       "      CRIM    ZN  INDUS  CHAS    NOX     RM   AGE     DIS  RAD    TAX  \\\n",
       "0  0.00632  18.0   2.31   0.0  0.538  6.575  65.2  4.0900  1.0  296.0   \n",
       "1  0.02731   0.0   7.07   0.0  0.469  6.421  78.9  4.9671  2.0  242.0   \n",
       "2  0.02729   0.0   7.07   0.0  0.469  7.185  61.1  4.9671  2.0  242.0   \n",
       "3  0.03237   0.0   2.18   0.0  0.458  6.998  45.8  6.0622  3.0  222.0   \n",
       "4  0.06905   0.0   2.18   0.0  0.458  7.147  54.2  6.0622  3.0  222.0   \n",
       "\n",
       "   PTRATIO       B  LSTAT  PRICE  \n",
       "0     15.3  396.90   4.98   24.0  \n",
       "1     17.8  396.90   9.14   21.6  \n",
       "2     17.8  392.83   4.03   34.7  \n",
       "3     18.7  394.63   2.94   33.4  \n",
       "4     18.7  396.90   5.33   36.2  "
      ]
     },
     "metadata": {},
     "output_type": "display_data"
    }
   ],
   "source": [
    "display(df.head())"
   ]
  },
  {
   "cell_type": "markdown",
   "metadata": {},
   "source": [
    "### 3. 데이터 전처리 + 모델 선정, sklearn.pipeline 활용"
   ]
  },
  {
   "cell_type": "code",
   "execution_count": 42,
   "metadata": {},
   "outputs": [],
   "source": [
    "X = df.drop(['PRICE'], axis = 1)\n",
    "y = df['PRICE']\n",
    "\n",
    "X_train, X_test, y_train, y_test = train_test_split(X, y, test_size = 0.3, random_state = 4) #:D random_state seed 설정해서 다시 돌려도"
   ]
  },
  {
   "cell_type": "markdown",
   "metadata": {},
   "source": [
    "#### 3.1. 일단, 하이퍼 파라미터 튜닝 없이  +  Pipeline 활용"
   ]
  },
  {
   "cell_type": "code",
   "execution_count": 43,
   "metadata": {},
   "outputs": [],
   "source": [
    "svr_pipe = Pipeline(steps=[\n",
    "    ('sc', StandardScaler()), #:D tuple 앞 string은 지정하는 이름\n",
    "    ('svr',SVR()) \n",
    "])"
   ]
  },
  {
   "cell_type": "code",
   "execution_count": 44,
   "metadata": {},
   "outputs": [
    {
     "data": {
      "text/plain": [
       "0.5823120249781474"
      ]
     },
     "execution_count": 44,
     "metadata": {},
     "output_type": "execute_result"
    }
   ],
   "source": [
    "## 일단, 하이퍼 파라미터 튜닝 없이\n",
    "svr_pipe.fit(X_train, y_train) #:D 중간의 전처리 스텝들은 알아서 fit_transform이 이뤄짐\n",
    "cross_val_score(svr_pipe, X_train, y_train, cv=5, scoring = 'r2').mean()"
   ]
  },
  {
   "cell_type": "code",
   "execution_count": 45,
   "metadata": {},
   "outputs": [
    {
     "data": {
      "text/html": [
       "<div>\n",
       "<style scoped>\n",
       "    .dataframe tbody tr th:only-of-type {\n",
       "        vertical-align: middle;\n",
       "    }\n",
       "\n",
       "    .dataframe tbody tr th {\n",
       "        vertical-align: top;\n",
       "    }\n",
       "\n",
       "    .dataframe thead th {\n",
       "        text-align: right;\n",
       "    }\n",
       "</style>\n",
       "<table border=\"1\" class=\"dataframe\">\n",
       "  <thead>\n",
       "    <tr style=\"text-align: right;\">\n",
       "      <th></th>\n",
       "      <th>CRIM</th>\n",
       "      <th>ZN</th>\n",
       "      <th>INDUS</th>\n",
       "      <th>CHAS</th>\n",
       "      <th>NOX</th>\n",
       "      <th>RM</th>\n",
       "      <th>AGE</th>\n",
       "      <th>DIS</th>\n",
       "      <th>RAD</th>\n",
       "      <th>TAX</th>\n",
       "      <th>PTRATIO</th>\n",
       "      <th>B</th>\n",
       "      <th>LSTAT</th>\n",
       "    </tr>\n",
       "  </thead>\n",
       "  <tbody>\n",
       "    <tr>\n",
       "      <th>84</th>\n",
       "      <td>0.05059</td>\n",
       "      <td>0.0</td>\n",
       "      <td>4.49</td>\n",
       "      <td>0.0</td>\n",
       "      <td>0.449</td>\n",
       "      <td>6.389</td>\n",
       "      <td>48.0</td>\n",
       "      <td>4.7794</td>\n",
       "      <td>3.0</td>\n",
       "      <td>247.0</td>\n",
       "      <td>18.5</td>\n",
       "      <td>396.90</td>\n",
       "      <td>9.62</td>\n",
       "    </tr>\n",
       "    <tr>\n",
       "      <th>354</th>\n",
       "      <td>0.04301</td>\n",
       "      <td>80.0</td>\n",
       "      <td>1.91</td>\n",
       "      <td>0.0</td>\n",
       "      <td>0.413</td>\n",
       "      <td>5.663</td>\n",
       "      <td>21.9</td>\n",
       "      <td>10.5857</td>\n",
       "      <td>4.0</td>\n",
       "      <td>334.0</td>\n",
       "      <td>22.0</td>\n",
       "      <td>382.80</td>\n",
       "      <td>8.05</td>\n",
       "    </tr>\n",
       "    <tr>\n",
       "      <th>221</th>\n",
       "      <td>0.40771</td>\n",
       "      <td>0.0</td>\n",
       "      <td>6.20</td>\n",
       "      <td>1.0</td>\n",
       "      <td>0.507</td>\n",
       "      <td>6.164</td>\n",
       "      <td>91.3</td>\n",
       "      <td>3.0480</td>\n",
       "      <td>8.0</td>\n",
       "      <td>307.0</td>\n",
       "      <td>17.4</td>\n",
       "      <td>395.24</td>\n",
       "      <td>21.46</td>\n",
       "    </tr>\n",
       "  </tbody>\n",
       "</table>\n",
       "</div>"
      ],
      "text/plain": [
       "        CRIM    ZN  INDUS  CHAS    NOX     RM   AGE      DIS  RAD    TAX  \\\n",
       "84   0.05059   0.0   4.49   0.0  0.449  6.389  48.0   4.7794  3.0  247.0   \n",
       "354  0.04301  80.0   1.91   0.0  0.413  5.663  21.9  10.5857  4.0  334.0   \n",
       "221  0.40771   0.0   6.20   1.0  0.507  6.164  91.3   3.0480  8.0  307.0   \n",
       "\n",
       "     PTRATIO       B  LSTAT  \n",
       "84      18.5  396.90   9.62  \n",
       "354     22.0  382.80   8.05  \n",
       "221     17.4  395.24  21.46  "
      ]
     },
     "execution_count": 45,
     "metadata": {},
     "output_type": "execute_result"
    }
   ],
   "source": [
    "## X_train이 원래 상태 유지함을 확인\n",
    "pd.DataFrame(X_train).head(3)"
   ]
  },
  {
   "cell_type": "markdown",
   "metadata": {},
   "source": [
    "#### 3.2. PCA, GridSearchCV\n",
    "- https://scikit-learn.org/stable/tutorial/statistical_inference/putting_together.html"
   ]
  },
  {
   "cell_type": "markdown",
   "metadata": {},
   "source": [
    "##### 보충: 차원축소\n",
    "- 중요성\n",
    "- Scaling이 필요한 차워축소법"
   ]
  },
  {
   "cell_type": "code",
   "execution_count": 50,
   "metadata": {},
   "outputs": [],
   "source": [
    "location = 'cachedir'\n",
    "memory = Memory(location=location, verbose=10) #:D 캐쉬를 통해 파이프라인의 단계마다 transformer의 fit 결과를 저장하여 재사용\n",
    "# https://scikit-learn.org/stable/auto_examples/compose/plot_compare_reduction.html\n",
    "# https://tensorflow.blog/2017/12/08/pipeline%EC%97%90%EC%84%9C-%EC%BA%90%EC%8B%B1%EC%9D%84-%EC%82%AC%EC%9A%A9%ED%95%98%EA%B8%B0/\n",
    "# 전처리 단계가 복잡하고 많을 수록 캐싱의 시간 절감 효과는 큼\n",
    "\n",
    "svr_pipe = Pipeline(steps=[\n",
    "    ('sc', StandardScaler()),\n",
    "    ('pca', PCA()),\n",
    "    ('svr',SVR()) \n",
    "], memory = memory)"
   ]
  },
  {
   "cell_type": "code",
   "execution_count": 51,
   "metadata": {},
   "outputs": [
    {
     "name": "stdout",
     "output_type": "stream",
     "text": [
      "Fitting 3 folds for each of 10 candidates, totalling 30 fits\n"
     ]
    },
    {
     "name": "stderr",
     "output_type": "stream",
     "text": [
      "[Parallel(n_jobs=-1)]: Using backend LokyBackend with 8 concurrent workers.\n",
      "[Parallel(n_jobs=-1)]: Done   2 tasks      | elapsed:    1.6s\n",
      "[Parallel(n_jobs=-1)]: Done   9 tasks      | elapsed:    1.7s\n",
      "[Parallel(n_jobs=-1)]: Done  19 out of  30 | elapsed:    1.7s remaining:    1.0s\n",
      "[Parallel(n_jobs=-1)]: Done  23 out of  30 | elapsed:    1.7s remaining:    0.5s\n",
      "[Parallel(n_jobs=-1)]: Done  27 out of  30 | elapsed:    1.8s remaining:    0.1s\n",
      "[Parallel(n_jobs=-1)]: Done  30 out of  30 | elapsed:    1.8s finished\n"
     ]
    },
    {
     "name": "stdout",
     "output_type": "stream",
     "text": [
      "________________________________________________________________________________\n",
      "[Memory] Calling sklearn.pipeline._fit_transform_one...\n",
      "_fit_transform_one(StandardScaler(copy=True, with_mean=True, with_std=True),          CRIM    ZN  INDUS  CHAS    NOX     RM   AGE      DIS   RAD    TAX  \\\n",
      "84    0.05059   0.0   4.49   0.0  0.449  6.389  48.0   4.7794   3.0  247.0   \n",
      "354   0.04301  80.0   1.91   0.0  0.413  5.663  21.9  10.5857   4.0  334.0   \n",
      "221   0.40771   0.0   6.20   1.0  0.507  6.164  91.3   3.0480   8.0  307.0   \n",
      "34    1.61282   0.0   8.14   0.0  0.538  6.096  96.9   3.7598   4.0  307.0   \n",
      "267   0.57834  20.0   3.97   0.0  0.575  8.297  67.0   2.4216   5.0  264.0   \n",
      "..        ...   ...    ...   ...    ...    ...   ...      ...   ...    ...   \n",
      "385  16.81180   0.0  18.10   0.0  0.700  5.277  98.1   1.4261  24.0  666.0   \n",
      "197   0.04666  80.0   1.52   0.0  0.404  7.107  36.6   7.3090   2.0  329.0   \n",
      "439   9.39063   0.0  18.10   0.0  0.740  5.627  93.9   1.8172  24.0  666.0   \n",
      "174   0.08447   0.0   4.05   0.0  0.510  5.859  68.7   2.7019   5.0  296.0   \n",
      "122   0.09299   0.0  25.65   0.0  0.581  5.961  92.9   2.0869   2.0  188.0   \n",
      "\n",
      "     PTRATIO       B  LSTAT  \n",
      "84      18.5  396.90   9.62  \n",
      "354     22.0  382.80   8.05  \n",
      "221     17.4  395.24  21.46  \n",
      "34      21.0  248.31  20.34  \n",
      "267     13.0  384.54   7.44  \n",
      "..       ...     ...    ...  \n",
      "385     20.2  396.90  30.81  \n",
      "197     12.6  354.31   8.61  \n",
      "439     20.2  396.90  22.88  \n",
      "174     16.6  393.23   9.64  \n",
      "122     19.1  378.09  17.93  \n",
      "\n",
      "[354 rows x 13 columns], \n",
      "84     23.9\n",
      "354    18.2\n",
      "221    21.7\n",
      "34     13.5\n",
      "267    50.0\n",
      "       ... \n",
      "385     7.2\n",
      "197    30.3\n",
      "439    12.8\n",
      "174    22.6\n",
      "122    20.5\n",
      "Name: PRICE, Length: 354, dtype: float64, \n",
      "None, message_clsname='Pipeline', message=None)\n",
      "________________________________________________fit_transform_one - 0.0s, 0.0min\n",
      "________________________________________________________________________________\n",
      "[Memory] Calling sklearn.pipeline._fit_transform_one...\n",
      "_fit_transform_one(PCA(copy=True, iterated_power='auto', n_components=10, random_state=None,\n",
      "    svd_solver='auto', tol=0.0, whiten=False), \n",
      "array([[-0.425469, ..., -0.444819],\n",
      "       ...,\n",
      "       [-0.420686, ...,  0.728213]]), \n",
      "84     23.9\n",
      "354    18.2\n",
      "221    21.7\n",
      "34     13.5\n",
      "267    50.0\n",
      "       ... \n",
      "385     7.2\n",
      "197    30.3\n",
      "439    12.8\n",
      "174    22.6\n",
      "122    20.5\n",
      "Name: PRICE, Length: 354, dtype: float64, \n",
      "None, message_clsname='Pipeline', message=None)\n",
      "________________________________________________fit_transform_one - 0.0s, 0.0min\n"
     ]
    }
   ],
   "source": [
    "parameters = {\n",
    "    'pca__n_components': [3, 5, 10], #:D 전처리 하이퍼파라미터도 \n",
    "    \n",
    "    'svr__gamma': [1e-7, 1e-4],\n",
    "    'svr__epsilon':[0.1,0.2,0.5,0.3], \n",
    "    'svr__kernel':('rbf', 'poly', 'sigmoid'),\n",
    "    'svr__C': [1, 5, 10]\n",
    "}\n",
    "\n",
    "randomizedsearch = RandomizedSearchCV(svr_pipe, param_distributions  = parameters, cv = 3, scoring = 'r2',  n_jobs=-1, verbose = 10)\n",
    "randomizedsearch.fit(X_train, y_train)\n",
    "\n",
    "memory.clear(warn=False)\n",
    "rmtree(location) #  작업이 끝나고 난 뒤에는 임시 디렉토리를 지워줌"
   ]
  },
  {
   "cell_type": "code",
   "execution_count": 53,
   "metadata": {},
   "outputs": [
    {
     "name": "stdout",
     "output_type": "stream",
     "text": [
      "--- best_params_ ---\n",
      "{'svr__kernel': 'sigmoid', 'svr__gamma': 0.0001, 'svr__epsilon': 0.3, 'svr__C': 10, 'pca__n_components': 10}\n",
      "--------------------\n",
      "--- best_score_ ----\n",
      "0.09512827627588427\n",
      "--------------------\n"
     ]
    }
   ],
   "source": [
    "print('--- best_params_ ---')\n",
    "print(randomizedsearch.best_params_)\n",
    "print('--------------------')\n",
    "\n",
    "print('--- best_score_ ----')\n",
    "print(randomizedsearch.best_score_)\n",
    "print('--------------------')"
   ]
  },
  {
   "cell_type": "markdown",
   "metadata": {},
   "source": [
    "##### 보충: ColumnTransformer \n",
    "- 다른 형태의 열들을 각기 처리할 수 있음\n",
    "- FeatureUnion"
   ]
  }
 ],
 "metadata": {
  "kernelspec": {
   "display_name": "Python 3",
   "language": "python",
   "name": "python3"
  },
  "language_info": {
   "codemirror_mode": {
    "name": "ipython",
    "version": 3
   },
   "file_extension": ".py",
   "mimetype": "text/x-python",
   "name": "python",
   "nbconvert_exporter": "python",
   "pygments_lexer": "ipython3",
   "version": "3.6.9"
  },
  "varInspector": {
   "cols": {
    "lenName": 16,
    "lenType": 16,
    "lenVar": 40
   },
   "kernels_config": {
    "python": {
     "delete_cmd_postfix": "",
     "delete_cmd_prefix": "del ",
     "library": "var_list.py",
     "varRefreshCmd": "print(var_dic_list())"
    },
    "r": {
     "delete_cmd_postfix": ") ",
     "delete_cmd_prefix": "rm(",
     "library": "var_list.r",
     "varRefreshCmd": "cat(var_dic_list()) "
    }
   },
   "types_to_exclude": [
    "module",
    "function",
    "builtin_function_or_method",
    "instance",
    "_Feature"
   ],
   "window_display": false
  }
 },
 "nbformat": 4,
 "nbformat_minor": 2
}
