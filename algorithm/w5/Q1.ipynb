{
 "cells": [
  {
   "cell_type": "code",
   "execution_count": 70,
   "metadata": {},
   "outputs": [
    {
     "name": "stdin",
     "output_type": "stream",
     "text": [
      " potato kayak banana racecar\n"
     ]
    }
   ],
   "source": [
    "A = list(input().split())"
   ]
  },
  {
   "cell_type": "code",
   "execution_count": 71,
   "metadata": {},
   "outputs": [],
   "source": [
    "import itertools"
   ]
  },
  {
   "cell_type": "code",
   "execution_count": 72,
   "metadata": {},
   "outputs": [],
   "source": [
    "my_list = []\n",
    "for i in A:\n",
    "    my_letter = []\n",
    "    for j in i:\n",
    "        my_letter.append(ord(j))\n",
    "    my_list.append(my_letter)"
   ]
  },
  {
   "cell_type": "code",
   "execution_count": 74,
   "metadata": {},
   "outputs": [
    {
     "name": "stdout",
     "output_type": "stream",
     "text": [
      "0\n"
     ]
    }
   ],
   "source": [
    "score = [0]\n",
    "for L in range(2, len(my_list)+1):\n",
    "    for subset in itertools.combinations(my_list, L):\n",
    "        new_list=[]\n",
    "        old_len = 0\n",
    "        for i in subset:\n",
    "            old_len += len(i)\n",
    "            new_list += i\n",
    "        if len(set(new_list)) == old_len:\n",
    "            score.append(old_len)\n",
    "print(max(score))"
   ]
  },
  {
   "cell_type": "code",
   "execution_count": null,
   "metadata": {},
   "outputs": [],
   "source": []
  }
 ],
 "metadata": {
  "kernelspec": {
   "display_name": "Python 3",
   "language": "python",
   "name": "python3"
  },
  "language_info": {
   "codemirror_mode": {
    "name": "ipython",
    "version": 3
   },
   "file_extension": ".py",
   "mimetype": "text/x-python",
   "name": "python",
   "nbconvert_exporter": "python",
   "pygments_lexer": "ipython3",
   "version": "3.7.4"
  }
 },
 "nbformat": 4,
 "nbformat_minor": 4
}
