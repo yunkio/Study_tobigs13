{
 "cells": [
  {
   "cell_type": "code",
   "execution_count": 86,
   "metadata": {},
   "outputs": [
    {
     "name": "stdin",
     "output_type": "stream",
     "text": [
      " z???z\n"
     ]
    }
   ],
   "source": [
    "S = input()"
   ]
  },
  {
   "cell_type": "code",
   "execution_count": 87,
   "metadata": {},
   "outputs": [],
   "source": [
    "length=int(len(S) / 2)\n",
    "mylist = [ord(i) for i in S]"
   ]
  },
  {
   "cell_type": "code",
   "execution_count": 88,
   "metadata": {},
   "outputs": [],
   "source": [
    "for i in range(length+1):\n",
    "    if (mylist[i] == 63) & (mylist[-(i+1)] == 63) :\n",
    "        mylist[i] = 97\n",
    "        mylist[-(i+1)] = 97\n",
    "    elif mylist[i] == 63:\n",
    "        mylist[i] = mylist[-(i+1)]\n",
    "    elif mylist[-(i+1)] == 63:\n",
    "        mylist[-(i+1)] = mylist[i]"
   ]
  },
  {
   "cell_type": "code",
   "execution_count": 89,
   "metadata": {},
   "outputs": [
    {
     "name": "stdout",
     "output_type": "stream",
     "text": [
      "zaaaz\n"
     ]
    }
   ],
   "source": [
    "for i in range(length):\n",
    "    if mylist[i] != mylist[-(i+1)]:\n",
    "        print(\"NO\")\n",
    "        break\n",
    "    if i == length-1:\n",
    "        print(''.join([chr(i) for i in mylist]))"
   ]
  },
  {
   "cell_type": "code",
   "execution_count": null,
   "metadata": {},
   "outputs": [],
   "source": []
  }
 ],
 "metadata": {
  "kernelspec": {
   "display_name": "Python 3",
   "language": "python",
   "name": "python3"
  },
  "language_info": {
   "codemirror_mode": {
    "name": "ipython",
    "version": 3
   },
   "file_extension": ".py",
   "mimetype": "text/x-python",
   "name": "python",
   "nbconvert_exporter": "python",
   "pygments_lexer": "ipython3",
   "version": "3.7.3"
  }
 },
 "nbformat": 4,
 "nbformat_minor": 4
}
