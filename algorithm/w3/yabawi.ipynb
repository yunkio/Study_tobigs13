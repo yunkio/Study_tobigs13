{
 "cells": [
  {
   "cell_type": "code",
   "execution_count": 3,
   "metadata": {},
   "outputs": [
    {
     "name": "stdin",
     "output_type": "stream",
     "text": [
      " 5\n",
      " 1 2 2\n",
      " 3 1 2\n",
      " 3 2 1\n",
      " 2 1 3\n",
      " 2 2 1\n"
     ]
    }
   ],
   "source": [
    "N = int(input())\n",
    "a, b, x = [None]*N, [None]*N, [None]*N\n",
    "for i in range(N):\n",
    "    a[i], b[i], x[i] = map(int, input().split())"
   ]
  },
  {
   "cell_type": "code",
   "execution_count": 4,
   "metadata": {},
   "outputs": [
    {
     "name": "stdout",
     "output_type": "stream",
     "text": [
      "3\n"
     ]
    }
   ],
   "source": [
    "scores = []\n",
    "for i in range(3):\n",
    "    y = [0,0,0]\n",
    "    y[i] = 1\n",
    "    score = 0 \n",
    "    for j in range(N):\n",
    "        y[a[j]-1], y[b[j]-1] = y[b[j]-1], y[a[j]-1]\n",
    "        score += (y[x[j]-1] == 1)\n",
    "    scores.append(score)\n",
    "print(max(scores))"
   ]
  },
  {
   "cell_type": "code",
   "execution_count": null,
   "metadata": {},
   "outputs": [],
   "source": []
  }
 ],
 "metadata": {
  "kernelspec": {
   "display_name": "Python 3",
   "language": "python",
   "name": "python3"
  },
  "language_info": {
   "codemirror_mode": {
    "name": "ipython",
    "version": 3
   },
   "file_extension": ".py",
   "mimetype": "text/x-python",
   "name": "python",
   "nbconvert_exporter": "python",
   "pygments_lexer": "ipython3",
   "version": "3.7.3"
  }
 },
 "nbformat": 4,
 "nbformat_minor": 4
}
