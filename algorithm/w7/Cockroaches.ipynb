{
 "cells": [
  {
   "cell_type": "code",
   "execution_count": 65,
   "metadata": {},
   "outputs": [
    {
     "name": "stdin",
     "output_type": "stream",
     "text": [
      " 5\n",
      " bbbbb\n"
     ]
    }
   ],
   "source": [
    "n, cr = int(input()), [i for i in input()]"
   ]
  },
  {
   "cell_type": "code",
   "execution_count": 77,
   "metadata": {},
   "outputs": [],
   "source": [
    "cases = [([\"r\", \"b\"]*int(n/2+1))[0:n], ([\"b\", \"r\"]*int(n/2+1))[0:n]]"
   ]
  },
  {
   "cell_type": "code",
   "execution_count": 78,
   "metadata": {},
   "outputs": [],
   "source": [
    "ans = []\n",
    "for case in cases:\n",
    "    btor, rtob = 0, 0\n",
    "    for i in range(len(cr)):\n",
    "        if cr[i] != case[i] :\n",
    "            if cr[i] == \"r\" :\n",
    "                rtob += 1\n",
    "            else :\n",
    "                btor += 1\n",
    "    ans.append(min([rtob, btor]) + abs(rtob - btor))"
   ]
  },
  {
   "cell_type": "code",
   "execution_count": 79,
   "metadata": {},
   "outputs": [
    {
     "name": "stdout",
     "output_type": "stream",
     "text": [
      "2\n"
     ]
    }
   ],
   "source": [
    "print(min(ans))"
   ]
  }
 ],
 "metadata": {
  "kernelspec": {
   "display_name": "Python 3",
   "language": "python",
   "name": "python3"
  },
  "language_info": {
   "codemirror_mode": {
    "name": "ipython",
    "version": 3
   },
   "file_extension": ".py",
   "mimetype": "text/x-python",
   "name": "python",
   "nbconvert_exporter": "python",
   "pygments_lexer": "ipython3",
   "version": "3.7.3"
  }
 },
 "nbformat": 4,
 "nbformat_minor": 4
}
