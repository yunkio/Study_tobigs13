{
 "cells": [
  {
   "cell_type": "code",
   "execution_count": 77,
   "metadata": {},
   "outputs": [
    {
     "name": "stdin",
     "output_type": "stream",
     "text": [
      " 5\n",
      " (___)\n"
     ]
    }
   ],
   "source": [
    "_, string = input(), input().replace(\"(\", \")\").split(\")\")"
   ]
  },
  {
   "cell_type": "code",
   "execution_count": 95,
   "metadata": {},
   "outputs": [],
   "source": [
    "string_out, string_in = list(), list()\n",
    "for i in range(len(string)):\n",
    "    if i % 2 == 0:\n",
    "        string_out.extend(string[i].split(\"_\"))\n",
    "    else:\n",
    "        string_in.extend(string[i].split(\"_\"))"
   ]
  },
  {
   "cell_type": "code",
   "execution_count": 96,
   "metadata": {},
   "outputs": [],
   "source": [
    "string_out = [len(i) for i in string_out if len(i) > 0]\n",
    "string_in = [len(i) for i in string_in if len(i) > 0]\n",
    "if string_out == []: string_out = [0]\n",
    "if string_in == []: string_in = []"
   ]
  },
  {
   "cell_type": "code",
   "execution_count": 97,
   "metadata": {},
   "outputs": [
    {
     "name": "stdout",
     "output_type": "stream",
     "text": [
      "0 0\n"
     ]
    }
   ],
   "source": [
    "print(max(string_out), len(string_in))"
   ]
  }
 ],
 "metadata": {
  "kernelspec": {
   "display_name": "Python 3",
   "language": "python",
   "name": "python3"
  },
  "language_info": {
   "codemirror_mode": {
    "name": "ipython",
    "version": 3
   },
   "file_extension": ".py",
   "mimetype": "text/x-python",
   "name": "python",
   "nbconvert_exporter": "python",
   "pygments_lexer": "ipython3",
   "version": "3.7.4"
  }
 },
 "nbformat": 4,
 "nbformat_minor": 4
}
