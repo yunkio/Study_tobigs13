{
 "cells": [
  {
   "cell_type": "code",
   "execution_count": null,
   "metadata": {},
   "outputs": [],
   "source": [
    "N = int(input())\n",
    "words = [input() for i in range(N)]\n",
    "\n",
    "mydict = {}\n",
    "for word in words:\n",
    "    length = len(word)\n",
    "    for i in range(length):\n",
    "        if word[i] not in mydict:\n",
    "            mydict[word[i]] = 0\n",
    "        mydict[word[i]] += (10 ** (length - i - 1))\n",
    "\n",
    "mylist = [list(i) for i in sorted(mydict.items(), key=(lambda x:x[1]), reverse = True)]\n",
    "\n",
    "n = 9\n",
    "for i in mylist:    \n",
    "    i[1] = n\n",
    "    n -= 1\n",
    "    \n",
    "mydict = dict(mylist)\n",
    "\n",
    "value = 0\n",
    "for word in words:\n",
    "    length = len(word)\n",
    "    for i in range(length):\n",
    "        value += mydict.get(word[i]) * (10 ** (length - i - 1))\n",
    "        \n",
    "print(value)"
   ]
  }
 ],
 "metadata": {
  "kernelspec": {
   "display_name": "Python 3",
   "language": "python",
   "name": "python3"
  },
  "language_info": {
   "codemirror_mode": {
    "name": "ipython",
    "version": 3
   },
   "file_extension": ".py",
   "mimetype": "text/x-python",
   "name": "python",
   "nbconvert_exporter": "python",
   "pygments_lexer": "ipython3",
   "version": "3.7.4"
  }
 },
 "nbformat": 4,
 "nbformat_minor": 4
}
