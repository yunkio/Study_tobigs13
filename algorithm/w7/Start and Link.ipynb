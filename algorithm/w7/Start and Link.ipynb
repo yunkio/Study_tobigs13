{
 "cells": [
  {
   "cell_type": "code",
   "execution_count": null,
   "metadata": {},
   "outputs": [],
   "source": [
    "from itertools import combinations\n",
    "from itertools import permutations\n",
    "N = int(input())\n",
    "mylist = [list(map(int, input().split(\" \"))) for i in range(N)]\n",
    "combs = list(combinations(range(N), int(N/2)))\n",
    "length = int(len(combs)/2)\n",
    "combs1 = combs[0:length]\n",
    "combs2 = combs[length:]\n",
    "combs2 = combs2[::-1]\n",
    "result = 99999\n",
    "for i in range(len(combs1)):\n",
    "    score_1, score_2 = 0, 0\n",
    "    newcomb = permutations(combs1[i], 2)\n",
    "    for j in newcomb:\n",
    "        a,b = j\n",
    "        score_1 += mylist[a][b]\n",
    "    newcomb = permutations(combs2[i], 2)\n",
    "    for j in newcomb:\n",
    "        a,b = j\n",
    "        score_2 += mylist[a][b]\n",
    "    result = min(result, abs(score_1 - score_2))\n",
    "print(result)"
   ]
  }
 ],
 "metadata": {
  "kernelspec": {
   "display_name": "Python 3",
   "language": "python",
   "name": "python3"
  },
  "language_info": {
   "codemirror_mode": {
    "name": "ipython",
    "version": 3
   },
   "file_extension": ".py",
   "mimetype": "text/x-python",
   "name": "python",
   "nbconvert_exporter": "python",
   "pygments_lexer": "ipython3",
   "version": "3.7.4"
  }
 },
 "nbformat": 4,
 "nbformat_minor": 4
}
