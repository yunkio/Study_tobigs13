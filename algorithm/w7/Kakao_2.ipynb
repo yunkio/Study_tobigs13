{
 "cells": [
  {
   "cell_type": "code",
   "execution_count": 209,
   "metadata": {},
   "outputs": [
    {
     "name": "stdin",
     "output_type": "stream",
     "text": [
      " 10 3\n",
      " 1 4 1 5 9 2 6 5 3 5\n"
     ]
    }
   ],
   "source": [
    "N, K = map(int, input().split(\" \"))\n",
    "mylist = list(map(int, input().split(\" \")))"
   ]
  },
  {
   "cell_type": "code",
   "execution_count": 210,
   "metadata": {},
   "outputs": [],
   "source": [
    "variances = []\n",
    "ans = 100\n",
    "for k in list(range(K,N+1)):\n",
    "    for i in range(N-k+1):\n",
    "        A = mylist[i:i+k]\n",
    "        mean = sum(A) / k\n",
    "        mean2 = sum([a**2 for a in A]) / k\n",
    "        std = (mean2 - mean**2) ** 0.5\n",
    "        ans = min(std, ans)"
   ]
  },
  {
   "cell_type": "code",
   "execution_count": 211,
   "metadata": {},
   "outputs": [
    {
     "name": "stdout",
     "output_type": "stream",
     "text": [
      "0.9428090415820655\n"
     ]
    }
   ],
   "source": [
    "print(ans)"
   ]
  }
 ],
 "metadata": {
  "kernelspec": {
   "display_name": "Python 3",
   "language": "python",
   "name": "python3"
  },
  "language_info": {
   "codemirror_mode": {
    "name": "ipython",
    "version": 3
   },
   "file_extension": ".py",
   "mimetype": "text/x-python",
   "name": "python",
   "nbconvert_exporter": "python",
   "pygments_lexer": "ipython3",
   "version": "3.7.3"
  }
 },
 "nbformat": 4,
 "nbformat_minor": 4
}
