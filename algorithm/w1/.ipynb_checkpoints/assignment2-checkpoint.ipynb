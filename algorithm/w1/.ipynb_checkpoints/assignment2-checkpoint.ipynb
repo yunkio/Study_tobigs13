{
 "cells": [
  {
   "cell_type": "code",
   "execution_count": 5,
   "metadata": {},
   "outputs": [
    {
     "name": "stdin",
     "output_type": "stream",
     "text": [
      " 1 2 3 5\n",
      " 6 0 10 4\n",
      " 2 1 8 3\n"
     ]
    }
   ],
   "source": [
    "a,b,c = list(map(int, input().split())), list(map(int, input().split())), list(map(int, input().split()))"
   ]
  },
  {
   "cell_type": "code",
   "execution_count": 40,
   "metadata": {},
   "outputs": [],
   "source": [
    "def area(rec):\n",
    "    co = set()\n",
    "    for x in range(rec[0], rec[2]):\n",
    "        for y in range(rec[1], rec[3]):\n",
    "            co.add(tuple([x,y]))\n",
    "    return co"
   ]
  },
  {
   "cell_type": "code",
   "execution_count": 57,
   "metadata": {},
   "outputs": [
    {
     "name": "stdout",
     "output_type": "stream",
     "text": [
      "5\n"
     ]
    }
   ],
   "source": [
    "print(len(area(a) - area(b) - area(c)))"
   ]
  }
 ],
 "metadata": {
  "kernelspec": {
   "display_name": "Python 3",
   "language": "python",
   "name": "python3"
  },
  "language_info": {
   "codemirror_mode": {
    "name": "ipython",
    "version": 3
   },
   "file_extension": ".py",
   "mimetype": "text/x-python",
   "name": "python",
   "nbconvert_exporter": "python",
   "pygments_lexer": "ipython3",
   "version": "3.7.3"
  }
 },
 "nbformat": 4,
 "nbformat_minor": 4
}
