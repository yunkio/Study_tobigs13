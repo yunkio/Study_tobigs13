{
 "cells": [
  {
   "cell_type": "code",
   "execution_count": 1,
   "metadata": {},
   "outputs": [],
   "source": [
    "import random\n",
    "class MyDataLoader2:\n",
    "    def __init__(self, data1, data2):\n",
    "        # data1과 data2 크기는 같다고 가정합시다\n",
    "        self.size = len(data1) \n",
    "        self.data1 = data1\n",
    "        ###### BLANK ####\n",
    " \n",
    "    # __iter__에서는 나를 반환해주고 __next__에서는 for loop가\n",
    "    # 돌떄마다 인쇄하고 싶은 값을 리턴합니다.\n",
    "    def __iter__(self): \n",
    "        self.index = 0\n",
    "        return self\n",
    " \n",
    "    def __next__(self):\n",
    "        ##################\n",
    "        #data1과 data2를 더해서 리턴할 수 있는 iterator를 완성해주세요\n",
    "        ##################\n",
    "    def shuffle(self):\n",
    "        #########\n",
    "        # data1과 data2를 shuffle해주세요\n",
    "        #########\n",
    "    def make_square(self):\n",
    "        ######### \n",
    "        # data1과 data2의 값들을 다 제곱해주세요!\n",
    "        #########\n",
    "        "
   ]
  },
  {
   "cell_type": "code",
   "execution_count": null,
   "metadata": {},
   "outputs": [],
   "source": [
    "\n",
    "# data1과 data2 크기는 같다고 가정합시다\n",
    "loader = MyDataLoader([i for i in range(300)], [i for i in range(300)])\n",
    "loader.make_square() ## data1과 data2를 제곱할 수 있는 method를 완성해주세요!\n",
    "loader.shuffle()\n",
    "for i, x in enumerate(loader): # for loop 가 도니까 __iter__\n",
    "    print(\"{} : {}\".format(i,x)) # i번째 data1과 data2를 더한 값을 리턴하도록 만들어주세요!\n"
   ]
  }
 ],
 "metadata": {
  "kernel_info": {
   "name": "Untitled"
  },
  "kernelspec": {
   "display_name": "Python 3",
   "language": "python",
   "name": "python3"
  },
  "language_info": {
   "codemirror_mode": {
    "name": "ipython",
    "version": 3
   },
   "file_extension": ".py",
   "mimetype": "text/x-python",
   "name": "python",
   "nbconvert_exporter": "python",
   "pygments_lexer": "ipython3",
   "version": "3.7.4"
  }
 },
 "nbformat": 4,
 "nbformat_minor": 4
}
