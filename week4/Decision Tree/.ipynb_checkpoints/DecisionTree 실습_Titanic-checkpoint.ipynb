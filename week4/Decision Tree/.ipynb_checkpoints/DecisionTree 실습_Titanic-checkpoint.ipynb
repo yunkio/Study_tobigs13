{
 "cells": [
  {
   "cell_type": "code",
   "execution_count": 2,
   "metadata": {},
   "outputs": [],
   "source": [
    "import pandas as pd\n",
    "import numpy as np\n",
    "from sklearn.tree import DecisionTreeClassifier\n",
    "from sklearn.tree.export import export_text\n",
    "from sklearn.model_selection import train_test_split\n",
    "from sklearn.metrics import accuracy_score\n",
    "from sklearn.tree import export_graphviz"
   ]
  },
  {
   "cell_type": "markdown",
   "metadata": {},
   "source": [
    "# 데이터 준비"
   ]
  },
  {
   "cell_type": "code",
   "execution_count": 3,
   "metadata": {},
   "outputs": [],
   "source": [
    "df = pd.read_excel('titanic.xls')\n",
    "df.dropna(axis=0, inplace=True)\n",
    "X = df.loc[:, df.columns != \"survived\"]\n",
    "Y = df[\"survived\"]"
   ]
  },
  {
   "cell_type": "code",
   "execution_count": 4,
   "metadata": {},
   "outputs": [],
   "source": [
    "X[[\"1st_class\", \"2nd_class\", \"3rd_class\"]] = pd.get_dummies(X[\"pclass\"])\n",
    "X[[\"Female\",\"Male\"]] = pd.get_dummies(X[\"sex\"]) \n",
    "X[[\"C\", \"Q\", \"S\"]] = pd.get_dummies(X[\"embarked\"]) \n",
    "X = X[[\"1st_class\",\"2nd_class\",\"3rd_class\",\"Male\",\"C\",\"Q\",\"S\",\"age\",\"sibsp\",\"parch\",\"fare\"]]"
   ]
  },
  {
   "cell_type": "code",
   "execution_count": 5,
   "metadata": {},
   "outputs": [],
   "source": [
    "X_train, X_test, Y_train, Y_test = train_test_split(X, Y, test_size=0.3, random_state=77)"
   ]
  },
  {
   "cell_type": "markdown",
   "metadata": {},
   "source": [
    "# 트리 만들기"
   ]
  },
  {
   "cell_type": "markdown",
   "metadata": {},
   "source": [
    "파라미터 설명\n",
    "\n",
    "criterion : {“gini”, “entropy”}, default=”gini” <br> max_depth : int, default=None </br> min_samples_split : int or float, default=2 <br> min_samples_leaf : int or float, default=1 </br>\n",
    "\n",
    "기타 파라미터들 및 설명: https://scikit-learn.org/stable/modules/generated/sklearn.tree.DecisionTreeClassifier.html"
   ]
  },
  {
   "cell_type": "markdown",
   "metadata": {},
   "source": [
    "### 깊이 3"
   ]
  },
  {
   "cell_type": "code",
   "execution_count": 6,
   "metadata": {},
   "outputs": [],
   "source": [
    "titanic_tree = DecisionTreeClassifier(max_depth = 3, random_state=77)\n",
    "titanic_tree = titanic_tree.fit(X_train, Y_train)"
   ]
  },
  {
   "cell_type": "code",
   "execution_count": 7,
   "metadata": {},
   "outputs": [
    {
     "name": "stdout",
     "output_type": "stream",
     "text": [
      "|--- Male <= 0.50\n",
      "|   |--- 3rd_class <= 0.50\n",
      "|   |   |--- fare <= 26.12\n",
      "|   |   |   |--- class: 1\n",
      "|   |   |--- fare >  26.12\n",
      "|   |   |   |--- class: 1\n",
      "|   |--- 3rd_class >  0.50\n",
      "|   |   |--- fare <= 23.09\n",
      "|   |   |   |--- class: 1\n",
      "|   |   |--- fare >  23.09\n",
      "|   |   |   |--- class: 0\n",
      "|--- Male >  0.50\n",
      "|   |--- age <= 14.25\n",
      "|   |   |--- sibsp <= 2.50\n",
      "|   |   |   |--- class: 1\n",
      "|   |   |--- sibsp >  2.50\n",
      "|   |   |   |--- class: 0\n",
      "|   |--- age >  14.25\n",
      "|   |   |--- 1st_class <= 0.50\n",
      "|   |   |   |--- class: 0\n",
      "|   |   |--- 1st_class >  0.50\n",
      "|   |   |   |--- class: 0\n",
      "\n"
     ]
    }
   ],
   "source": [
    "r = export_text(titanic_tree, feature_names = list(X.columns))\n",
    "print(r)"
   ]
  },
  {
   "cell_type": "code",
   "execution_count": 8,
   "metadata": {},
   "outputs": [],
   "source": [
    "export_graphviz(decision_tree = titanic_tree,\n",
    "               out_file = \"tree_model.dot\",\n",
    "               feature_names = list(X.columns),\n",
    "               class_names = [\"dead\",\"survived\"])"
   ]
  },
  {
   "cell_type": "markdown",
   "metadata": {},
   "source": [
    "생성된 tree_model.dot 파일의 내용을\n",
    "\n",
    "http://www.webgraphviz.com/\n",
    "\n",
    "에 붙여넣기"
   ]
  },
  {
   "cell_type": "markdown",
   "metadata": {},
   "source": [
    "![a](depth3.png \"depth3\")"
   ]
  },
  {
   "cell_type": "code",
   "execution_count": 9,
   "metadata": {},
   "outputs": [
    {
     "name": "stdout",
     "output_type": "stream",
     "text": [
      "Accuracy: 0.8178\n"
     ]
    }
   ],
   "source": [
    "Y_pred_tr = titanic_tree.predict(X_train)\n",
    "print('Accuracy: %.4f' % accuracy_score(Y_train, Y_pred_tr))"
   ]
  },
  {
   "cell_type": "code",
   "execution_count": 10,
   "metadata": {},
   "outputs": [
    {
     "name": "stdout",
     "output_type": "stream",
     "text": [
      "Accuracy: 0.8083\n"
     ]
    }
   ],
   "source": [
    "Y_pred_test = titanic_tree.predict(X_test)\n",
    "print('Accuracy: %.4f' % accuracy_score(Y_test, Y_pred_test))"
   ]
  },
  {
   "cell_type": "markdown",
   "metadata": {},
   "source": [
    "### 깊이 10"
   ]
  },
  {
   "cell_type": "code",
   "execution_count": 11,
   "metadata": {},
   "outputs": [],
   "source": [
    "titanic_tree = DecisionTreeClassifier(max_depth = 10, random_state=77)\n",
    "titanic_tree = titanic_tree.fit(X_train, Y_train)"
   ]
  },
  {
   "cell_type": "code",
   "execution_count": 12,
   "metadata": {},
   "outputs": [],
   "source": [
    "export_graphviz(decision_tree = titanic_tree,\n",
    "               out_file = \"tree_model.dot\",\n",
    "               feature_names = list(X.columns),\n",
    "               class_names = [\"dead\",\"survived\"])"
   ]
  },
  {
   "cell_type": "markdown",
   "metadata": {},
   "source": [
    "![a](depth10.png \"depth10\")"
   ]
  },
  {
   "cell_type": "code",
   "execution_count": 13,
   "metadata": {},
   "outputs": [
    {
     "name": "stdout",
     "output_type": "stream",
     "text": [
      "Accuracy: 0.9466\n"
     ]
    }
   ],
   "source": [
    "Y_pred_tr = titanic_tree.predict(X_train)\n",
    "print('Accuracy: %.4f' % accuracy_score(Y_train, Y_pred_tr))"
   ]
  },
  {
   "cell_type": "code",
   "execution_count": 14,
   "metadata": {},
   "outputs": [
    {
     "name": "stdout",
     "output_type": "stream",
     "text": [
      "Accuracy: 0.7732\n"
     ]
    }
   ],
   "source": [
    "Y_pred_test = titanic_tree.predict(X_test)\n",
    "print('Accuracy: %.4f' % accuracy_score(Y_test, Y_pred_test))"
   ]
  },
  {
   "cell_type": "code",
   "execution_count": null,
   "metadata": {},
   "outputs": [],
   "source": []
  }
 ],
 "metadata": {
  "kernelspec": {
   "display_name": "Python 3",
   "language": "python",
   "name": "python3"
  },
  "language_info": {
   "codemirror_mode": {
    "name": "ipython",
    "version": 3
   },
   "file_extension": ".py",
   "mimetype": "text/x-python",
   "name": "python",
   "nbconvert_exporter": "python",
   "pygments_lexer": "ipython3",
   "version": "3.7.4"
  }
 },
 "nbformat": 4,
 "nbformat_minor": 4
}
