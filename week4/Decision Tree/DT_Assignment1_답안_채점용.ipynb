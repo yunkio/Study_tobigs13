{
 "cells": [
  {
   "cell_type": "markdown",
   "metadata": {},
   "source": [
    "# DT Assignment1"
   ]
  },
  {
   "cell_type": "markdown",
   "metadata": {},
   "source": [
    "# Data Loading"
   ]
  },
  {
   "cell_type": "code",
   "execution_count": 1,
   "metadata": {},
   "outputs": [],
   "source": [
    "import pandas as pd \n",
    "import numpy as np"
   ]
  },
  {
   "cell_type": "code",
   "execution_count": 2,
   "metadata": {
    "scrolled": true
   },
   "outputs": [],
   "source": [
    "pd_data = pd.read_csv('https://raw.githubusercontent.com/AugustLONG/ML01/master/01decisiontree/AllElectronics.csv')\n",
    "pd_data.drop(\"RID\",axis=1, inplace = True) #RID는 그냥 순서라서 삭제"
   ]
  },
  {
   "cell_type": "code",
   "execution_count": 3,
   "metadata": {},
   "outputs": [
    {
     "data": {
      "text/html": [
       "<div>\n",
       "<style scoped>\n",
       "    .dataframe tbody tr th:only-of-type {\n",
       "        vertical-align: middle;\n",
       "    }\n",
       "\n",
       "    .dataframe tbody tr th {\n",
       "        vertical-align: top;\n",
       "    }\n",
       "\n",
       "    .dataframe thead th {\n",
       "        text-align: right;\n",
       "    }\n",
       "</style>\n",
       "<table border=\"1\" class=\"dataframe\">\n",
       "  <thead>\n",
       "    <tr style=\"text-align: right;\">\n",
       "      <th></th>\n",
       "      <th>age</th>\n",
       "      <th>income</th>\n",
       "      <th>student</th>\n",
       "      <th>credit_rating</th>\n",
       "      <th>class_buys_computer</th>\n",
       "    </tr>\n",
       "  </thead>\n",
       "  <tbody>\n",
       "    <tr>\n",
       "      <th>0</th>\n",
       "      <td>youth</td>\n",
       "      <td>high</td>\n",
       "      <td>no</td>\n",
       "      <td>fair</td>\n",
       "      <td>no</td>\n",
       "    </tr>\n",
       "    <tr>\n",
       "      <th>1</th>\n",
       "      <td>youth</td>\n",
       "      <td>high</td>\n",
       "      <td>no</td>\n",
       "      <td>excellent</td>\n",
       "      <td>no</td>\n",
       "    </tr>\n",
       "    <tr>\n",
       "      <th>2</th>\n",
       "      <td>middle_aged</td>\n",
       "      <td>high</td>\n",
       "      <td>no</td>\n",
       "      <td>fair</td>\n",
       "      <td>yes</td>\n",
       "    </tr>\n",
       "    <tr>\n",
       "      <th>3</th>\n",
       "      <td>senior</td>\n",
       "      <td>medium</td>\n",
       "      <td>no</td>\n",
       "      <td>fair</td>\n",
       "      <td>yes</td>\n",
       "    </tr>\n",
       "    <tr>\n",
       "      <th>4</th>\n",
       "      <td>senior</td>\n",
       "      <td>low</td>\n",
       "      <td>yes</td>\n",
       "      <td>fair</td>\n",
       "      <td>yes</td>\n",
       "    </tr>\n",
       "    <tr>\n",
       "      <th>5</th>\n",
       "      <td>senior</td>\n",
       "      <td>low</td>\n",
       "      <td>yes</td>\n",
       "      <td>excellent</td>\n",
       "      <td>no</td>\n",
       "    </tr>\n",
       "    <tr>\n",
       "      <th>6</th>\n",
       "      <td>middle_aged</td>\n",
       "      <td>low</td>\n",
       "      <td>yes</td>\n",
       "      <td>excellent</td>\n",
       "      <td>yes</td>\n",
       "    </tr>\n",
       "    <tr>\n",
       "      <th>7</th>\n",
       "      <td>youth</td>\n",
       "      <td>medium</td>\n",
       "      <td>no</td>\n",
       "      <td>fair</td>\n",
       "      <td>no</td>\n",
       "    </tr>\n",
       "    <tr>\n",
       "      <th>8</th>\n",
       "      <td>youth</td>\n",
       "      <td>low</td>\n",
       "      <td>yes</td>\n",
       "      <td>fair</td>\n",
       "      <td>yes</td>\n",
       "    </tr>\n",
       "    <tr>\n",
       "      <th>9</th>\n",
       "      <td>senior</td>\n",
       "      <td>medium</td>\n",
       "      <td>yes</td>\n",
       "      <td>fair</td>\n",
       "      <td>yes</td>\n",
       "    </tr>\n",
       "    <tr>\n",
       "      <th>10</th>\n",
       "      <td>youth</td>\n",
       "      <td>medium</td>\n",
       "      <td>yes</td>\n",
       "      <td>excellent</td>\n",
       "      <td>yes</td>\n",
       "    </tr>\n",
       "    <tr>\n",
       "      <th>11</th>\n",
       "      <td>middle_aged</td>\n",
       "      <td>medium</td>\n",
       "      <td>no</td>\n",
       "      <td>excellent</td>\n",
       "      <td>yes</td>\n",
       "    </tr>\n",
       "    <tr>\n",
       "      <th>12</th>\n",
       "      <td>middle_aged</td>\n",
       "      <td>high</td>\n",
       "      <td>yes</td>\n",
       "      <td>fair</td>\n",
       "      <td>yes</td>\n",
       "    </tr>\n",
       "    <tr>\n",
       "      <th>13</th>\n",
       "      <td>senior</td>\n",
       "      <td>medium</td>\n",
       "      <td>no</td>\n",
       "      <td>excellent</td>\n",
       "      <td>no</td>\n",
       "    </tr>\n",
       "  </tbody>\n",
       "</table>\n",
       "</div>"
      ],
      "text/plain": [
       "            age  income student credit_rating class_buys_computer\n",
       "0         youth    high      no          fair                  no\n",
       "1         youth    high      no     excellent                  no\n",
       "2   middle_aged    high      no          fair                 yes\n",
       "3        senior  medium      no          fair                 yes\n",
       "4        senior     low     yes          fair                 yes\n",
       "5        senior     low     yes     excellent                  no\n",
       "6   middle_aged     low     yes     excellent                 yes\n",
       "7         youth  medium      no          fair                  no\n",
       "8         youth     low     yes          fair                 yes\n",
       "9        senior  medium     yes          fair                 yes\n",
       "10        youth  medium     yes     excellent                 yes\n",
       "11  middle_aged  medium      no     excellent                 yes\n",
       "12  middle_aged    high     yes          fair                 yes\n",
       "13       senior  medium      no     excellent                  no"
      ]
     },
     "execution_count": 3,
     "metadata": {},
     "output_type": "execute_result"
    }
   ],
   "source": [
    "pd_data"
   ]
  },
  {
   "cell_type": "code",
   "execution_count": 4,
   "metadata": {},
   "outputs": [],
   "source": [
    "df1 = pd.DataFrame({\"age\" : [\"baby\", \"baby\", \"baby\", \"baby\"],\n",
    "                   \"income\" : [\"high\", \"high\", \"medium\", \"low\"],\n",
    "                   \"student\" : [\"no\", \"yes\", \"no\", \"yes\"],\n",
    "                   \"credit_rating\" : [\"fair\", \"excellent\", \"fair\", \"fair\"],\n",
    "                   \"class_buys_computer\" : [\"no\", \"no\", \"no\", \"no\"]})"
   ]
  },
  {
   "cell_type": "code",
   "execution_count": 5,
   "metadata": {},
   "outputs": [],
   "source": [
    "pd_data = pd_data.append(df1)"
   ]
  },
  {
   "cell_type": "markdown",
   "metadata": {},
   "source": [
    "# 1. Gini 계수를 구하는 함수 만들기"
   ]
  },
  {
   "cell_type": "markdown",
   "metadata": {},
   "source": [
    "- Input: df(데이터), label(타겟변수명)\n",
    "- 해당 결과는 아래와 같이 나와야 합니다."
   ]
  },
  {
   "cell_type": "code",
   "execution_count": 6,
   "metadata": {},
   "outputs": [],
   "source": [
    "def get_gini(df, label):\n",
    "    value_list = list(df[label].value_counts()) # 타겟변수의 각 클래스를 가진 행의 갯수\n",
    "    gini_d = np.array([(value_list[value] / sum(value_list)) for value in range(len(value_list))]) # 각 클래스의 지니계수\n",
    "    gini = 1 - sum(gini_d**2) # 총 지니계수\n",
    "    return gini"
   ]
  },
  {
   "cell_type": "code",
   "execution_count": 7,
   "metadata": {},
   "outputs": [
    {
     "data": {
      "text/plain": [
       "0.5"
      ]
     },
     "execution_count": 7,
     "metadata": {},
     "output_type": "execute_result"
    }
   ],
   "source": [
    "get_gini(pd_data,'class_buys_computer')"
   ]
  },
  {
   "cell_type": "markdown",
   "metadata": {},
   "source": [
    "# 2. Feature의 Class를 이진 분류로 만들기\n",
    " ## ex) {A,B,C} -> ({A}, {B,C}), ({B}, {A,C}), ({C}, {A,B})"
   ]
  },
  {
   "cell_type": "markdown",
   "metadata": {},
   "source": [
    "- Input: df(데이터), attribute(Gini index를 구하고자 하는 변수명)\n",
    "- 해당 결과는 아래와 같이 나와야 합니다."
   ]
  },
  {
   "cell_type": "code",
   "execution_count": 8,
   "metadata": {},
   "outputs": [],
   "source": [
    "import itertools # 변수의 모든 클래시 조합을 얻기 위해 itertools 불러오기\n",
    "def get_binary_split(df, attribute):\n",
    "    classes = list(pd.unique(df[attribute])) # 클래스를 리스트로 받아옴\n",
    "    result = [] \n",
    "    for L in range(0, len(classes)+1): # 0개부터 L개 까지의 조합을 얻기 위한 for문\n",
    "        for subset in itertools.combinations(classes, L): # L개의 원소로 이루어진 클래스의 부분집합\n",
    "            result.append(list(subset))\n",
    "    if len(classes) == 1:\n",
    "        return(classes)\n",
    "    return result[1:-1] "
   ]
  },
  {
   "cell_type": "code",
   "execution_count": 9,
   "metadata": {},
   "outputs": [
    {
     "data": {
      "text/plain": [
       "[['youth'],\n",
       " ['middle_aged'],\n",
       " ['senior'],\n",
       " ['baby'],\n",
       " ['youth', 'middle_aged'],\n",
       " ['youth', 'senior'],\n",
       " ['youth', 'baby'],\n",
       " ['middle_aged', 'senior'],\n",
       " ['middle_aged', 'baby'],\n",
       " ['senior', 'baby'],\n",
       " ['youth', 'middle_aged', 'senior'],\n",
       " ['youth', 'middle_aged', 'baby'],\n",
       " ['youth', 'senior', 'baby'],\n",
       " ['middle_aged', 'senior', 'baby']]"
      ]
     },
     "execution_count": 9,
     "metadata": {},
     "output_type": "execute_result"
    }
   ],
   "source": [
    "get_binary_split(pd_data, \"age\")"
   ]
  },
  {
   "cell_type": "markdown",
   "metadata": {},
   "source": [
    "# 3. 다음은 모든 이진분류의 경우의 Gini index를 구하는 함수 만들기\n",
    "- 위에서 완성한 두 함수를 사용하여 만들어주세요!\n",
    "- 해당 결과는 아래와 같이 나와야 합니다."
   ]
  },
  {
   "cell_type": "code",
   "execution_count": 10,
   "metadata": {},
   "outputs": [],
   "source": [
    "def get_attribute_gini_index(df, attribute, label):\n",
    "    binary = get_binary_split(df, attribute)\n",
    "    if len(binary) > 1 : \n",
    "        classes = list(pd.unique(df[attribute]))\n",
    "        class_list=list()\n",
    "        g=list()\n",
    "        for i in binary : \n",
    "            gini_d1 = df.loc[df[attribute].isin(i)] # 해당 클래스 조합에 속한 클래스를 가진 데이터들\n",
    "            gini_d2 = df.loc[~df[attribute].isin(i)] # 위의 것을 제외한 데이터들\n",
    "            gini = (get_gini(gini_d1, label) * len(gini_d1) / len(df)) + (get_gini(gini_d2, label) * len(gini_d2) / len(df)) # 지니계수 계산\n",
    "            class_list.append(tuple(i))\n",
    "            g.append(gini)\n",
    "        result = dict(zip(class_list,g)) # 딕셔너리 형태로 내보내기\n",
    "    else : \n",
    "        result = dict(zip(pd.unique(df[attribute]), [0.5])) # class가 한개로 이루어진 변수의 경우 지니계수가 의미가 없으므로 0.5 반환\n",
    "    return result"
   ]
  },
  {
   "cell_type": "code",
   "execution_count": 11,
   "metadata": {},
   "outputs": [
    {
     "data": {
      "text/plain": [
       "{('youth',): 0.49230769230769234,\n",
       " ('middle_aged',): 0.3571428571428571,\n",
       " ('senior',): 0.49230769230769234,\n",
       " ('baby',): 0.3571428571428571,\n",
       " ('youth', 'middle_aged'): 0.4444444444444444,\n",
       " ('youth', 'senior'): 0.5,\n",
       " ('youth', 'baby'): 0.345679012345679,\n",
       " ('middle_aged', 'senior'): 0.345679012345679,\n",
       " ('middle_aged', 'baby'): 0.5,\n",
       " ('senior', 'baby'): 0.4444444444444444,\n",
       " ('youth', 'middle_aged', 'senior'): 0.3571428571428571,\n",
       " ('youth', 'middle_aged', 'baby'): 0.49230769230769234,\n",
       " ('youth', 'senior', 'baby'): 0.3571428571428571,\n",
       " ('middle_aged', 'senior', 'baby'): 0.49230769230769234}"
      ]
     },
     "execution_count": 11,
     "metadata": {},
     "output_type": "execute_result"
    }
   ],
   "source": [
    "get_attribute_gini_index(pd_data, \"age\", \"class_buys_computer\")"
   ]
  },
  {
   "cell_type": "markdown",
   "metadata": {},
   "source": [
    "여기서 가장 작은 Gini index값을 가지는 class를 기준으로 split해야겠죠?"
   ]
  },
  {
   "cell_type": "code",
   "execution_count": 12,
   "metadata": {},
   "outputs": [
    {
     "name": "stdout",
     "output_type": "stream",
     "text": [
      "Min - ('youth', 'baby') : 0.345679012345679\n"
     ]
    }
   ],
   "source": [
    "my_dict = get_attribute_gini_index(pd_data, \"age\", \"class_buys_computer\")\n",
    "key_min = min(my_dict.keys(), key=(lambda k: my_dict[k]))\n",
    "print('Min -',key_min, \":\", my_dict[key_min])"
   ]
  },
  {
   "cell_type": "markdown",
   "metadata": {},
   "source": [
    "# 다음의 문제를 위에서 작성한 함수를 통해 구한 값으로 보여주세요!\n",
    "## 문제1) 변수 ‘income’의 이진분류 결과를 보여주세요.\n",
    "\n",
    "## 문제2) 분류를 하는 데 가장 중요한 변수를 선정하고, 해당 변수의 Gini index를 제시해주세요.\n",
    "\n",
    "## 문제3) 문제 2에서 제시한 feature로 DataFrame을 split한 후 나눠진 2개의 DataFrame에서 각각   다음으로 중요한 변수를 선정하고 해당 변수의 Gini index를 제시해주세요."
   ]
  },
  {
   "cell_type": "code",
   "execution_count": 10,
   "metadata": {},
   "outputs": [
    {
     "data": {
      "text/plain": [
       "[['high'],\n",
       " ['medium'],\n",
       " ['low'],\n",
       " ['high', 'medium'],\n",
       " ['high', 'low'],\n",
       " ['medium', 'low']]"
      ]
     },
     "execution_count": 10,
     "metadata": {},
     "output_type": "execute_result"
    }
   ],
   "source": [
    "##문제1 답안\n",
    "get_binary_split(pd_data, \"income\")"
   ]
  },
  {
   "cell_type": "code",
   "execution_count": 11,
   "metadata": {},
   "outputs": [
    {
     "name": "stdout",
     "output_type": "stream",
     "text": [
      "age:\n",
      "(('middle_aged',), 0.35714285714285715)\n",
      "income:\n",
      "(('high',), 0.44285714285714284)\n",
      "student:\n",
      "(('no',), 0.3673469387755103)\n",
      "credit_rating:\n",
      "(('excellent',), 0.42857142857142855)\n"
     ]
    }
   ],
   "source": [
    "##문제2 답안\n",
    "columns = list(pd_data)[:-1] # 타겟변수를 제외한 변수의 이름 받기\n",
    "for i in columns: \n",
    "    print(i + \":\")\n",
    "    print(min(get_attribute_gini_index(pd_data, i, \"class_buys_computer\").items()))\n",
    "\n",
    "## age가 가장 낮은 Gini index를 가지고 있으므로 age가 가장 중요한 변수이며, Gini index는 0.4429이다."
   ]
  },
  {
   "cell_type": "code",
   "execution_count": 13,
   "metadata": {
    "scrolled": true
   },
   "outputs": [
    {
     "name": "stdout",
     "output_type": "stream",
     "text": [
      "age:\n",
      "('middle_aged', 1.0)\n",
      "income:\n",
      "(('high',), 0.0)\n",
      "student:\n",
      "(('no',), 0.0)\n",
      "credit_rating:\n",
      "(('excellent',), 0.0)\n"
     ]
    }
   ],
   "source": [
    "##문제3 답안\n",
    "pd_data_middle = pd_data.loc[pd_data[\"age\"] == \"middle_aged\"]\n",
    "for i in columns:\n",
    "    print(i + \":\")\n",
    "    print(min(get_attribute_gini_index(pd_data_middle, i, \"class_buys_computer\").items()))\n",
    "#age가 middle_aged인 경우 타겟 변수인 class_buys_computer의 값이 모두 yes로 일정하기 때문에 다른 변수들이 의미없다."
   ]
  },
  {
   "cell_type": "code",
   "execution_count": 15,
   "metadata": {
    "scrolled": true
   },
   "outputs": [
    {
     "name": "stdout",
     "output_type": "stream",
     "text": [
      "age:\n",
      "(('senior',), 0.48)\n",
      "income:\n",
      "(('high',), 0.375)\n",
      "student:\n",
      "(('no',), 0.31999999999999984)\n",
      "credit_rating:\n",
      "(('excellent',), 0.41666666666666663)\n"
     ]
    }
   ],
   "source": [
    "pd_data_notmiddle = pd_data.loc[pd_data[\"age\"] != \"middle_aged\"]\n",
    "columns = list(pd_data)[:-1]\n",
    "for i in columns:\n",
    "    print(i + \":\")\n",
    "    print(min(get_attribute_gini_index(pd_data_notmiddle, i, \"class_buys_computer\").items()))\n",
    "#age가 senior 혹은 youth일 경우 student가 중요한 변수이며, 지니계수는 0.32 이다."
   ]
  },
  {
   "cell_type": "code",
   "execution_count": null,
   "metadata": {},
   "outputs": [],
   "source": []
  }
 ],
 "metadata": {
  "kernelspec": {
   "display_name": "Python 3",
   "language": "python",
   "name": "python3"
  },
  "language_info": {
   "codemirror_mode": {
    "name": "ipython",
    "version": 3
   },
   "file_extension": ".py",
   "mimetype": "text/x-python",
   "name": "python",
   "nbconvert_exporter": "python",
   "pygments_lexer": "ipython3",
   "version": "3.7.3"
  }
 },
 "nbformat": 4,
 "nbformat_minor": 4
}
