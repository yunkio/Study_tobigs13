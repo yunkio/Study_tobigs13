{
 "cells": [
  {
   "cell_type": "markdown",
   "metadata": {},
   "source": [
    "# DT Assignment1"
   ]
  },
  {
   "cell_type": "markdown",
   "metadata": {},
   "source": [
    "# Data Loading"
   ]
  },
  {
   "cell_type": "code",
   "execution_count": 1,
   "metadata": {},
   "outputs": [],
   "source": [
    "import pandas as pd \n",
    "import numpy as np"
   ]
  },
  {
   "cell_type": "code",
   "execution_count": 2,
   "metadata": {
    "scrolled": true
   },
   "outputs": [],
   "source": [
    "pd_data = pd.read_csv('https://raw.githubusercontent.com/AugustLONG/ML01/master/01decisiontree/AllElectronics.csv')\n",
    "pd_data.drop(\"RID\",axis=1, inplace = True) #RID는 그냥 순서라서 삭제"
   ]
  },
  {
   "cell_type": "code",
   "execution_count": 3,
   "metadata": {},
   "outputs": [],
   "source": [
    "df1 = pd.DataFrame({\"age\" : [\"baby\", \"baby\", \"baby\", \"baby\"],\n",
    "                   \"income\" : [\"high\", \"high\", \"medium\", \"low\"],\n",
    "                   \"student\" : [\"no\", \"yes\", \"no\", \"yes\"],\n",
    "                   \"credit_rating\" : [\"fair\", \"excellent\", \"fair\", \"fair\"],\n",
    "                   \"class_buys_computer\" : [\"no\", \"no\", \"no\", \"no\"]})"
   ]
  },
  {
   "cell_type": "code",
   "execution_count": 4,
   "metadata": {},
   "outputs": [],
   "source": [
    "pd_data = pd_data.append(df1, ignore_index=True)"
   ]
  },
  {
   "cell_type": "markdown",
   "metadata": {},
   "source": [
    "# 1. Gini 계수를 구하는 함수 만들기"
   ]
  },
  {
   "cell_type": "markdown",
   "metadata": {},
   "source": [
    "- Input: df(데이터), label(타겟변수명)\n",
    "- 해당 결과는 아래와 같이 나와야 합니다."
   ]
  },
  {
   "cell_type": "code",
   "execution_count": 46,
   "metadata": {},
   "outputs": [],
   "source": [
    "\n",
    "def get_gini(df, label):\n",
    "   \n",
    "    # 타겟변수의 gini 구하기\n",
    "    target_class = list(df[label].unique())\n",
    "    \n",
    "    target_yes = len(df[df[label]==target_class[0]])\n",
    "    target_no = len(df[df[label]!=target_class[0]])\n",
    "    p = target_yes/len(df[label])\n",
    "    q = 1-p\n",
    "    \n",
    "    gini = 1 - p**2-q**2\n",
    "    \n",
    "    return  gini"
   ]
  },
  {
   "cell_type": "code",
   "execution_count": 47,
   "metadata": {},
   "outputs": [
    {
     "data": {
      "text/plain": [
       "0.5"
      ]
     },
     "execution_count": 47,
     "metadata": {},
     "output_type": "execute_result"
    }
   ],
   "source": [
    "get_gini(pd_data,'class_buys_computer')"
   ]
  },
  {
   "cell_type": "markdown",
   "metadata": {},
   "source": [
    "# 2. Feature의 Class를 이진 분류로 만들기\n",
    " ## ex) {A,B,C} -> ({A}, {B,C}), ({B}, {A,C}), ({C}, {A,B})"
   ]
  },
  {
   "cell_type": "markdown",
   "metadata": {},
   "source": [
    "- Input: df(데이터), attribute(Gini index를 구하고자 하는 변수명)\n",
    "- 해당 결과는 아래와 같이 나와야 합니다."
   ]
  },
  {
   "cell_type": "code",
   "execution_count": 48,
   "metadata": {},
   "outputs": [],
   "source": [
    "\n",
    "import itertools # 변수의 모든 클래스 조합을 얻기 위해 itertools 불러오기\n",
    "\n",
    "# 클래스가 4개 이상일 때\n",
    "\n",
    "def get_binary_split(df,attribute):\n",
    "    \n",
    "    pool = df[attribute].unique()     # 변수의 클래스를 pool로 받음\n",
    "    result = list()\n",
    "    \n",
    "    for i in range(0,len(pool)+1):\n",
    "        result.extend(list(map(list,itertools.combinations(pool,i))))\n",
    "    \n",
    "    return result[1:-1]"
   ]
  },
  {
   "cell_type": "code",
   "execution_count": 49,
   "metadata": {},
   "outputs": [
    {
     "data": {
      "text/plain": [
       "[['youth'],\n",
       " ['middle_aged'],\n",
       " ['senior'],\n",
       " ['baby'],\n",
       " ['youth', 'middle_aged'],\n",
       " ['youth', 'senior'],\n",
       " ['youth', 'baby'],\n",
       " ['middle_aged', 'senior'],\n",
       " ['middle_aged', 'baby'],\n",
       " ['senior', 'baby'],\n",
       " ['youth', 'middle_aged', 'senior'],\n",
       " ['youth', 'middle_aged', 'baby'],\n",
       " ['youth', 'senior', 'baby'],\n",
       " ['middle_aged', 'senior', 'baby']]"
      ]
     },
     "execution_count": 49,
     "metadata": {},
     "output_type": "execute_result"
    }
   ],
   "source": [
    "get_binary_split(pd_data, \"age\")"
   ]
  },
  {
   "cell_type": "markdown",
   "metadata": {},
   "source": [
    "# 3. 다음은 모든 이진분류의 경우의 Gini index를 구하는 함수 만들기\n",
    "- 위에서 완성한 두 함수를 사용하여 만들어주세요!\n",
    "- 해당 결과는 아래와 같이 나와야 합니다."
   ]
  },
  {
   "cell_type": "code",
   "execution_count": 52,
   "metadata": {},
   "outputs": [],
   "source": [
    "def get_attribute_gini_index(df, attribute, label):\n",
    "    # get_attribute_gini_index(pd_data, \"age\", \"class_buys_computer\")\n",
    "    \n",
    "    class_values = list(df[attribute].unique())    # ('youth','middle_age','senior')\n",
    "    key = get_binary_split(df,attribute)\n",
    "    gini = list()\n",
    "    \n",
    "    for i in range(0,len(class_values)):\n",
    "        D1 = len(df[df[attribute]==class_values[i]])/len(df)\n",
    "        D2 = 1-D1\n",
    "        # get_gini도 이용해서 gini 계산\n",
    "        gini = D1 * get_gini(df[df[attribute]==class_values[i]],label) + D2 * get_gini(df[df[attribute]!=class_values[i]],label) \n",
    "        print(gini)\n",
    "    \n",
    "    result = dict(zip(key,gini)) \n",
    "    \n",
    "    return result"
   ]
  },
  {
   "cell_type": "code",
   "execution_count": 53,
   "metadata": {},
   "outputs": [
    {
     "name": "stdout",
     "output_type": "stream",
     "text": [
      "4\n",
      "0.49230769230769234\n",
      "4\n",
      "0.3571428571428571\n",
      "4\n",
      "0.49230769230769234\n",
      "4\n",
      "0.35714285714285726\n"
     ]
    },
    {
     "ename": "TypeError",
     "evalue": "zip argument #2 must support iteration",
     "output_type": "error",
     "traceback": [
      "\u001b[1;31m---------------------------------------------------------------------------\u001b[0m",
      "\u001b[1;31mTypeError\u001b[0m                                 Traceback (most recent call last)",
      "\u001b[1;32m<ipython-input-53-701f839b9f71>\u001b[0m in \u001b[0;36m<module>\u001b[1;34m\u001b[0m\n\u001b[1;32m----> 1\u001b[1;33m \u001b[0mget_attribute_gini_index\u001b[0m\u001b[1;33m(\u001b[0m\u001b[0mpd_data\u001b[0m\u001b[1;33m,\u001b[0m \u001b[1;34m\"age\"\u001b[0m\u001b[1;33m,\u001b[0m \u001b[1;34m\"class_buys_computer\"\u001b[0m\u001b[1;33m)\u001b[0m\u001b[1;33m\u001b[0m\u001b[1;33m\u001b[0m\u001b[0m\n\u001b[0m",
      "\u001b[1;32m<ipython-input-52-b45678888bd0>\u001b[0m in \u001b[0;36mget_attribute_gini_index\u001b[1;34m(df, attribute, label)\u001b[0m\n\u001b[0;32m     14\u001b[0m         \u001b[0mprint\u001b[0m\u001b[1;33m(\u001b[0m\u001b[0mgini\u001b[0m\u001b[1;33m)\u001b[0m\u001b[1;33m\u001b[0m\u001b[1;33m\u001b[0m\u001b[0m\n\u001b[0;32m     15\u001b[0m \u001b[1;33m\u001b[0m\u001b[0m\n\u001b[1;32m---> 16\u001b[1;33m     \u001b[0mresult\u001b[0m \u001b[1;33m=\u001b[0m \u001b[0mdict\u001b[0m\u001b[1;33m(\u001b[0m\u001b[0mzip\u001b[0m\u001b[1;33m(\u001b[0m\u001b[0mkey\u001b[0m\u001b[1;33m,\u001b[0m\u001b[0mgini\u001b[0m\u001b[1;33m)\u001b[0m\u001b[1;33m)\u001b[0m\u001b[1;33m\u001b[0m\u001b[1;33m\u001b[0m\u001b[0m\n\u001b[0m\u001b[0;32m     17\u001b[0m \u001b[1;33m\u001b[0m\u001b[0m\n\u001b[0;32m     18\u001b[0m     \u001b[1;32mreturn\u001b[0m \u001b[0mresult\u001b[0m\u001b[1;33m\u001b[0m\u001b[1;33m\u001b[0m\u001b[0m\n",
      "\u001b[1;31mTypeError\u001b[0m: zip argument #2 must support iteration"
     ]
    }
   ],
   "source": [
    "get_attribute_gini_index(pd_data, \"age\", \"class_buys_computer\")"
   ]
  },
  {
   "cell_type": "markdown",
   "metadata": {},
   "source": [
    "{('youth',): 0.49230769230769234,\n",
    "\n",
    " ('middle_aged',): 0.3571428571428571,\n",
    " \n",
    " ('senior',): 0.49230769230769234,\n",
    " \n",
    " ('baby',): 0.3571428571428571,\n",
    " \n",
    " ('youth', 'middle_aged'): 0.4444444444444444,\n",
    " \n",
    " ('youth', 'senior'): 0.5,\n",
    " \n",
    " ('youth', 'baby'): 0.345679012345679,\n",
    " \n",
    " ('middle_aged', 'senior'): 0.345679012345679,\n",
    " \n",
    " ('middle_aged', 'baby'): 0.5,\n",
    " \n",
    " ('senior', 'baby'): 0.4444444444444444,\n",
    " \n",
    " ('youth', 'middle_aged', 'senior'): 0.3571428571428571,\n",
    " \n",
    " ('youth', 'middle_aged', 'baby'): 0.49230769230769234,\n",
    " \n",
    " ('youth', 'senior', 'baby'): 0.3571428571428571,\n",
    " \n",
    " ('middle_aged', 'senior', 'baby'): 0.49230769230769234}"
   ]
  },
  {
   "cell_type": "markdown",
   "metadata": {},
   "source": [
    "여기서 가장 작은 Gini index값을 가지는 class를 기준으로 split해야겠죠?"
   ]
  },
  {
   "cell_type": "code",
   "execution_count": 13,
   "metadata": {},
   "outputs": [
    {
     "name": "stdout",
     "output_type": "stream",
     "text": [
      "Min - ('youth', 'baby') : 0.345679012345679\n"
     ]
    }
   ],
   "source": [
    "\n",
    "my_dict = get_attribute_gini_index(pd_data, \"age\", \"class_buys_computer\")\n",
    "key_min = min(my_dict.keys(), key=(lambda k: my_dict[k]))\n",
    "print('Min -',key_min, \":\", my_dict[key_min])"
   ]
  },
  {
   "cell_type": "markdown",
   "metadata": {},
   "source": [
    "Min - ('youth', 'baby') : 0.345679012345679"
   ]
  },
  {
   "cell_type": "markdown",
   "metadata": {},
   "source": [
    "# 다음의 문제를 위에서 작성한 함수를 통해 구한 값으로 보여주세요!\n",
    "## 문제1) 변수 ‘income’의 이진분류 결과를 보여주세요.\n",
    "\n",
    "## 문제2) 분류를 하는 데 가장 중요한 변수를 선정하고, 해당 변수의 Gini index를 제시해주세요.\n",
    "\n",
    "## 문제3) 문제 2에서 제시한 feature로 DataFrame을 split한 후 나눠진 2개의 DataFrame에서 각각   다음으로 중요한 변수를 선정하고 해당 변수의 Gini index를 제시해주세요."
   ]
  },
  {
   "cell_type": "code",
   "execution_count": 204,
   "metadata": {},
   "outputs": [
    {
     "data": {
      "text/plain": [
       "[['medium'],\n",
       " ['high'],\n",
       " ['low'],\n",
       " ['medium', 'high'],\n",
       " ['medium', 'low'],\n",
       " ['high', 'low']]"
      ]
     },
     "execution_count": 204,
     "metadata": {},
     "output_type": "execute_result"
    }
   ],
   "source": [
    "##문제1 답안\n",
    "get_binary_split(pd_data, \"income\")\n",
    "\n",
    "# high로 나누는게 제일 좋다."
   ]
  },
  {
   "cell_type": "code",
   "execution_count": 205,
   "metadata": {},
   "outputs": [
    {
     "name": "stdout",
     "output_type": "stream",
     "text": [
      "age:\n",
      "(('baby',), 0.3571428571428571)\n",
      "income:\n",
      "(('high',), 0.4722222222222221)\n",
      "student:\n",
      "(('no',), 0.4444444444444444)\n",
      "credit_rating:\n",
      "(('excellent',), 0.49350649350649367)\n"
     ]
    }
   ],
   "source": [
    "##문제2 답안\n",
    "columns = list(pd_data)[:-1] # 타겟변수를 제외한 변수의 이름 받기\n",
    "for i in columns: \n",
    "    print(i + \":\")\n",
    "    print(min(get_attribute_gini_index(pd_data, i, \"class_buys_computer\").items()))\n",
    "\n",
    "## age가 가장 낮은 Gini index를 가지고 있으므로 age가 가장 중요한 변수이며, Gini index는 0.3571이다."
   ]
  },
  {
   "cell_type": "code",
   "execution_count": 206,
   "metadata": {
    "scrolled": true
   },
   "outputs": [
    {
     "name": "stdout",
     "output_type": "stream",
     "text": [
      "age:\n"
     ]
    },
    {
     "ename": "ValueError",
     "evalue": "min() arg is an empty sequence",
     "output_type": "error",
     "traceback": [
      "\u001b[1;31m---------------------------------------------------------------------------\u001b[0m",
      "\u001b[1;31mValueError\u001b[0m                                Traceback (most recent call last)",
      "\u001b[1;32m<ipython-input-206-8e04582e3d87>\u001b[0m in \u001b[0;36m<module>\u001b[1;34m\u001b[0m\n\u001b[0;32m      3\u001b[0m \u001b[1;32mfor\u001b[0m \u001b[0mi\u001b[0m \u001b[1;32min\u001b[0m \u001b[0mcolumns\u001b[0m\u001b[1;33m:\u001b[0m\u001b[1;33m\u001b[0m\u001b[1;33m\u001b[0m\u001b[0m\n\u001b[0;32m      4\u001b[0m     \u001b[0mprint\u001b[0m\u001b[1;33m(\u001b[0m\u001b[0mi\u001b[0m \u001b[1;33m+\u001b[0m \u001b[1;34m\":\"\u001b[0m\u001b[1;33m)\u001b[0m\u001b[1;33m\u001b[0m\u001b[1;33m\u001b[0m\u001b[0m\n\u001b[1;32m----> 5\u001b[1;33m     \u001b[0mprint\u001b[0m\u001b[1;33m(\u001b[0m\u001b[0mmin\u001b[0m\u001b[1;33m(\u001b[0m\u001b[0mget_attribute_gini_index\u001b[0m\u001b[1;33m(\u001b[0m\u001b[0mpd_data_middle\u001b[0m\u001b[1;33m,\u001b[0m \u001b[0mi\u001b[0m\u001b[1;33m,\u001b[0m \u001b[1;34m\"class_buys_computer\"\u001b[0m\u001b[1;33m)\u001b[0m\u001b[1;33m.\u001b[0m\u001b[0mitems\u001b[0m\u001b[1;33m(\u001b[0m\u001b[1;33m)\u001b[0m\u001b[1;33m)\u001b[0m\u001b[1;33m)\u001b[0m\u001b[1;33m\u001b[0m\u001b[1;33m\u001b[0m\u001b[0m\n\u001b[0m\u001b[0;32m      6\u001b[0m \u001b[1;31m#age가 middle_aged인 경우 타겟 변수인 class_buys_computer의 값이 모두 yes로 일정하기 때문에 다른 변수들이 의미없다.\u001b[0m\u001b[1;33m\u001b[0m\u001b[1;33m\u001b[0m\u001b[1;33m\u001b[0m\u001b[0m\n",
      "\u001b[1;31mValueError\u001b[0m: min() arg is an empty sequence"
     ]
    }
   ],
   "source": [
    "##문제3 답안\n",
    "pd_data_middle = pd_data.loc[pd_data[\"age\"] == \"middle_aged\"]\n",
    "for i in columns:\n",
    "    print(i + \":\")\n",
    "    print(min(get_attribute_gini_index(pd_data_middle, i, \"class_buys_computer\").items()))\n",
    "#age가 middle_aged인 경우 타겟 변수인 class_buys_computer의 값이 모두 yes로 일정하기 때문에 다른 변수들이 의미없다."
   ]
  },
  {
   "cell_type": "code",
   "execution_count": 207,
   "metadata": {
    "scrolled": true
   },
   "outputs": [
    {
     "name": "stdout",
     "output_type": "stream",
     "text": [
      "age:\n",
      "(('baby',), 0.35714285714285715)\n",
      "income:\n",
      "(('high',), 0.35714285714285715)\n",
      "student:\n",
      "(('no',), 0.3673469387755103)\n",
      "credit_rating:\n",
      "(('excellent',), 0.43174603174603166)\n"
     ]
    }
   ],
   "source": [
    "pd_data_notmiddle = pd_data.loc[pd_data[\"age\"] != \"middle_aged\"]\n",
    "columns = list(pd_data)[:-1]\n",
    "for i in columns:\n",
    "    print(i + \":\")\n",
    "    print(min(get_attribute_gini_index(pd_data_notmiddle, i, \"class_buys_computer\").items()))\n",
    "#age가 senior 혹은 youth일 경우 student가 중요한 변수이며, 지니계수는 0.32 이다."
   ]
  },
  {
   "cell_type": "code",
   "execution_count": null,
   "metadata": {},
   "outputs": [],
   "source": []
  }
 ],
 "metadata": {
  "kernelspec": {
   "display_name": "Python 3",
   "language": "python",
   "name": "python3"
  },
  "language_info": {
   "codemirror_mode": {
    "name": "ipython",
    "version": 3
   },
   "file_extension": ".py",
   "mimetype": "text/x-python",
   "name": "python",
   "nbconvert_exporter": "python",
   "pygments_lexer": "ipython3",
   "version": "3.7.4"
  }
 },
 "nbformat": 4,
 "nbformat_minor": 4
}
