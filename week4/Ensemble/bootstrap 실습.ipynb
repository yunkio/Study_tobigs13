{
 "cells": [
  {
   "cell_type": "markdown",
   "metadata": {},
   "source": [
    "**부트스트랩을 활용하여 커피를 마시는 사람과 마시지 않는 사람의 키를 비교해보겠습니다.  \n",
    "Data set에는 21살 미만/이상 여부, 커피를 마시는지 마시지 않는지 여부, 그리고 키에 대한 데이터가 있습니다.   \n",
    "부트스트랩 연습을 위해 모수를 모른다고 가정하고 200개의 샘플에서 부트스트래핑을 할 것입니다. 커피가 키에 영향을 미치는지 분석하기 위해 아래 4개의 분석을 하겠습니다. 처음에 200개의 샘플을 뽑고, 그것을 활용하여 모두 부트스트래핑을 합니다.**\n",
    "  \n",
    "  \n",
    "1. 커피를 마시지 않는 사람과 커피를 마시는 사람의 평균 키 차이  \n",
    "2. 21살 이상과 21살 미만인 사람들의 평균 키 차이  \n",
    "3. 21살 미만인 사람들 중 커피를 마시지 않는 사람과 커피를 마시는 사람의 평균 키 차이  \n",
    "4. 21살 이상인 사람들 중 커피를 마시지 않는 사람과 커피를 마시는 사람의 평균 키 차이  "
   ]
  },
  {
   "cell_type": "code",
   "execution_count": 2,
   "metadata": {},
   "outputs": [
    {
     "data": {
      "text/html": [
       "<div>\n",
       "<style scoped>\n",
       "    .dataframe tbody tr th:only-of-type {\n",
       "        vertical-align: middle;\n",
       "    }\n",
       "\n",
       "    .dataframe tbody tr th {\n",
       "        vertical-align: top;\n",
       "    }\n",
       "\n",
       "    .dataframe thead th {\n",
       "        text-align: right;\n",
       "    }\n",
       "</style>\n",
       "<table border=\"1\" class=\"dataframe\">\n",
       "  <thead>\n",
       "    <tr style=\"text-align: right;\">\n",
       "      <th></th>\n",
       "      <th>user_id</th>\n",
       "      <th>age</th>\n",
       "      <th>drinks_coffee</th>\n",
       "      <th>height</th>\n",
       "    </tr>\n",
       "  </thead>\n",
       "  <tbody>\n",
       "    <tr>\n",
       "      <th>0</th>\n",
       "      <td>4509</td>\n",
       "      <td>&lt;21</td>\n",
       "      <td>False</td>\n",
       "      <td>64.538179</td>\n",
       "    </tr>\n",
       "    <tr>\n",
       "      <th>1</th>\n",
       "      <td>1864</td>\n",
       "      <td>&gt;=21</td>\n",
       "      <td>True</td>\n",
       "      <td>65.824249</td>\n",
       "    </tr>\n",
       "    <tr>\n",
       "      <th>2</th>\n",
       "      <td>2060</td>\n",
       "      <td>&lt;21</td>\n",
       "      <td>False</td>\n",
       "      <td>71.319854</td>\n",
       "    </tr>\n",
       "    <tr>\n",
       "      <th>3</th>\n",
       "      <td>7875</td>\n",
       "      <td>&gt;=21</td>\n",
       "      <td>True</td>\n",
       "      <td>68.569404</td>\n",
       "    </tr>\n",
       "    <tr>\n",
       "      <th>4</th>\n",
       "      <td>6254</td>\n",
       "      <td>&lt;21</td>\n",
       "      <td>True</td>\n",
       "      <td>64.020226</td>\n",
       "    </tr>\n",
       "  </tbody>\n",
       "</table>\n",
       "</div>"
      ],
      "text/plain": [
       "   user_id   age  drinks_coffee     height\n",
       "0     4509   <21          False  64.538179\n",
       "1     1864  >=21           True  65.824249\n",
       "2     2060   <21          False  71.319854\n",
       "3     7875  >=21           True  68.569404\n",
       "4     6254   <21           True  64.020226"
      ]
     },
     "execution_count": 2,
     "metadata": {},
     "output_type": "execute_result"
    }
   ],
   "source": [
    "import pandas as pd\n",
    "import numpy as np\n",
    "np.random.seed(104)\n",
    "\n",
    "df = pd.read_csv('coffee_dataset.csv')\n",
    "df.head()"
   ]
  },
  {
   "cell_type": "markdown",
   "metadata": {},
   "source": [
    "모집단에서 200개의 표본을 랜덤샘플링합니다."
   ]
  },
  {
   "cell_type": "code",
   "execution_count": 3,
   "metadata": {},
   "outputs": [
    {
     "data": {
      "text/html": [
       "<div>\n",
       "<style scoped>\n",
       "    .dataframe tbody tr th:only-of-type {\n",
       "        vertical-align: middle;\n",
       "    }\n",
       "\n",
       "    .dataframe tbody tr th {\n",
       "        vertical-align: top;\n",
       "    }\n",
       "\n",
       "    .dataframe thead th {\n",
       "        text-align: right;\n",
       "    }\n",
       "</style>\n",
       "<table border=\"1\" class=\"dataframe\">\n",
       "  <thead>\n",
       "    <tr style=\"text-align: right;\">\n",
       "      <th></th>\n",
       "      <th>user_id</th>\n",
       "      <th>age</th>\n",
       "      <th>drinks_coffee</th>\n",
       "      <th>height</th>\n",
       "    </tr>\n",
       "  </thead>\n",
       "  <tbody>\n",
       "    <tr>\n",
       "      <th>486</th>\n",
       "      <td>4951</td>\n",
       "      <td>&lt;21</td>\n",
       "      <td>False</td>\n",
       "      <td>68.539632</td>\n",
       "    </tr>\n",
       "    <tr>\n",
       "      <th>2297</th>\n",
       "      <td>5383</td>\n",
       "      <td>&gt;=21</td>\n",
       "      <td>True</td>\n",
       "      <td>70.594166</td>\n",
       "    </tr>\n",
       "    <tr>\n",
       "      <th>911</th>\n",
       "      <td>3904</td>\n",
       "      <td>&lt;21</td>\n",
       "      <td>False</td>\n",
       "      <td>61.114035</td>\n",
       "    </tr>\n",
       "    <tr>\n",
       "      <th>146</th>\n",
       "      <td>4351</td>\n",
       "      <td>&gt;=21</td>\n",
       "      <td>True</td>\n",
       "      <td>68.952444</td>\n",
       "    </tr>\n",
       "    <tr>\n",
       "      <th>2255</th>\n",
       "      <td>3998</td>\n",
       "      <td>&lt;21</td>\n",
       "      <td>False</td>\n",
       "      <td>65.493818</td>\n",
       "    </tr>\n",
       "  </tbody>\n",
       "</table>\n",
       "</div>"
      ],
      "text/plain": [
       "      user_id   age  drinks_coffee     height\n",
       "486      4951   <21          False  68.539632\n",
       "2297     5383  >=21           True  70.594166\n",
       "911      3904   <21          False  61.114035\n",
       "146      4351  >=21           True  68.952444\n",
       "2255     3998   <21          False  65.493818"
      ]
     },
     "execution_count": 3,
     "metadata": {},
     "output_type": "execute_result"
    }
   ],
   "source": [
    "df_sample = df.sample(200)\n",
    "df_sample.head()"
   ]
  },
  {
   "cell_type": "markdown",
   "metadata": {},
   "source": [
    "<span style=\"color:red\">★ 돌리면 매우 오래걸리므로 가급적 실행하지 마시고 실행 결과를 보고 이해해주세요.!! ★</span>  \n",
    "궁금하신 분은 집에 가셔서 복습시 뜯어보세요 "
   ]
  },
  {
   "cell_type": "markdown",
   "metadata": {},
   "source": [
    "## 부트스트랩(Bootstrap)\n",
    "부트스트랩을 10,000번 반복해서 커피를 마시지 않는 사람과 마시는 사람의 키 차이의 99% 신뢰구간을 구합니다.\n",
    "\n",
    "1. 커피를 마시지 않는 사람과 커피를 마시는 사람의 평균 키 차이"
   ]
  },
  {
   "cell_type": "code",
   "execution_count": 4,
   "metadata": {},
   "outputs": [
    {
     "data": {
      "text/plain": [
       "(-3.1319975931075725, -0.7811253958264301)"
      ]
     },
     "execution_count": 4,
     "metadata": {},
     "output_type": "execute_result"
    }
   ],
   "source": [
    "iterationNum = 10000\n",
    "diffHeightList = []\n",
    "for _ in range(iterationNum):\n",
    "    bootSample = df_sample.sample(200, replace=True) # 복원 추출\n",
    "    nonCoffeeHeightMean = bootSample[bootSample['drinks_coffee'] == False].height.mean() # 커피를 마시지 않는 사람 평균 키\n",
    "    coffeeHeightMean = bootSample[bootSample['drinks_coffee'] == True].height.mean() # 커피를 마시는 사람 평균 키\n",
    "    diff = nonCoffeeHeightMean - coffeeHeightMean\n",
    "    diffHeightList.append(diff)\n",
    "\n",
    "#  신뢰수준 99%인 평균 키 차이에 대한 신뢰구간\n",
    "np.percentile(diffHeightList, 0.5), np.percentile(diffHeightList, 99.5)"
   ]
  },
  {
   "cell_type": "markdown",
   "metadata": {},
   "source": [
    "일반적으로 커피를 마시는 사람이 커피를 마시지 않는 사람에 비해 키가 작은 것이라 생각할 수 있습니다. 그런데 신뢰수준 99%로 커피를 마시지 않는 사람이 커피를 마시는 사람에 비해 더 작습니다. 좀 더 심층적으로 분석하기 위해 나이에 따라 21살 미만, 이상의 키 차이를 구해보겠습니다."
   ]
  },
  {
   "cell_type": "markdown",
   "metadata": {},
   "source": [
    "2. 21살 이상과 21살 미만인 사람들의 평균 키 차이"
   ]
  },
  {
   "cell_type": "code",
   "execution_count": 5,
   "metadata": {},
   "outputs": [
    {
     "data": {
      "text/plain": [
       "(3.094910696764087, 4.979706207350382)"
      ]
     },
     "execution_count": 5,
     "metadata": {},
     "output_type": "execute_result"
    }
   ],
   "source": [
    "diffHeightListByAge = []\n",
    "for _ in range(iterationNum):\n",
    "    bootSample = df_sample.sample(200, replace=True) # 복원 추출\n",
    "    over21HeightMean = bootSample[bootSample['age'] == '>=21'].height.mean() # 21살 이상 평균 키\n",
    "    under21HeightMean = bootSample[bootSample['age'] == '<21'].height.mean() # 21살 미만 평균 키\n",
    "    diff = over21HeightMean - under21HeightMean\n",
    "    diffHeightListByAge.append(diff)\n",
    "\n",
    "np.percentile(diffHeightListByAge, 0.5), np.percentile(diffHeightListByAge, 99.5)"
   ]
  },
  {
   "cell_type": "markdown",
   "metadata": {},
   "source": [
    "3. 21살 미만인 사람들 중 커피를 마시지 않는 사람과 커피를 마시는 사람의 평균 키 차이"
   ]
  },
  {
   "cell_type": "code",
   "execution_count": 6,
   "metadata": {},
   "outputs": [
    {
     "data": {
      "text/plain": [
       "(0.2654451155424803, 2.473977523788771)"
      ]
     },
     "execution_count": 6,
     "metadata": {},
     "output_type": "execute_result"
    }
   ],
   "source": [
    "diffHeightListUnder21 = []\n",
    "for _ in range(iterationNum):\n",
    "    bootSample = df_sample.sample(200, replace=True) # 복원 추출\n",
    "    nonCoffeeHeightMeanUnder21 = bootSample.query(\"age == '<21' and drinks_coffee == False\").height.mean() # 21살 미만이며 커피를 마시지 않는 사람 평균 키\n",
    "    coffeeHeightMeanUnder21 = bootSample.query(\"age == '<21' and drinks_coffee == True\").height.mean() # 21살 미만이며 커피를 마시는 사람 평균 키\n",
    "    diff = nonCoffeeHeightMeanUnder21 - coffeeHeightMeanUnder21\n",
    "    diffHeightListUnder21.append(diff)\n",
    "\n",
    "np.percentile(diffHeightListUnder21, 0.5), np.percentile(diffHeightListUnder21, 99.5)"
   ]
  },
  {
   "cell_type": "markdown",
   "metadata": {},
   "source": [
    "4. 21살 이상인 사람들 중 커피를 마시지 않는 사람과 커피를 마시는 사람의 평균 키 차이"
   ]
  },
  {
   "cell_type": "code",
   "execution_count": 7,
   "metadata": {},
   "outputs": [
    {
     "data": {
      "text/plain": [
       "(nan, nan)"
      ]
     },
     "execution_count": 7,
     "metadata": {},
     "output_type": "execute_result"
    }
   ],
   "source": [
    "diffHeightListOver21 = []\n",
    "for _ in range(iterationNum):\n",
    "    bootSample = df_sample.sample(200, replace=True) # 복원 추출\n",
    "    nonCoffeeHeightMeanOver21 = bootSample.query(\"age != '<21' and drinks_coffee == False\").height.mean() # 21살 이상이며 커피를 마시지 않는 사람 평균 키\n",
    "    coffeeHeightMeanOver21 = bootSample.query(\"age != '<21' and drinks_coffee == True\").height.mean() # 21살 이상이며 커피를 마시는 사람 평균 키\n",
    "\n",
    "    diff = nonCoffeeHeightMeanOver21 - coffeeHeightMeanOver21\n",
    "    diffHeightListOver21.append(diff)\n",
    "\n",
    "np.percentile(diffHeightListOver21, 0.5), np.percentile(diffHeightListOver21, 99.5)"
   ]
  },
  {
   "cell_type": "markdown",
   "metadata": {},
   "source": [
    "전체 데이터에서는 커피를 마시는 사람이 커피를 마시지 않는 사람에 비해 평균 키가 컸지만 21살 미만, 이상으로 나누어 계산해보니 모두 커피를 마시지 않는 사람의 평균 키가 컸습니다. "
   ]
  },
  {
   "cell_type": "code",
   "execution_count": null,
   "metadata": {},
   "outputs": [],
   "source": []
  }
 ],
 "metadata": {
  "kernelspec": {
   "display_name": "Python 3",
   "language": "python",
   "name": "python3"
  },
  "language_info": {
   "codemirror_mode": {
    "name": "ipython",
    "version": 3
   },
   "file_extension": ".py",
   "mimetype": "text/x-python",
   "name": "python",
   "nbconvert_exporter": "python",
   "pygments_lexer": "ipython3",
   "version": "3.7.4"
  }
 },
 "nbformat": 4,
 "nbformat_minor": 4
}
