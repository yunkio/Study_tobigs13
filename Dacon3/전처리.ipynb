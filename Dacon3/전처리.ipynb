{
 "cells": [
  {
   "cell_type": "code",
   "execution_count": 1,
   "metadata": {},
   "outputs": [],
   "source": [
    "from sklearn.model_selection import train_test_split\n",
    "from sklearn.model_selection import StratifiedKFold\n",
    "from sklearn.metrics import log_loss\n",
    "from sklearn.metrics import mean_squared_error\n",
    "from sklearn import preprocessing\n",
    "from sklearn.model_selection import GridSearchCV\n",
    "from sklearn.svm import SVC\n",
    "from sklearn.metrics import accuracy_score\n",
    "from sklearn.calibration import CalibratedClassifierCV\n",
    "from sklearn.linear_model import Perceptron\n",
    "from sklearn.neural_network import MLPClassifier\n",
    "from sklearn.tree import DecisionTreeClassifier\n",
    "from sklearn.metrics import roc_auc_score\n",
    "import sklearn\n",
    "import re\n",
    "from sklearn.linear_model import LogisticRegression\n",
    "from sklearn import metrics\n",
    "from sklearn.preprocessing import StandardScaler\n",
    "import lightgbm as lgb\n",
    "from sklearn.ensemble import RandomForestClassifier\n",
    "from catboost import CatBoostClassifier\n",
    "\n",
    "import numpy as np\n",
    "import pandas as pd\n",
    "\n",
    "from hyperopt import hp\n",
    "from hyperopt import fmin, tpe, hp, STATUS_OK, Trials\n",
    "\n",
    "import pickle\n",
    "import joblib\n",
    "\n",
    "import sys\n",
    "import xgboost as xgb\n",
    "\n",
    "from tqdm import tqdm\n",
    "\n",
    "from sklearn.model_selection import KFold   # K-fold CV    \n",
    "from bayes_opt import BayesianOptimization  # 베이지안 최적화 라이브러리  \n",
    "from functools import partial               # 함수 변수 고정\n",
    "import warnings                             \n",
    "warnings.filterwarnings(\"ignore\")           # 경고 문구 미표시"
   ]
  },
  {
   "cell_type": "code",
   "execution_count": 2,
   "metadata": {},
   "outputs": [],
   "source": [
    "def load_train():\n",
    "    train = pd.read_csv('data/train.csv')\n",
    "    labels = train.winner.values\n",
    "    lbl_enc = preprocessing.LabelEncoder()\n",
    "    labels = lbl_enc.fit_transform(labels)\n",
    "#     train = train.drop('game_id', axis=1)\n",
    "    return train.values, labels.astype('int32')"
   ]
  },
  {
   "cell_type": "code",
   "execution_count": 3,
   "metadata": {},
   "outputs": [],
   "source": [
    "def load_test():\n",
    "    test = pd.read_csv('data/test.csv')\n",
    "    train = train.drop('game_id', axis=1)\n",
    "    return test.values"
   ]
  },
  {
   "cell_type": "code",
   "execution_count": 4,
   "metadata": {},
   "outputs": [],
   "source": [
    "def score(params):\n",
    "    print(\"Training with params : \")\n",
    "    print(params)\n",
    "    num_round = int(params['n_estimators'])\n",
    "    del params['n_estimators']\n",
    "    dtrain = xgb.DMatrix(X_train, label=y_train)\n",
    "    dvalid = xgb.DMatrix(X_test, label=y_test)\n",
    "    # watchlist = [(dvalid, 'eval'), (dtrain, 'train')]\n",
    "    model = xgb.train(params, dtrain, num_round)\n",
    "    predictions = model.predict(dvalid).reshape((X_test.shape[0], 9))\n",
    "    score = log_loss(y_test, predictions)\n",
    "    print(\"\\tScore {0}\\n\\n\".format(score))\n",
    "    return {'loss': score, 'status': STATUS_OK}"
   ]
  },
  {
   "cell_type": "code",
   "execution_count": 5,
   "metadata": {},
   "outputs": [],
   "source": [
    "def write_submission(preds, output):\n",
    "    sample = pd.read_csv('data/sample_submission.csv')\n",
    "    train = pd.read_csv('data/train.csv')\n",
    "    labels = train.winner.values\n",
    "    labels = np.unique(labels)\n",
    "    preds = pd.DataFrame(\n",
    "        preds, index=sample.game_id.values, columns=labels)\n",
    "    preds = preds[list(sample.columns[1:])]\n",
    "    preds.to_csv(output, index_label='game_id')"
   ]
  },
  {
   "cell_type": "markdown",
   "metadata": {},
   "source": [
    "-----"
   ]
  },
  {
   "cell_type": "markdown",
   "metadata": {},
   "source": [
    "# Feature - 자원소모량"
   ]
  },
  {
   "cell_type": "code",
   "execution_count": 6,
   "metadata": {},
   "outputs": [],
   "source": [
    "data = pd.read_csv('data/train.csv')\n",
    "data_ability = data[data['event'] == 'Ability']"
   ]
  },
  {
   "cell_type": "code",
   "execution_count": 7,
   "metadata": {},
   "outputs": [],
   "source": [
    "data_TRB = data_ability[data_ability[\"event_contents\"].str.contains(\"Train|Research|Build|Morph|Evolve|Upgrade\")]"
   ]
  },
  {
   "cell_type": "code",
   "execution_count": 8,
   "metadata": {},
   "outputs": [],
   "source": [
    "data_trainmorph = data_TRB[data_TRB[\"event_contents\"].str.contains(\"Train|Morph\")]\n",
    "data_build = data_TRB[data_TRB[\"event_contents\"].str.contains(\"Build\")]\n",
    "data_research = data_TRB[data_TRB[\"event_contents\"].str.contains(\"Research|Evolve|Upgrade\")]"
   ]
  },
  {
   "cell_type": "code",
   "execution_count": 9,
   "metadata": {},
   "outputs": [],
   "source": [
    "data_train_T = data_trainmorph[data_trainmorph[\"species\"] == \"T\"][\"event_contents\"].unique().tolist()\n",
    "data_train_Z = data_trainmorph[data_trainmorph[\"species\"] == \"Z\"][\"event_contents\"].unique().tolist()\n",
    "data_train_P = data_trainmorph[data_trainmorph[\"species\"] == \"P\"]\n",
    "data_train_P = data_train_P[~data_train_P[\"event_contents\"].str.contains(\";\")]\n",
    "data_train_P = data_train_P[\"event_contents\"].unique().tolist()\n",
    "\n",
    "data_build_T = data_build[data_build[\"species\"] == \"T\"][\"event_contents\"].unique().tolist()\n",
    "data_build_T = [x for xs in data_build_T for x in xs.split(\";\")]\n",
    "data_build_T = [i for i in data_build_T if \"Build\" in i]\n",
    "data_build_T = list(set(data_build_T))\n",
    "\n",
    "data_build_Z = data_build[data_build[\"species\"] == \"Z\"][\"event_contents\"].unique().tolist()\n",
    "data_build_Z = [x for xs in data_build_Z for x in xs.split(\";\")]\n",
    "data_build_Z = [i for i in data_build_Z if \"Build\" in i]\n",
    "data_build_Z = list(set(data_build_Z))\n",
    "\n",
    "data_build_P = data_build[data_build[\"species\"] == \"P\"][\"event_contents\"].unique().tolist()\n",
    "data_build_P = [x for xs in data_build_P for x in xs.split(\";\")]\n",
    "data_build_P = [i for i in data_build_P if \"Build\" in i]\n",
    "data_build_P = list(set(data_build_P))\n",
    "\n",
    "data_research_T = data_research[data_research[\"species\"] == \"T\"][\"event_contents\"].unique().tolist()\n",
    "data_research_Z = data_research[data_research[\"species\"] == \"Z\"][\"event_contents\"].unique().tolist()\n",
    "data_research_P = data_research[data_research[\"species\"] == \"P\"][\"event_contents\"].unique().tolist()"
   ]
  },
  {
   "cell_type": "code",
   "execution_count": 10,
   "metadata": {},
   "outputs": [],
   "source": [
    "data_train_T_re = [(50, 0), (50, 0), (100, 100), (50, 50), (150, 150), (100, 25), (150, 100), (100, 200), (150, 75), (150, 100), (150, 125), (400,300), (100, 100)]\n",
    "data_train_Z_re = [(50, 0), (100, 0), (150, 0), (50, 0), (100, 50), (75, 25), (50, 50), (25, 25), (25, 75), (100, 100), (0, 0), (150, 100), (100, 75), (100, 150), (150, 150), (0, 0), (100, 150), (50, 100), (300, 200)]\n",
    "data_train_P_re = [(50, 0), (100, 25), (100, 100), (250, 0), (150, 150), (300, 200), (25, 75), (125, 50), (150, 150), (250, 150), (275, 100), (100, 0), (150, 0), (50, 100), (350, 250), (50, 150), (250, 175), (125, 125), (15, 0)]\n",
    "\n",
    "data_build_T_re = [(0,0), (50, 50), (0, 0), (50,50), (50,25), (0,0), (0,0), (50,25), (100,0), (150,100), (150,125), (50, 50), (100,0), (150,50), (50,25), (125,0), (0,0), (400,0), (75,25), (150, 0), (100,0), (100,100), (100,50), (125,100), (100,0), (300,200), (100,0), (100,0), (150, 150)]\n",
    "data_build_Z_re = [(125,0), (200, 150), (0,0), (150, 0), (350,0), (150, 50), (150, 100), (250, 200), (75,0), (200, 200), (50, 50), (0,0), (250, 0), (150,100), (125,0), (200,0)]\n",
    "data_build_P_re = [(150, 100), (150, 0), (150, 0), (300, 200), (150, 0), (150, 150), (400, 0), (100, 0), (150, 100), (150, 200), (150, 150), (150, 150), (100,0), (0,0), (150,0), (0,0)]\n",
    "\n",
    "data_research_T_re = [(0,0), (100, 100), (100, 100), (100, 100), (100, 100), (100, 100), (100, 100), (100, 100), (50, 50), (100, 100), (0,0), (150, 150), (150, 150), (100, 100), (175, 175), (150, 150), (150, 150), (0, 0), (75, 75), (175, 175), (100, 100), (175, 175), (150, 150), (100, 100), (100, 100), (100, 100), (150, 150), (0, 0), (175, 175), (175, 175)]\n",
    "data_research_Z_re = [(100, 100), (100, 100), (100, 100), (150, 150), (100, 100), (100, 100), (100, 100), (100, 100), (150, 100), (100, 100), (150, 150), (100, 100), (225, 225), (100, 100), (0, 0), (150, 150), (150, 150), (200, 150), (100, 100), (150, 150), (150, 150), (0, 0), (175, 175), (200, 200), (150, 150)]\n",
    "data_research_P_re = [(50, 50), (100, 100), (100, 100), (100, 100), (100, 100), (100, 100), (175, 175), (100, 100), (100, 100), (150, 150), (150, 150), (150, 150), (100, 100), (200, 200), (225, 225), (100, 100), (150, 150), (150, 150), (0, 0), (100, 100), (150, 150), (0, 0), (200, 200)]"
   ]
  },
  {
   "cell_type": "code",
   "execution_count": 11,
   "metadata": {},
   "outputs": [],
   "source": [
    "mylist1 = data_train_T + data_train_Z + data_train_P\n",
    "mylist2 = data_train_T_re + data_train_Z_re + data_train_P_re\n",
    "train_dict = dict(zip(mylist1, mylist2))\n",
    "\n",
    "mylist1 = data_build_T + data_build_Z + data_build_P\n",
    "mylist2 = data_build_T_re + data_build_Z_re + data_build_P_re\n",
    "build_dict = dict(zip(mylist1, mylist2))\n",
    "\n",
    "mylist1 = data_research_T + data_research_Z + data_research_P\n",
    "mylist2 = data_research_T_re + data_research_Z_re + data_research_P_re\n",
    "research_dict = dict(zip(mylist1, mylist2))\n",
    "\n",
    "worker_dict = {'(1360) - TrainSCV' : (50,0), '(15E0) - TrainProbe': (50, 0), '(1820) - MorphDrone': (50, 0)}\n",
    "train_dict = {k: v for k, v in train_dict.items() if k not in worker_dict}\n",
    "\n",
    "train_dict['(1401) - BuildSiegeTank'] = (150, 125)\n",
    "train_dict['(1418) - BuildWidowMine'] = (75, 25)\n",
    "train_dict['(1405) - BuildHellion'] = (100, 0)\n",
    "train_dict['(1404) - BuildThor'] = (300, 200)\n",
    "train_dict['(1406) - BuildBattleHellion'] = (100, 0)\n",
    "build_dict = {k: v for k, v in build_dict.items() if k not in train_dict}"
   ]
  },
  {
   "cell_type": "markdown",
   "metadata": {},
   "source": [
    "### 자원소모량 feature 만들기"
   ]
  },
  {
   "cell_type": "code",
   "execution_count": 12,
   "metadata": {},
   "outputs": [],
   "source": [
    "p0_worker_mineral = [0]*38872\n",
    "p1_worker_mineral = [0]*38872\n",
    "\n",
    "p0_train_mineral = [0]*38872\n",
    "p0_train_gas = [0]*38872\n",
    "p1_train_mineral = [0]*38872\n",
    "p1_train_gas = [0]*38872\n",
    "\n",
    "p0_build_mineral = [0]*38872\n",
    "p0_build_gas = [0]*38872\n",
    "p1_build_mineral = [0]*38872\n",
    "p1_build_gas = [0]*38872\n",
    "\n",
    "p0_research_mineral = [0]*38872\n",
    "p0_research_gas = [0]*38872\n",
    "p1_research_mineral = [0]*38872\n",
    "p1_research_gas = [0]*38872"
   ]
  },
  {
   "cell_type": "code",
   "execution_count": 13,
   "metadata": {},
   "outputs": [
    {
     "name": "stderr",
     "output_type": "stream",
     "text": [
      "2487701it [03:28, 11908.51it/s]\n"
     ]
    }
   ],
   "source": [
    "for idx, row in tqdm(data_TRB.iterrows()):\n",
    "    game_id = row[\"game_id\"]\n",
    "    player = row[\"player\"]\n",
    "    action = row[\"event_contents\"].split(\";\")\n",
    "    for i in action:\n",
    "        if i in train_dict.keys():\n",
    "            spend = train_dict[i]\n",
    "            if player == 0:\n",
    "                p0_train_mineral[game_id] += spend[0]\n",
    "                p0_train_gas[game_id] += spend[1]\n",
    "            if player == 1:\n",
    "                p1_train_mineral[game_id] += spend[0]\n",
    "                p1_train_gas[game_id] += spend[1]\n",
    "        elif i in build_dict.keys():\n",
    "            spend = build_dict[i]\n",
    "            if player == 0:\n",
    "                p0_build_mineral[game_id] += spend[0]\n",
    "                p0_build_gas[game_id] += spend[1]\n",
    "            if player == 1:\n",
    "                p1_build_mineral[game_id] += spend[0]\n",
    "                p1_build_gas[game_id] += spend[1]\n",
    "        elif i in research_dict.keys():\n",
    "            spend = research_dict[i]\n",
    "            if player == 0:\n",
    "                p0_research_mineral[game_id] += spend[0]\n",
    "                p0_research_gas[game_id] += spend[1]\n",
    "            if player == 1:\n",
    "                p1_research_mineral[game_id] += spend[0]\n",
    "                p1_research_gas[game_id] += spend[1]\n",
    "        elif i in worker_dict.keys():\n",
    "            spend = worker_dict[i]\n",
    "            if player == 0:\n",
    "                p0_worker_mineral[game_id] += spend[0]\n",
    "            if player == 1:\n",
    "                p1_worker_mineral[game_id] += spend[0]"
   ]
  },
  {
   "cell_type": "markdown",
   "metadata": {},
   "source": [
    "# Feature - 좌표"
   ]
  },
  {
   "cell_type": "code",
   "execution_count": 14,
   "metadata": {},
   "outputs": [],
   "source": [
    "time = list(data[\"time\"].groupby(data[\"game_id\"]).tail(1))\n",
    "for i in range(len(time)):\n",
    "    new_time = str(time[i])\n",
    "    new_time = new_time.split(\".\")\n",
    "    time[i] = int(new_time[0])*60 + int(new_time[1])\n",
    "p0_start_location_x = [0]*38872\n",
    "p0_start_location_y = [0]*38872\n",
    "p1_start_location_x = [0]*38872\n",
    "p1_start_location_y = [0]*38872"
   ]
  },
  {
   "cell_type": "code",
   "execution_count": 15,
   "metadata": {},
   "outputs": [
    {
     "name": "stderr",
     "output_type": "stream",
     "text": [
      "2487701it [03:27, 11965.10it/s]\n"
     ]
    }
   ],
   "source": [
    "for idx, row in tqdm(data_TRB.iterrows()):\n",
    "    game_id = row[\"game_id\"]\n",
    "    player = row[\"player\"]\n",
    "    action = row[\"event_contents\"].split(\";\")\n",
    "    for i in action:\n",
    "        if \"Location\" in i:\n",
    "            location = re.findall(\"[0-9]+.[0-9]+\", i)\n",
    "            if player == 0:\n",
    "                if p0_start_location_x[game_id] == 0:\n",
    "                    p0_start_location_x[game_id] = float(location[0])\n",
    "                    p0_start_location_y[game_id] = float(location[1])\n",
    "            elif player == 1:\n",
    "                if p1_start_location_x[game_id] == 0:\n",
    "                    p1_start_location_x[game_id] = float(location[0])\n",
    "                    p1_start_location_y[game_id] = float(location[1])"
   ]
  },
  {
   "cell_type": "code",
   "execution_count": 16,
   "metadata": {},
   "outputs": [],
   "source": [
    "data_right = data[data['event'] == 'Right Click']\n",
    "data_target = data_right[data_right[\"event_contents\"].str.contains(\"Target\")]"
   ]
  },
  {
   "cell_type": "code",
   "execution_count": 17,
   "metadata": {},
   "outputs": [],
   "source": [
    "def init_list_of_objects(size):\n",
    "    list_of_objects = list()\n",
    "    for i in range(0,size):\n",
    "        list_of_objects.append( list() )\n",
    "    return list_of_objects\n",
    "\n",
    "p0_attack_distance_0 = [0] * 38872\n",
    "p0_attack_distance_1 = [0] * 38872\n",
    "p1_attack_distance_0 = [0] * 38872\n",
    "p1_attack_distance_1 = [0] * 38872\n",
    "\n",
    "player0_attack_0 = init_list_of_objects(38872)\n",
    "player0_attack_1 = init_list_of_objects(38872)\n",
    "player1_attack_0 = init_list_of_objects(38872)\n",
    "player1_attack_1 = init_list_of_objects(38872)\n",
    "\n",
    "p0_click_count_0 = [0] * 38872\n",
    "p0_click_count_1 = [0] * 38872\n",
    "p1_click_count_0 = [0] * 38872\n",
    "p1_click_count_1 = [0] * 38872"
   ]
  },
  {
   "cell_type": "code",
   "execution_count": 18,
   "metadata": {},
   "outputs": [
    {
     "name": "stderr",
     "output_type": "stream",
     "text": [
      "2676714it [04:45, 9391.97it/s]\n"
     ]
    }
   ],
   "source": [
    "for idx, row in tqdm(data_target.iterrows()):\n",
    "    game_id = row[\"game_id\"]\n",
    "    player = row[\"player\"]\n",
    "    action = row[\"event_contents\"].split(\";\")\n",
    "    tim = str(row[\"time\"]).split(\".\")\n",
    "    tim = int(tim[0])*60 + int(tim[1])\n",
    "    end_time = time[game_id]\n",
    "    \n",
    "    location = re.findall(\"(\\d{1,3}\\.\\d{1,3})\", row[\"event_contents\"])\n",
    "    location = list(map(float, location))\n",
    "    \n",
    "    if location == [] : \n",
    "        continue\n",
    "        \n",
    "    if tim < end_time*0.8:\n",
    "        if player == 0:\n",
    "            x = float(p0_start_location_x[game_id]) - float(location[0])\n",
    "            y = float(p0_start_location_y[game_id]) - float(location[1])\n",
    "            player0_attack_0[game_id].append((x**2 + y**2)**0.5)\n",
    "\n",
    "        elif player == 1:\n",
    "            x = float(p1_start_location_x[game_id]) - float(location[0])\n",
    "            y = float(p1_start_location_y[game_id]) - float(location[1])\n",
    "            player1_attack_0[game_id].append((x**2 + y**2)**0.5)\n",
    "\n",
    "    elif tim >= end_time*0.8:\n",
    "        if player == 0:\n",
    "            x = float(p0_start_location_x[game_id]) - float(location[0])\n",
    "            y = float(p0_start_location_y[game_id]) - float(location[1])\n",
    "            player0_attack_1[game_id].append((x**2 + y**2)**0.5)            \n",
    "        elif player == 1:\n",
    "            x = float(p1_start_location_x[game_id]) - float(location[0])\n",
    "            y = float(p1_start_location_y[game_id]) - float(location[1])\n",
    "            player1_attack_1[game_id].append((x**2 + y**2)**0.5)"
   ]
  },
  {
   "cell_type": "code",
   "execution_count": 19,
   "metadata": {},
   "outputs": [],
   "source": [
    "data_attack = data_ability[data_ability[\"event_contents\"].str.contains(\"Attack\")]"
   ]
  },
  {
   "cell_type": "code",
   "execution_count": 20,
   "metadata": {},
   "outputs": [
    {
     "name": "stderr",
     "output_type": "stream",
     "text": [
      "571111it [01:01, 9223.82it/s]\n"
     ]
    }
   ],
   "source": [
    "for idx, row in tqdm(data_attack.iterrows()):\n",
    "    game_id = row[\"game_id\"]\n",
    "    player = row[\"player\"]\n",
    "    action = row[\"event_contents\"].split(\";\")\n",
    "    tim = str(row[\"time\"]).split(\".\")\n",
    "    tim = int(tim[0])*60 + int(tim[1])\n",
    "    end_time = time[game_id]\n",
    "    \n",
    "    location = re.findall(\"(\\d{1,3}\\.\\d{1,3})\", row[\"event_contents\"])\n",
    "    location = list(map(float, location))\n",
    "    \n",
    "    if location == [] : \n",
    "        continue\n",
    "        \n",
    "    if tim < end_time*0.8:\n",
    "        if player == 0:\n",
    "            x = float(p0_start_location_x[game_id]) - float(location[0])\n",
    "            y = float(p0_start_location_y[game_id]) - float(location[1])\n",
    "            player0_attack_0[game_id].append((x**2 + y**2)**0.5)\n",
    "            player0_attack_0[game_id].append((x**2 + y**2)**0.5)\n",
    "            player0_attack_0[game_id].append((x**2 + y**2)**0.5)\n",
    "\n",
    "        elif player == 1:\n",
    "            x = float(p1_start_location_x[game_id]) - float(location[0])\n",
    "            y = float(p1_start_location_y[game_id]) - float(location[1])\n",
    "            player1_attack_0[game_id].append((x**2 + y**2)**0.5)\n",
    "            player1_attack_0[game_id].append((x**2 + y**2)**0.5)\n",
    "            player1_attack_0[game_id].append((x**2 + y**2)**0.5)\n",
    "\n",
    "    elif tim >= end_time*0.8:\n",
    "        if player == 0:\n",
    "            x = float(p0_start_location_x[game_id]) - float(location[0])\n",
    "            y = float(p0_start_location_y[game_id]) - float(location[1])\n",
    "            player0_attack_1[game_id].append((x**2 + y**2)**0.5)  \n",
    "            player0_attack_1[game_id].append((x**2 + y**2)**0.5) \n",
    "            player0_attack_1[game_id].append((x**2 + y**2)**0.5) \n",
    "            \n",
    "        elif player == 1:\n",
    "            x = float(p1_start_location_x[game_id]) - float(location[0])\n",
    "            y = float(p1_start_location_y[game_id]) - float(location[1])\n",
    "            player1_attack_1[game_id].append((x**2 + y**2)**0.5)\n",
    "            player1_attack_1[game_id].append((x**2 + y**2)**0.5)\n",
    "            player1_attack_1[game_id].append((x**2 + y**2)**0.5)"
   ]
  },
  {
   "cell_type": "code",
   "execution_count": 21,
   "metadata": {},
   "outputs": [
    {
     "name": "stderr",
     "output_type": "stream",
     "text": [
      "100%|████████████████████████████████████████████████████████████████████████| 38872/38872 [00:00<00:00, 268013.61it/s]\n"
     ]
    }
   ],
   "source": [
    "for i in tqdm(range(len(p0_attack_distance_0))):\n",
    "    if len(player0_attack_0[i]) > 0 : p0_attack_distance_0[i] = sum(player0_attack_0[i]) / len(player0_attack_0[i])\n",
    "    if len(player0_attack_1[i]) > 0 : p0_attack_distance_1[i] = sum(player0_attack_1[i]) / len(player0_attack_1[i])\n",
    "    if len(player1_attack_0[i]) > 0 : p1_attack_distance_0[i] = sum(player1_attack_0[i]) / len(player1_attack_0[i])\n",
    "    if len(player1_attack_1[i]) > 0 : p1_attack_distance_1[i] = sum(player1_attack_1[i]) / len(player1_attack_1[i])\n",
    "    p0_click_count_0[i] = len(player0_attack_0[i])\n",
    "    p0_click_count_1[i] = len(player0_attack_1[i])\n",
    "    p1_click_count_0[i] = len(player1_attack_0[i])\n",
    "    p1_click_count_1[i] = len(player1_attack_1[i])"
   ]
  },
  {
   "cell_type": "markdown",
   "metadata": {},
   "source": [
    "# Feature - 베이스라인"
   ]
  },
  {
   "cell_type": "code",
   "execution_count": 22,
   "metadata": {},
   "outputs": [],
   "source": [
    "def data_preparation(df, answer=False):\n",
    "    game_ids = df['game_id'].unique()\n",
    "    events = ['Ability', 'AddToControlGroup', 'Camera', 'ControlGroup', 'GetControlGroup', 'Right Click', 'Selection', 'SetControlGroup']\n",
    "    unique_event_0, unique_event_1, delta_event = {}, {}, {}\n",
    "    for event in events:\n",
    "        unique_event_0['P0_' + event] = 0\n",
    "        unique_event_1['P1_' + event] = 0\n",
    "        delta_event['delta_' + event] = 0\n",
    "        \n",
    "    species = df.groupby(['game_id', 'player']).species.unique()        \n",
    "    event_count = df.groupby(['game_id', 'player']).event.value_counts()\n",
    "    if answer:\n",
    "        winners = df.groupby(['game_id']).winner.max()\n",
    "    \n",
    "    x_data, y_data = [], []\n",
    "    for game_id in tqdm(game_ids):\n",
    "        df_event_count = event_count[game_id].unstack(level=-1)\n",
    "        df = pd.DataFrame(species[game_id])\n",
    "        df = pd.concat([df, df_event_count], axis=1)   \n",
    "        df = df.fillna(0)\n",
    "        df = df.drop(['species'], axis=1)\n",
    "\n",
    "        df_P0_event = unique_event_0.copy()\n",
    "        for column in df.columns:\n",
    "            df_P0_event['P0_' + column] = df.loc[0][column]\n",
    "        df_P0_event = pd.DataFrame(pd.Series(df_P0_event)).T\n",
    "\n",
    "        df_P1_event = unique_event_1.copy()\n",
    "        for column in df.columns:\n",
    "            df_P1_event['P1_' + column] = df.loc[1][column]\n",
    "        df_P1_event = pd.DataFrame(pd.Series(df_P1_event)).T\n",
    "        \n",
    "#         df_delta_event = delta_event.copy()\n",
    "#         for column in df.columns:\n",
    "#             df_delta_event['delta_' + column] = df_P0_event['P0_' + column][0] - df_P1_event['P1_' + column][0]\n",
    "#         df_delta_event = pd.DataFrame(pd.Series(df_delta_event)).T\n",
    "\n",
    "        out = pd.concat([df_P0_event, df_P1_event], axis=1)\n",
    "#         out = pd.concat([df_P0_event, df_P1_event, df_delta_event], axis=1)\n",
    "        out.index = [game_id]\n",
    "        out.index.name = 'game_id'\n",
    "        \n",
    "        x_data.append(out)\n",
    "        if answer:\n",
    "            y_data.append(winners[game_id])  \n",
    "\n",
    "    x_data = pd.concat(x_data)\n",
    "    y_data = np.array(y_data)\n",
    "    \n",
    "    return x_data, y_data"
   ]
  },
  {
   "cell_type": "code",
   "execution_count": 23,
   "metadata": {},
   "outputs": [
    {
     "name": "stderr",
     "output_type": "stream",
     "text": [
      "100%|███████████████████████████████████████████████████████████████████████████| 38872/38872 [03:02<00:00, 213.06it/s]\n"
     ]
    }
   ],
   "source": [
    "x_train, _ = data_preparation(data, answer=True)"
   ]
  },
  {
   "cell_type": "markdown",
   "metadata": {},
   "source": [
    "# 데이터프레임 만들기"
   ]
  },
  {
   "cell_type": "code",
   "execution_count": 24,
   "metadata": {},
   "outputs": [],
   "source": [
    "game_id = list(range(38872))\n",
    "time = list(data[\"time\"].groupby(data[\"game_id\"]).tail(1))\n",
    "for i in range(len(time)):\n",
    "    new_time = str(time[i])\n",
    "    new_time = new_time.split(\".\")\n",
    "    time[i] = int(new_time[0])*60 + int(new_time[1])\n",
    "species_0 = list(data[data[\"player\"] == 0][\"species\"].groupby(data[\"game_id\"]).head(1))\n",
    "species_1 = list(data[data[\"player\"] == 1][\"species\"].groupby(data[\"game_id\"]).head(1))\n",
    "winner = list(data[\"winner\"].groupby(data[\"game_id\"]).head(1))\n",
    "mydict = {'game_id' : game_id, 'time' : time, \"species_0\" : species_0, \"species_1\" : species_1, \"winner\" : winner}\n",
    "X = pd.DataFrame(mydict)"
   ]
  },
  {
   "cell_type": "code",
   "execution_count": 25,
   "metadata": {},
   "outputs": [],
   "source": [
    "y = X[\"winner\"]\n",
    "X = X.drop(\"winner\", axis=1)\n",
    "X = X.drop(\"game_id\", axis=1)"
   ]
  },
  {
   "cell_type": "code",
   "execution_count": 26,
   "metadata": {},
   "outputs": [],
   "source": [
    "X = pd.get_dummies(X, prefix = [\"species_0\", \"species_1\"])"
   ]
  },
  {
   "cell_type": "code",
   "execution_count": 27,
   "metadata": {},
   "outputs": [],
   "source": [
    "X[\"p0_train_mineral\"] = p0_train_mineral\n",
    "X[\"p1_train_mineral\"] = p1_train_mineral\n",
    "X[\"p0_train_gas\"] = p0_train_gas\n",
    "X[\"p1_train_gas\"] = p1_train_gas\n",
    "X[\"p0_build_mineral\"] = p0_build_mineral\n",
    "X[\"p1_build_mineral\"] = p1_build_mineral\n",
    "X[\"p0_build_gas\"] = p0_build_gas\n",
    "X[\"p1_build_gas\"] = p1_build_gas\n",
    "X[\"p0_research_mineral\"] = p0_research_mineral\n",
    "X[\"p1_research_mineral\"] = p1_research_mineral\n",
    "X[\"p0_research_gas\"] = p0_research_gas\n",
    "X[\"p1_research_gas\"] = p1_research_gas\n",
    "X[\"p0_worker_mineral\"] = p0_worker_mineral\n",
    "X[\"p1_worker_mineral\"] = p1_worker_mineral\n",
    "X[\"p0_attack_distance_0\"] = p0_attack_distance_0\n",
    "X[\"p0_attack_distance_1\"] = p0_attack_distance_1\n",
    "X[\"p1_attack_distance_0\"] = p1_attack_distance_0\n",
    "X[\"p1_attack_distance_1\"] = p1_attack_distance_1\n",
    "X[\"p0_click_count_1\"] = p0_click_count_1\n",
    "X[\"p1_click_count_1\"] = p1_click_count_1\n",
    "\n",
    "# X[\"delta_train_mineral\"] = X[\"p0_train_mineral\"] - X[\"p1_train_mineral\"]\n",
    "# X[\"delta_train_gas\"] = X[\"p0_train_gas\"] - X[\"p1_train_gas\"]\n",
    "# X[\"delta_build_mineral\"] = X[\"p0_build_mineral\"] - X[\"p1_build_mineral\"]\n",
    "# X[\"delta_build_gas\"] = X[\"p0_build_gas\"] - X[\"p1_build_gas\"]\n",
    "# X[\"delta_research_mineral\"] = X[\"p0_research_mineral\"] - X[\"p1_research_mineral\"]\n",
    "# X[\"delta_research_gas\"] = X[\"p0_research_gas\"] - X[\"p1_research_gas\"]\n",
    "# X[\"delta_worker_mineral\"] = X[\"p0_worker_mineral\"] - X[\"p1_worker_mineral\"]\n",
    "# X[\"delta_attack_distance_0\"] = X[\"p0_attack_distance_0\"] - X[\"p1_attack_distance_0\"] \n",
    "# X[\"delta_attack_distance_1\"] = X[\"p0_attack_distance_1\"] - X[\"p1_attack_distance_1\"]\n",
    "# X[\"delta_click_count_1\"] = X[\"p0_click_count_1\"] - X[\"p1_click_count_1\"] \n",
    "\n",
    "X = pd.concat([X, x_train], axis=1)\n",
    "y_forsub = y\n",
    "X_forsub = X"
   ]
  },
  {
   "cell_type": "code",
   "execution_count": 28,
   "metadata": {},
   "outputs": [],
   "source": [
    "X_train, X_test, y_train, y_test = train_test_split(X, y, test_size=0.2, random_state=77)"
   ]
  },
  {
   "cell_type": "code",
   "execution_count": 29,
   "metadata": {},
   "outputs": [],
   "source": [
    "scaler = StandardScaler()\n",
    "X_train = scaler.fit_transform(X_train)\n",
    "X_test = scaler.transform(X_test)"
   ]
  },
  {
   "cell_type": "code",
   "execution_count": 30,
   "metadata": {},
   "outputs": [],
   "source": [
    "# for data\n",
    "column_list = list(X.columns) \n",
    "scaler = StandardScaler()\n",
    "X = scaler.fit_transform(X)\n",
    "X = pd.DataFrame(data = X, columns = column_list)\n",
    "X[\"winner\"] = y\n",
    "X.to_csv(\"train.csv\", index_label='game_id')"
   ]
  },
  {
   "cell_type": "markdown",
   "metadata": {},
   "source": [
    "# 테스트 데이터에 적용하기"
   ]
  },
  {
   "cell_type": "code",
   "execution_count": 32,
   "metadata": {},
   "outputs": [],
   "source": [
    "data_test = pd.read_csv('data/test.csv')"
   ]
  },
  {
   "cell_type": "code",
   "execution_count": 33,
   "metadata": {},
   "outputs": [],
   "source": [
    "game_id = list(range(38872, 38872+16787))\n",
    "time = list(data_test[\"time\"].groupby(data_test[\"game_id\"]).tail(1))\n",
    "for i in range(len(time)):\n",
    "    new_time = str(time[i])\n",
    "    new_time = new_time.split(\".\")\n",
    "    time[i] = int(new_time[0])*60 + int(new_time[1])\n",
    "species_0 = list(data_test[data_test[\"player\"] == 0][\"species\"].groupby(data_test[\"game_id\"]).head(1))\n",
    "species_1 = list(data_test[data_test[\"player\"] == 1][\"species\"].groupby(data_test[\"game_id\"]).head(1))\n",
    "mydict = {'game_id' : game_id, 'time' : time, \"species_0\" : species_0, \"species_1\" : species_1}\n",
    "test_X = pd.DataFrame(mydict)\n",
    "test_X = pd.get_dummies(test_X, prefix = [\"species_0\", \"species_1\"])"
   ]
  },
  {
   "cell_type": "code",
   "execution_count": 34,
   "metadata": {},
   "outputs": [],
   "source": [
    "data_ability = data_test[data_test['event'] == 'Ability']\n",
    "data_TRB = data_ability[data_ability[\"event_contents\"].str.contains(\"Train|Research|Build|Morph|Evolve|Upgrade\")]"
   ]
  },
  {
   "cell_type": "markdown",
   "metadata": {},
   "source": [
    "### 자원소모량 feature 만들기"
   ]
  },
  {
   "cell_type": "code",
   "execution_count": 35,
   "metadata": {},
   "outputs": [],
   "source": [
    "p0_worker_mineral = [0]*16787\n",
    "p1_worker_mineral = [0]*16787\n",
    "\n",
    "p0_train_mineral = [0]*16787\n",
    "p0_train_gas = [0]*16787\n",
    "p1_train_mineral = [0]*16787\n",
    "p1_train_gas = [0]*16787\n",
    "\n",
    "p0_build_mineral = [0]*16787\n",
    "p0_build_gas = [0]*16787\n",
    "p1_build_mineral = [0]*16787\n",
    "p1_build_gas = [0]*16787\n",
    "\n",
    "p0_research_mineral = [0]*16787\n",
    "p0_research_gas = [0]*16787\n",
    "p1_research_mineral = [0]*16787\n",
    "p1_research_gas = [0]*16787"
   ]
  },
  {
   "cell_type": "code",
   "execution_count": 36,
   "metadata": {},
   "outputs": [
    {
     "name": "stderr",
     "output_type": "stream",
     "text": [
      "1070841it [01:30, 11855.42it/s]\n"
     ]
    }
   ],
   "source": [
    "for idx, row in tqdm(data_TRB.iterrows()):\n",
    "    game_id = row[\"game_id\"] - 38872\n",
    "    player = row[\"player\"]\n",
    "    action = row[\"event_contents\"].split(\";\")\n",
    "    for i in action:\n",
    "        if i in train_dict.keys():\n",
    "            spend = train_dict[i]\n",
    "            if player == 0:\n",
    "                p0_train_mineral[game_id] += spend[0]\n",
    "                p0_train_gas[game_id] += spend[1]\n",
    "            if player == 1:\n",
    "                p1_train_mineral[game_id] += spend[0]\n",
    "                p1_train_gas[game_id] += spend[1]\n",
    "        elif i in build_dict.keys():\n",
    "            spend = build_dict[i]\n",
    "            if player == 0:\n",
    "                p0_build_mineral[game_id] += spend[0]\n",
    "                p0_build_gas[game_id] += spend[1]\n",
    "            if player == 1:\n",
    "                p1_build_mineral[game_id] += spend[0]\n",
    "                p1_build_gas[game_id] += spend[1]\n",
    "        elif i in research_dict.keys():\n",
    "            spend = research_dict[i]\n",
    "            if player == 0:\n",
    "                p0_research_mineral[game_id] += spend[0]\n",
    "                p0_research_gas[game_id] += spend[1]\n",
    "            if player == 1:\n",
    "                p1_research_mineral[game_id] += spend[0]\n",
    "                p1_research_gas[game_id] += spend[1]\n",
    "        elif i in worker_dict.keys():\n",
    "            spend = worker_dict[i]\n",
    "            if player == 0:\n",
    "                p0_worker_mineral[game_id] += spend[0]\n",
    "            if player == 1:\n",
    "                p1_worker_mineral[game_id] += spend[0]"
   ]
  },
  {
   "cell_type": "markdown",
   "metadata": {},
   "source": [
    "### 거리 feature 만들기"
   ]
  },
  {
   "cell_type": "code",
   "execution_count": 37,
   "metadata": {},
   "outputs": [],
   "source": [
    "time = list(data_test[\"time\"].groupby(data_test[\"game_id\"]).tail(1))\n",
    "for i in range(len(time)):\n",
    "    new_time = str(time[i])\n",
    "    new_time = new_time.split(\".\")\n",
    "    time[i] = int(new_time[0])*60 + int(new_time[1])\n",
    "p0_start_location_x = [0]*16787\n",
    "p0_start_location_y = [0]*16787\n",
    "p1_start_location_x = [0]*16787\n",
    "p1_start_location_y = [0]*16787"
   ]
  },
  {
   "cell_type": "code",
   "execution_count": 38,
   "metadata": {},
   "outputs": [
    {
     "name": "stderr",
     "output_type": "stream",
     "text": [
      "1070841it [01:32, 11581.22it/s]\n"
     ]
    }
   ],
   "source": [
    "for idx, row in tqdm(data_TRB.iterrows()):\n",
    "    game_id = row[\"game_id\"] - 38872\n",
    "    player = row[\"player\"]\n",
    "    action = row[\"event_contents\"].split(\";\")\n",
    "    for i in action:\n",
    "        if \"Location\" in i:\n",
    "            location = re.findall(\"[0-9]+.[0-9]+\", i)\n",
    "            if player == 0:\n",
    "                if p0_start_location_x[game_id] == 0:\n",
    "                    p0_start_location_x[game_id] = float(location[0])\n",
    "                    p0_start_location_y[game_id] = float(location[1])\n",
    "            elif player == 1:\n",
    "                if p1_start_location_x[game_id] == 0:\n",
    "                    p1_start_location_x[game_id] = float(location[0])\n",
    "                    p1_start_location_y[game_id] = float(location[1])"
   ]
  },
  {
   "cell_type": "code",
   "execution_count": 39,
   "metadata": {},
   "outputs": [],
   "source": [
    "data_right = data_test[data_test['event'] == 'Right Click']\n",
    "data_target = data_right[data_right[\"event_contents\"].str.contains(\"Target\")]"
   ]
  },
  {
   "cell_type": "code",
   "execution_count": 40,
   "metadata": {},
   "outputs": [],
   "source": [
    "player0_attack_0 = init_list_of_objects(16787)\n",
    "player0_attack_1 = init_list_of_objects(16787)\n",
    "player1_attack_0 = init_list_of_objects(16787)\n",
    "player1_attack_1 = init_list_of_objects(16787)\n",
    "\n",
    "p0_attack_distance_0 = [0] * 16787\n",
    "p0_attack_distance_1 = [0] * 16787\n",
    "p1_attack_distance_0 = [0] * 16787\n",
    "p1_attack_distance_1 = [0] * 16787\n",
    "\n",
    "p0_click_count_0 = [0] * 16787\n",
    "p0_click_count_1 = [0] * 16787\n",
    "p1_click_count_0 = [0] * 16787\n",
    "p1_click_count_1 = [0] * 16787"
   ]
  },
  {
   "cell_type": "code",
   "execution_count": 41,
   "metadata": {},
   "outputs": [
    {
     "name": "stderr",
     "output_type": "stream",
     "text": [
      "1138608it [02:02, 9281.39it/s]\n"
     ]
    }
   ],
   "source": [
    "for idx, row in tqdm(data_target.iterrows()):\n",
    "    game_id = row[\"game_id\"] - 38872\n",
    "    player = row[\"player\"]\n",
    "    action = row[\"event_contents\"].split(\";\")\n",
    "    tim = str(row[\"time\"]).split(\".\")\n",
    "    tim = int(tim[0])*60 + int(tim[1])\n",
    "    end_time = time[game_id]\n",
    "    \n",
    "    location = re.findall(\"(\\d{1,3}\\.\\d{1,3})\", row[\"event_contents\"])\n",
    "    location = list(map(float, location))\n",
    "    \n",
    "    if location == [] : \n",
    "        continue\n",
    "        \n",
    "    if tim < end_time*0.8:\n",
    "        if player == 0:\n",
    "            x = float(p0_start_location_x[game_id]) - float(location[0])\n",
    "            y = float(p0_start_location_y[game_id]) - float(location[1])\n",
    "            player0_attack_0[game_id].append((x**2 + y**2)**0.5)\n",
    "\n",
    "        elif player == 1:\n",
    "            x = float(p1_start_location_x[game_id]) - float(location[0])\n",
    "            y = float(p1_start_location_y[game_id]) - float(location[1])\n",
    "            player1_attack_0[game_id].append((x**2 + y**2)**0.5)\n",
    "\n",
    "    elif tim >= end_time*0.8:\n",
    "        if player == 0:\n",
    "            x = float(p0_start_location_x[game_id]) - float(location[0])\n",
    "            y = float(p0_start_location_y[game_id]) - float(location[1])\n",
    "            player0_attack_1[game_id].append((x**2 + y**2)**0.5)            \n",
    "        elif player == 1:\n",
    "            x = float(p1_start_location_x[game_id]) - float(location[0])\n",
    "            y = float(p1_start_location_y[game_id]) - float(location[1])\n",
    "            player1_attack_1[game_id].append((x**2 + y**2)**0.5)"
   ]
  },
  {
   "cell_type": "code",
   "execution_count": 42,
   "metadata": {},
   "outputs": [],
   "source": [
    "data_attack = data_ability[data_ability[\"event_contents\"].str.contains(\"Attack\")]"
   ]
  },
  {
   "cell_type": "code",
   "execution_count": 43,
   "metadata": {},
   "outputs": [
    {
     "name": "stderr",
     "output_type": "stream",
     "text": [
      "242775it [00:27, 8861.18it/s]\n"
     ]
    }
   ],
   "source": [
    "for idx, row in tqdm(data_attack.iterrows()):\n",
    "    game_id = row[\"game_id\"] - 38872\n",
    "    player = row[\"player\"]\n",
    "    action = row[\"event_contents\"].split(\";\")\n",
    "    tim = str(row[\"time\"]).split(\".\")\n",
    "    tim = int(tim[0])*60 + int(tim[1])\n",
    "    end_time = time[game_id]\n",
    "    \n",
    "    location = re.findall(\"(\\d{1,3}\\.\\d{1,3})\", row[\"event_contents\"])\n",
    "    location = list(map(float, location))\n",
    "    \n",
    "    if location == [] : \n",
    "        continue\n",
    "        \n",
    "    if tim < end_time*0.8:\n",
    "        if player == 0:\n",
    "            x = float(p0_start_location_x[game_id]) - float(location[0])\n",
    "            y = float(p0_start_location_y[game_id]) - float(location[1])\n",
    "            player0_attack_0[game_id].append((x**2 + y**2)**0.5)\n",
    "            player0_attack_0[game_id].append((x**2 + y**2)**0.5)\n",
    "            player0_attack_0[game_id].append((x**2 + y**2)**0.5)\n",
    "\n",
    "        elif player == 1:\n",
    "            x = float(p1_start_location_x[game_id]) - float(location[0])\n",
    "            y = float(p1_start_location_y[game_id]) - float(location[1])\n",
    "            player1_attack_0[game_id].append((x**2 + y**2)**0.5)\n",
    "            player1_attack_0[game_id].append((x**2 + y**2)**0.5)\n",
    "            player1_attack_0[game_id].append((x**2 + y**2)**0.5)\n",
    "\n",
    "    elif tim >= end_time*0.8:\n",
    "        if player == 0:\n",
    "            x = float(p0_start_location_x[game_id]) - float(location[0])\n",
    "            y = float(p0_start_location_y[game_id]) - float(location[1])\n",
    "            player0_attack_1[game_id].append((x**2 + y**2)**0.5)  \n",
    "            player0_attack_1[game_id].append((x**2 + y**2)**0.5) \n",
    "            player0_attack_1[game_id].append((x**2 + y**2)**0.5) \n",
    "            \n",
    "        elif player == 1:\n",
    "            x = float(p1_start_location_x[game_id]) - float(location[0])\n",
    "            y = float(p1_start_location_y[game_id]) - float(location[1])\n",
    "            player1_attack_1[game_id].append((x**2 + y**2)**0.5)\n",
    "            player1_attack_1[game_id].append((x**2 + y**2)**0.5)\n",
    "            player1_attack_1[game_id].append((x**2 + y**2)**0.5)"
   ]
  },
  {
   "cell_type": "code",
   "execution_count": 44,
   "metadata": {},
   "outputs": [
    {
     "name": "stderr",
     "output_type": "stream",
     "text": [
      "100%|████████████████████████████████████████████████████████████████████████| 16787/16787 [00:00<00:00, 239760.62it/s]\n"
     ]
    }
   ],
   "source": [
    "for i in tqdm(range(len(p0_attack_distance_0))):\n",
    "    if len(player0_attack_0[i]) > 0 : p0_attack_distance_0[i] = sum(player0_attack_0[i]) / len(player0_attack_0[i])\n",
    "    if len(player0_attack_1[i]) > 0 : p0_attack_distance_1[i] = sum(player0_attack_1[i]) / len(player0_attack_1[i])\n",
    "    if len(player1_attack_0[i]) > 0 : p1_attack_distance_0[i] = sum(player1_attack_0[i]) / len(player1_attack_0[i])\n",
    "    if len(player1_attack_1[i]) > 0 : p1_attack_distance_1[i] = sum(player1_attack_1[i]) / len(player1_attack_1[i])\n",
    "    p0_click_count_0[i] = len(player0_attack_0[i])\n",
    "    p0_click_count_1[i] = len(player0_attack_1[i])\n",
    "    p1_click_count_0[i] = len(player1_attack_0[i])\n",
    "    p1_click_count_1[i] = len(player1_attack_1[i])"
   ]
  },
  {
   "cell_type": "markdown",
   "metadata": {},
   "source": [
    "### Feature - 베이스라인"
   ]
  },
  {
   "cell_type": "code",
   "execution_count": 45,
   "metadata": {},
   "outputs": [
    {
     "name": "stderr",
     "output_type": "stream",
     "text": [
      "100%|███████████████████████████████████████████████████████████████████████████| 16787/16787 [01:25<00:00, 195.91it/s]\n"
     ]
    }
   ],
   "source": [
    "x_test, _ = data_preparation(data_test, answer=False)"
   ]
  },
  {
   "cell_type": "markdown",
   "metadata": {},
   "source": [
    "### 데이터 열 추가"
   ]
  },
  {
   "cell_type": "code",
   "execution_count": 46,
   "metadata": {},
   "outputs": [],
   "source": [
    "test_X[\"p0_train_mineral\"] = p0_train_mineral\n",
    "test_X[\"p1_train_mineral\"] = p1_train_mineral\n",
    "test_X[\"p0_train_gas\"] = p0_train_gas\n",
    "test_X[\"p1_train_gas\"] = p1_train_gas\n",
    "test_X[\"p0_build_mineral\"] = p0_build_mineral\n",
    "test_X[\"p1_build_mineral\"] = p1_build_mineral\n",
    "test_X[\"p0_build_gas\"] = p0_build_gas\n",
    "test_X[\"p1_build_gas\"] = p1_build_gas\n",
    "test_X[\"p0_research_mineral\"] = p0_research_mineral\n",
    "test_X[\"p1_research_mineral\"] = p1_research_mineral\n",
    "test_X[\"p0_research_gas\"] = p0_research_gas\n",
    "test_X[\"p1_research_gas\"] = p1_research_gas\n",
    "test_X[\"p0_worker_mineral\"] = p0_worker_mineral\n",
    "test_X[\"p1_worker_mineral\"] = p1_worker_mineral\n",
    "test_X[\"p0_attack_distance_0\"] = p0_attack_distance_0\n",
    "test_X[\"p0_attack_distance_1\"] = p0_attack_distance_1\n",
    "test_X[\"p1_attack_distance_0\"] = p1_attack_distance_0\n",
    "test_X[\"p1_attack_distance_1\"] = p1_attack_distance_1\n",
    "test_X[\"p0_click_count_1\"] = p0_click_count_1\n",
    "test_X[\"p1_click_count_1\"] = p1_click_count_1\n",
    "test_X = test_X.drop(\"game_id\", axis=1)\n",
    "\n",
    "\n",
    "# test_X[\"delta_train_mineral\"] = test_X[\"p0_train_mineral\"] - test_X[\"p1_train_mineral\"]\n",
    "# test_X[\"delta_train_gas\"] = test_X[\"p0_train_gas\"] - test_X[\"p1_train_gas\"]\n",
    "# test_X[\"delta_build_mineral\"] = test_X[\"p0_build_mineral\"] - test_X[\"p1_build_mineral\"]\n",
    "# test_X[\"delta_build_gas\"] = test_X[\"p0_build_gas\"] - test_X[\"p1_build_gas\"]\n",
    "# test_X[\"delta_research_mineral\"] = test_X[\"p0_research_mineral\"] - test_X[\"p1_research_mineral\"]\n",
    "# test_X[\"delta_research_gas\"] = test_X[\"p0_research_gas\"] - test_X[\"p1_research_gas\"]\n",
    "# test_X[\"delta_worker_mineral\"] = test_X[\"p0_worker_mineral\"] - test_X[\"p1_worker_mineral\"]\n",
    "# test_X[\"delta_attack_distance_0\"] = test_X[\"p0_attack_distance_0\"] - test_X[\"p1_attack_distance_0\"] \n",
    "# test_X[\"delta_attack_distance_1\"] = test_X[\"p0_attack_distance_1\"] - test_X[\"p1_attack_distance_1\"]\n",
    "# test_X[\"delta_click_count_1\"] = test_X[\"p0_click_count_1\"] - test_X[\"p1_click_count_1\"] "
   ]
  },
  {
   "cell_type": "code",
   "execution_count": 47,
   "metadata": {},
   "outputs": [],
   "source": [
    "x_test.reset_index(drop = True, inplace = True)\n",
    "test_X.reset_index(drop = True, inplace = True)"
   ]
  },
  {
   "cell_type": "code",
   "execution_count": 48,
   "metadata": {},
   "outputs": [],
   "source": [
    "test_X = pd.concat([test_X, x_test], axis=1)"
   ]
  },
  {
   "cell_type": "code",
   "execution_count": 49,
   "metadata": {},
   "outputs": [],
   "source": [
    "# for data\n",
    "column_list = list(test_X.columns)\n",
    "test_X = scaler.transform(test_X) \n",
    "test_X = pd.DataFrame(data = test_X, columns = column_list)\n",
    "test_X.to_csv(\"test.csv\", index_label='game_id')"
   ]
  },
  {
   "cell_type": "code",
   "execution_count": 48,
   "metadata": {},
   "outputs": [],
   "source": [
    "scaler = StandardScaler()\n",
    "X_forsub = scaler.fit_transform(X_forsub)\n",
    "test_X = scaler.transform(test_X)"
   ]
  },
  {
   "cell_type": "code",
   "execution_count": 49,
   "metadata": {},
   "outputs": [],
   "source": [
    "import time\n",
    "import random\n",
    "import numpy as np  # 1.18.1\n",
    "from numpy.random import shuffle\n",
    "import pandas as pd  # 0.25.3\n",
    "import torch  # 1.4.0\n",
    "import torch.nn as nn\n",
    "import torch.optim as optim\n",
    "from torch.utils.data import TensorDataset\n",
    "from torch.utils.data.sampler import Sampler, SequentialSampler\n",
    "from torch.backends import cudnn"
   ]
  },
  {
   "cell_type": "code",
   "execution_count": 50,
   "metadata": {},
   "outputs": [],
   "source": [
    "pd.DataFrame(X_forsub).to_csv(\"./data/X_forsub.csv\", index=None)\n",
    "pd.DataFrame(y_forsub).to_csv(\"./data/y_forsub.csv\", index=None)\n",
    "pd.DataFrame(test_X).to_csv(\"./data/test_X.csv\", index=None)"
   ]
  },
  {
   "cell_type": "markdown",
   "metadata": {},
   "source": [
    "# XGB"
   ]
  },
  {
   "cell_type": "code",
   "execution_count": null,
   "metadata": {},
   "outputs": [],
   "source": [
    "xg_clf = xgb.XGBClassifier(eval_metric = 'auc', objective = 'binary:logistic',colsample_bytree = 0.7, learning_rate = 0.01,\n",
    "                max_depth = 6, alpha = 10, n_estimators = 2000, sub_sample=0.7)\n",
    "xg_clf.fit(X_train,y_train)"
   ]
  },
  {
   "cell_type": "code",
   "execution_count": null,
   "metadata": {},
   "outputs": [],
   "source": [
    "preds = xg_clf.predict(X_test)\n",
    "roc_auc_score(y_test, preds)"
   ]
  },
  {
   "cell_type": "code",
   "execution_count": null,
   "metadata": {},
   "outputs": [],
   "source": [
    "preds = xg_clf.predict_proba(X_test)\n",
    "roc_auc_score(y_test, preds[:,1])"
   ]
  },
  {
   "cell_type": "code",
   "execution_count": null,
   "metadata": {},
   "outputs": [],
   "source": [
    "xg_clf2 = xgb.XGBClassifier(eval_metric = 'auc', objective = 'binary:logistic',colsample_bytree = 0.7, learning_rate = 0.01,\n",
    "                max_depth = 7, alpha = 10, n_estimators = 2000, sub_sample=0.7)\n",
    "xg_clf2.fit(X_train,y_train)"
   ]
  },
  {
   "cell_type": "code",
   "execution_count": null,
   "metadata": {},
   "outputs": [],
   "source": [
    "preds = xg_clf2.predict(X_test)\n",
    "roc_auc_score(y_test, preds)"
   ]
  },
  {
   "cell_type": "code",
   "execution_count": null,
   "metadata": {},
   "outputs": [],
   "source": [
    "preds = xg_clf2.predict_proba(X_test)\n",
    "roc_auc_score(y_test, preds[:,1])"
   ]
  },
  {
   "cell_type": "markdown",
   "metadata": {},
   "source": [
    "# LGBM"
   ]
  },
  {
   "cell_type": "code",
   "execution_count": null,
   "metadata": {},
   "outputs": [],
   "source": [
    "lgbm_clf = lgb.LGBMClassifier(eval_metric = 'auc', objective = 'binary=logistic', colsample_bytree = 0.37, learning_rate = 0.01, n_estimators = 1000, num_leaves = 45, reg_alpha = 7.5, reg_lambda = 0.83, subsample = 0.79)\n",
    "lgbm_clf.fit(X_train, y_train)"
   ]
  },
  {
   "cell_type": "code",
   "execution_count": null,
   "metadata": {},
   "outputs": [],
   "source": [
    "preds = lgbm_clf.predict(X_test)\n",
    "roc_auc_score(y_test, preds)"
   ]
  },
  {
   "cell_type": "code",
   "execution_count": null,
   "metadata": {},
   "outputs": [],
   "source": [
    "preds = lgbm_clf.predict_proba(X_test)\n",
    "roc_auc_score(y_test, preds[:,1])"
   ]
  },
  {
   "cell_type": "code",
   "execution_count": null,
   "metadata": {},
   "outputs": [],
   "source": [
    "lgbm_clf2 = lgb.LGBMClassifier(eval_metric = 'auc', objective = 'binary=logistic', colsample_bytree = 0.4, learning_rate = 0.01, n_estimators = 1000, num_leaves = 40, reg_alpha = 7, reg_lambda = 0.8, subsample = 0.75)\n",
    "lgbm_clf2.fit(X_train, y_train)"
   ]
  },
  {
   "cell_type": "code",
   "execution_count": null,
   "metadata": {},
   "outputs": [],
   "source": [
    "preds = lgbm_clf2.predict(X_test)\n",
    "roc_auc_score(y_test, preds)"
   ]
  },
  {
   "cell_type": "code",
   "execution_count": null,
   "metadata": {},
   "outputs": [],
   "source": [
    "preds = lgbm_clf2.predict_proba(X_test)\n",
    "roc_auc_score(y_test, preds[:,1])"
   ]
  },
  {
   "cell_type": "markdown",
   "metadata": {},
   "source": [
    "# SVC"
   ]
  },
  {
   "cell_type": "code",
   "execution_count": null,
   "metadata": {},
   "outputs": [],
   "source": [
    "# def svc_param_selection(X, y, nfolds):\n",
    "#     Cs = [0.001, 0.01, 0.1, 1, 10]\n",
    "#     gammas = [0.001, 0.01, 0.1, 1]\n",
    "#     param_grid = {'C': Cs, 'gamma' : gammas}\n",
    "#     grid_search = GridSearchCV(SVC(kernel='rbf'), param_grid, cv=nfolds)\n",
    "#     grid_search.fit(X, y)\n",
    "#     grid_search.best_params_\n",
    "#     return grid_search.best_params_"
   ]
  },
  {
   "cell_type": "code",
   "execution_count": null,
   "metadata": {},
   "outputs": [],
   "source": [
    "# svc_param_selection(X_forsub, y_forsub, 3)"
   ]
  },
  {
   "cell_type": "code",
   "execution_count": null,
   "metadata": {},
   "outputs": [],
   "source": [
    "svc = SVC(C = 1, gamma = 0.01, kernel = 'rbf', probability=True)\n",
    "svc.fit(X_train, y_train)"
   ]
  },
  {
   "cell_type": "code",
   "execution_count": null,
   "metadata": {},
   "outputs": [],
   "source": [
    "preds = svc.predict(X_test)\n",
    "roc_auc_score(y_test, preds)"
   ]
  },
  {
   "cell_type": "code",
   "execution_count": null,
   "metadata": {},
   "outputs": [],
   "source": [
    "preds = svc.predict_proba(X_test)\n",
    "roc_auc_score(y_test, preds[:,1])"
   ]
  },
  {
   "cell_type": "markdown",
   "metadata": {},
   "source": [
    "# Logistic"
   ]
  },
  {
   "cell_type": "code",
   "execution_count": null,
   "metadata": {},
   "outputs": [],
   "source": [
    "# logreg = GridSearchCV(cv=5,\n",
    "#              estimator=LogisticRegression(C=1.0),\n",
    "#              param_grid={'C': [0.0001, 0.001, 0.01, 0.1, 1, 10, 100, 1000]})\n",
    "# logreg.fit(X_train, y_train)\n",
    "# print(logreg.best_params_, logreg.best_score_)"
   ]
  },
  {
   "cell_type": "code",
   "execution_count": null,
   "metadata": {},
   "outputs": [],
   "source": [
    "logreg = LogisticRegression(C = 0.001)\n",
    "logreg.fit(X_train, y_train)"
   ]
  },
  {
   "cell_type": "code",
   "execution_count": null,
   "metadata": {},
   "outputs": [],
   "source": [
    "preds = logreg.predict(X_test)\n",
    "roc_auc_score(y_test, preds)"
   ]
  },
  {
   "cell_type": "code",
   "execution_count": null,
   "metadata": {},
   "outputs": [],
   "source": [
    "preds = logreg.predict_proba(X_test)\n",
    "roc_auc_score(y_test, preds[:,1])"
   ]
  },
  {
   "cell_type": "markdown",
   "metadata": {},
   "source": [
    "# RF"
   ]
  },
  {
   "cell_type": "code",
   "execution_count": null,
   "metadata": {},
   "outputs": [],
   "source": [
    "RF = RandomForestClassifier(n_estimators = 1000)\n",
    "RF.fit(X_train, y_train)"
   ]
  },
  {
   "cell_type": "code",
   "execution_count": null,
   "metadata": {},
   "outputs": [],
   "source": [
    "preds = RF.predict(X_test)\n",
    "roc_auc_score(y_test, preds)"
   ]
  },
  {
   "cell_type": "code",
   "execution_count": null,
   "metadata": {},
   "outputs": [],
   "source": [
    "preds = RF.predict_proba(X_test)\n",
    "roc_auc_score(y_test, preds[:,1])"
   ]
  },
  {
   "cell_type": "markdown",
   "metadata": {},
   "source": [
    "# Catboost"
   ]
  },
  {
   "cell_type": "code",
   "execution_count": null,
   "metadata": {},
   "outputs": [],
   "source": [
    "# CB = CatBoostClassifier(task_type=\"GPU\", verbose=False, eval_metric=\"AUC\", border_count=254)\n",
    "# params = {'depth':[6,8,10],\n",
    "#           'iterations':[250,100,500,1000],\n",
    "#           'l2_leaf_reg':[1,3,5,7,9]}\n",
    "# grid_search_result = CB.grid_search(params, \n",
    "#                                        X=X_train, \n",
    "#                                        y=y_train, \n",
    "#                                        plot=True)"
   ]
  },
  {
   "cell_type": "code",
   "execution_count": null,
   "metadata": {},
   "outputs": [],
   "source": [
    "CB = CatBoostClassifier(task_type=\"GPU\", verbose=False, eval_metric=\"AUC\", border_count=254, depth=8, l2_leaf_reg=3, iterations=1000)\n",
    "CB.fit(X_train,y_train)"
   ]
  },
  {
   "cell_type": "code",
   "execution_count": null,
   "metadata": {},
   "outputs": [],
   "source": [
    "preds = CB.predict(X_test)\n",
    "roc_auc_score(y_test, preds)"
   ]
  },
  {
   "cell_type": "code",
   "execution_count": null,
   "metadata": {},
   "outputs": [],
   "source": [
    "preds = CB.predict_proba(X_test)\n",
    "roc_auc_score(y_test, preds[:,1])"
   ]
  },
  {
   "cell_type": "code",
   "execution_count": null,
   "metadata": {},
   "outputs": [],
   "source": [
    "CB2 = CatBoostClassifier(task_type=\"GPU\", verbose=False, eval_metric=\"AUC\", border_count=254, depth=8, l2_leaf_reg=1, iterations=1000)\n",
    "CB2.fit(X_train,y_train)"
   ]
  },
  {
   "cell_type": "code",
   "execution_count": null,
   "metadata": {},
   "outputs": [],
   "source": [
    "preds = CB2.predict(X_test)\n",
    "roc_auc_score(y_test, preds)"
   ]
  },
  {
   "cell_type": "code",
   "execution_count": null,
   "metadata": {},
   "outputs": [],
   "source": [
    "preds = CB2.predict_proba(X_test)\n",
    "roc_auc_score(y_test, preds[:,1])"
   ]
  },
  {
   "cell_type": "markdown",
   "metadata": {},
   "source": [
    "----"
   ]
  },
  {
   "cell_type": "markdown",
   "metadata": {},
   "source": [
    "# Ensemble"
   ]
  },
  {
   "cell_type": "code",
   "execution_count": 79,
   "metadata": {},
   "outputs": [],
   "source": [
    "# Example of DCS techniques\n",
    "from deslib.dcs import OLA\n",
    "from deslib.dcs import MCB\n",
    "# Example of DES techniques\n",
    "from deslib.des import KNORAE\n",
    "from deslib.des import DESP\n",
    "from deslib.des import KNORAU\n",
    "from deslib.des import METADES\n",
    "from deslib.static import StackedClassifier\n",
    "from sklearn.ensemble import VotingClassifier"
   ]
  },
  {
   "cell_type": "code",
   "execution_count": 80,
   "metadata": {},
   "outputs": [
    {
     "name": "stdout",
     "output_type": "stream",
     "text": [
      "Evaluating DS techniques:\n",
      "Classification accuracy of Majority voting the pool:  0.6284244372990354\n",
      "Classification accuracy of KNORA-U:  0.630096463022508\n",
      "0.6800292417163468\n",
      "Classification accuracy Stacking LR 0.6295819935691318\n",
      "0.6803340855505478\n"
     ]
    }
   ],
   "source": [
    "pool_classifiers = [CB, CB2, xg_clf, xg_clf2, lgbm_clf, lgbm_clf2, svc, logreg, RF]\n",
    "voting_classifiers = [(\"CB\", CB),\n",
    "                      (\"CB2\", CB2),\n",
    "                      (\"xgb\", xg_clf),\n",
    "                      (\"xgb2\", xg_clf2),\n",
    "                      (\"lgbm\", lgbm_clf),\n",
    "                      (\"lgbm2\", lgbm_clf2),\n",
    "                      (\"svc\", svc),\n",
    "                      (\"logreg\", logreg),\n",
    "                      (\"RF\", RF)]\n",
    "model_voting = VotingClassifier(estimators=voting_classifiers).fit(\n",
    "    X_train, y_train)\n",
    "\n",
    "# Initializing the techniques\n",
    "knorau = KNORAU(pool_classifiers)\n",
    "# kne = KNORAE(pool_classifiers)\n",
    "# desp = DESP(pool_classifiers)\n",
    "# metades = METADES(pool_classifiers, mode='hybrid')\n",
    "# # DCS techniques\n",
    "# ola = OLA(pool_classifiers)\n",
    "# mcb = MCB(pool_classifiers)\n",
    "\n",
    "stacked_lr = StackedClassifier(pool_classifiers, random_state=77)\n",
    "stacked_dt = StackedClassifier(pool_classifiers,\n",
    "                               random_state=77,\n",
    "                               meta_classifier=DecisionTreeClassifier())\n",
    "\n",
    "knorau.fit(X_train, y_train)\n",
    "# kne.fit(X_train, y_train)\n",
    "# desp.fit(X_train, y_train)\n",
    "# metades.fit(X_train, y_train)\n",
    "# ola.fit(X_train, y_train)\n",
    "# mcb.fit(X_train, y_train)\n",
    "\n",
    "stacked_lr.fit(X_train, y_train)\n",
    "# stacked_dt.fit(X_train, y_train)\n",
    "\n",
    "# # Fitting the DS techniques\n",
    "# knorau.fit(X_dsel, y_dsel)\n",
    "# kne.fit(X_dsel, y_dsel)\n",
    "# desp.fit(X_dsel, y_dsel)\n",
    "# metades.fit(X_dsel, y_dsel)\n",
    "# ola.fit(X_dsel, y_dsel)\n",
    "# mcb.fit(X_dsel, y_dsel)\n",
    "\n",
    "# # Fitting the tacking models\n",
    "# stacked_lr.fit(X_dsel, y_dsel)\n",
    "# stacked_dt.fit(X_dsel, y_dsel)\n",
    "\n",
    "print('Evaluating DS techniques:')\n",
    "print('Classification accuracy of Majority voting the pool: ',\n",
    "      model_voting.score(X_test, y_test))\n",
    "print('Classification accuracy of KNORA-U: ', knorau.score(X_test, y_test))\n",
    "preds = knorau.predict_proba(X_test)\n",
    "print(roc_auc_score(y_test, preds[:,1]))\n",
    "# print('Classification accuracy of KNORA-E: ', kne.score(X_test, y_test))\n",
    "# print('Classification accuracy of DESP: ', desp.score(X_test, y_test))\n",
    "# print('Classification accuracy of META-DES: ', metades.score(X_test, y_test))\n",
    "# print('Classification accuracy of OLA: ', ola.score(X_test, y_test))\n",
    "print('Classification accuracy Stacking LR', stacked_lr.score(X_test, y_test))\n",
    "preds = stacked_lr.predict_proba(X_test)\n",
    "print(roc_auc_score(y_test, preds[:,1]))\n",
    "# print('Classification accuracy Stacking DT', stacked_dt.score(X_test, y_test))\n"
   ]
  },
  {
   "cell_type": "markdown",
   "metadata": {},
   "source": [
    "------------------------"
   ]
  },
  {
   "cell_type": "markdown",
   "metadata": {},
   "source": [
    "# 제출"
   ]
  },
  {
   "cell_type": "code",
   "execution_count": 82,
   "metadata": {},
   "outputs": [],
   "source": [
    "xg_clf = xgb.XGBClassifier(eval_metric = 'auc', objective = 'binary:logistic',colsample_bytree = 0.7, learning_rate = 0.01,\n",
    "                max_depth = 6, alpha = 10, n_estimators = 2000, sub_sample=0.7)\n",
    "xg_clf.fit(X_forsub,y_forsub)\n",
    "\n",
    "xg_clf2 = xgb.XGBClassifier(eval_metric = 'auc', objective = 'binary:logistic',colsample_bytree = 0.7, learning_rate = 0.01,\n",
    "                max_depth = 7, alpha = 10, n_estimators = 2000, sub_sample=0.7)\n",
    "xg_clf2.fit(X_forsub,y_forsub)\n",
    "\n",
    "lgbm_clf = lgb.LGBMClassifier(eval_metric = 'auc', objective = 'binary=logistic', colsample_bytree = 0.37, learning_rate = 0.01, n_estimators = 1000, num_leaves = 45, reg_alpha = 7.5, reg_lambda = 0.83, subsample = 0.79)\n",
    "lgbm_clf.fit(X_forsub, y_forsub)\n",
    "\n",
    "lgbm_clf2 = lgb.LGBMClassifier(eval_metric = 'auc', objective = 'binary=logistic', colsample_bytree = 0.4, learning_rate = 0.01, n_estimators = 1000, num_leaves = 40, reg_alpha = 7, reg_lambda = 0.8, subsample = 0.75)\n",
    "lgbm_clf2.fit(X_forsub, y_forsub)\n",
    "\n",
    "CB = CatBoostClassifier(task_type=\"GPU\", verbose=False, eval_metric=\"AUC\", border_count=254, depth=8, l2_leaf_reg=3, iterations=1000)\n",
    "CB.fit(X_forsub,y_forsub)\n",
    "\n",
    "CB2 = CatBoostClassifier(task_type=\"GPU\", verbose=False, eval_metric=\"AUC\", border_count=254, depth=8, l2_leaf_reg=1, iterations=1000)\n",
    "CB2.fit(X_forsub,y_forsub)\n",
    "\n",
    "svc = SVC(C = 1, gamma = 0.01, kernel = 'rbf', probability=True)\n",
    "svc.fit(X_forsub, y_forsub)\n",
    "\n",
    "logreg = LogisticRegression(C = 0.001)\n",
    "logreg.fit(X_forsub, y_forsub)\n",
    "\n",
    "RF = RandomForestClassifier(n_estimators = 1000)\n",
    "RF.fit(X_forsub, y_forsub)\n",
    "\n",
    "pool_classifiers = [CB, CB2, xg_clf, xg_clf2, lgbm_clf, lgbm_clf2, svc, logreg, RF]\n",
    "\n",
    "knorau = KNORAU(pool_classifiers)\n",
    "\n",
    "knorau.fit(X_forsub, y_forsub)\n",
    "\n",
    "result = knorau.predict_proba(test_X)[:,1]"
   ]
  },
  {
   "cell_type": "code",
   "execution_count": 83,
   "metadata": {},
   "outputs": [],
   "source": [
    "game_id = list(range(38872, 38872+16787))\n",
    "mydict = {'game_id' : game_id, \"winner\" : result}\n",
    "sub = pd.DataFrame(mydict)\n",
    "sub.to_csv(\"final_sub2.csv\", index=False)"
   ]
  }
 ],
 "metadata": {
  "kernelspec": {
   "display_name": "Python 3",
   "language": "python",
   "name": "python3"
  },
  "language_info": {
   "codemirror_mode": {
    "name": "ipython",
    "version": 3
   },
   "file_extension": ".py",
   "mimetype": "text/x-python",
   "name": "python",
   "nbconvert_exporter": "python",
   "pygments_lexer": "ipython3",
   "version": "3.7.3"
  }
 },
 "nbformat": 4,
 "nbformat_minor": 4
}
