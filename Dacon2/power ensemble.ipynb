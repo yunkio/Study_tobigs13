{
 "cells": [
  {
   "cell_type": "code",
   "execution_count": 25,
   "metadata": {},
   "outputs": [],
   "source": [
    "import pandas as pd\n",
    "import numpy as np\n",
    "import os\n",
    "\n",
    "folder = 'Ensemble'\n",
    "nf = 0\n",
    "\n",
    "for f in os.listdir(folder):\n",
    "    ext = os.path.splitext(f)[-1]\n",
    "    if ext == '.csv': \n",
    "        s = pd.read_csv(folder+\"/\"+f)\n",
    "    else: \n",
    "        continue\n",
    "#     if len(s.columns) !=2:\n",
    "#         continue\n",
    "    if nf == 0: \n",
    "        slist = s\n",
    "    else: \n",
    "        slist = pd.merge(slist, s, on=\"id\")\n",
    "    nf += 1\n",
    "\n",
    "p = 1  # 이 파라미터는 멱평균 앙상블에 있어 중요한 수치임. 최적의 수치를 찾기 바랍니다.   \n",
    "if nf >= 2:\n",
    "    pred = 0\n",
    "    for j in range(nf): pred = pred + slist.iloc[:,j+1]**p \n",
    "    pred = pred / nf    \n",
    "    pred = pred**(1/p)\n",
    "\n",
    "    submit = pd.DataFrame({'id': slist.id, 'gender': pred})\n",
    "    t = pd.Timestamp.now()\n",
    "    fname = \"submission_PM_\" + str(t.month) + str(t.day) + \"_\" + str(t.hour) + str(t.minute) + \".csv\"\n",
    "    submit.to_csv(fname, index=False)"
   ]
  },
  {
   "cell_type": "code",
   "execution_count": 154,
   "metadata": {},
   "outputs": [],
   "source": [
    "df1 = pd.read_csv(\"Ensemble/NN_0.40.csv\")\n",
    "df2 = pd.read_csv(\"Ensemble/XGB_0.39.csv\")\n",
    "df3 = pd.read_csv(\"Ensemble/NN_0.41.csv\")"
   ]
  },
  {
   "cell_type": "code",
   "execution_count": 159,
   "metadata": {},
   "outputs": [],
   "source": [
    "p = 3\n",
    "nf = 3"
   ]
  },
  {
   "cell_type": "code",
   "execution_count": 160,
   "metadata": {},
   "outputs": [],
   "source": [
    "pred = 0\n",
    "pred = pred + df1.iloc[:, 1:]**p\n",
    "pred = pred + df2.iloc[:, 1:]**p\n",
    "pred = pred + df3.iloc[:, 1:]**p\n",
    "pred = pred/nf\n",
    "pred = pred**(1/p)"
   ]
  },
  {
   "cell_type": "code",
   "execution_count": 161,
   "metadata": {},
   "outputs": [],
   "source": [
    "for i in range(len(pred)):\n",
    "    pred.iloc[i] = pred.iloc[i] * 1/sum(pred.iloc[i])"
   ]
  },
  {
   "cell_type": "code",
   "execution_count": 162,
   "metadata": {},
   "outputs": [],
   "source": [
    "pred = pd.concat([df1.id, pred], axis=1)\n",
    "pred.to_csv(\"Submission/sub3_3.csv\", index=False)"
   ]
  },
  {
   "cell_type": "code",
   "execution_count": null,
   "metadata": {},
   "outputs": [],
   "source": []
  }
 ],
 "metadata": {
  "kernelspec": {
   "display_name": "Python 3",
   "language": "python",
   "name": "python3"
  },
  "language_info": {
   "codemirror_mode": {
    "name": "ipython",
    "version": 3
   },
   "file_extension": ".py",
   "mimetype": "text/x-python",
   "name": "python",
   "nbconvert_exporter": "python",
   "pygments_lexer": "ipython3",
   "version": "3.7.4"
  }
 },
 "nbformat": 4,
 "nbformat_minor": 4
}
