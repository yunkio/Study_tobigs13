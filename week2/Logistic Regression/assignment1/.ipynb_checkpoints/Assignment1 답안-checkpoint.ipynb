{
 "cells": [
  {
   "cell_type": "markdown",
   "metadata": {},
   "source": [
    "## Assignment1 예시 답안\n",
    "데이터에 대한 추가 설명을 따로 주지 않았던 탓에 어떤 metrics가 타당할지에 대한 생각을 하는 데에 어려움이 있을 수 있다고 판단했습니다.   \n",
    "이에 데이터 출처를 따로 설명하고 credit card fraud detection의 문제임을 밝힐 예정입니다.    \n",
    "따라서 해당 데이터에 가장 적합한 성능 지표를 찾고 이와 Accuracy 등을 비교하여 설명하는 과제 제출자가 우수 과제 선정 가능성이 높습니다!"
   ]
  },
  {
   "cell_type": "code",
   "execution_count": 1,
   "metadata": {},
   "outputs": [],
   "source": [
    "import pandas as pd\n",
    "import numpy as np\n",
    "import warnings\n",
    "warnings.filterwarnings('ignore')"
   ]
  },
  {
   "cell_type": "code",
   "execution_count": 2,
   "metadata": {},
   "outputs": [],
   "source": [
    "data = pd.read_csv('sampled_data.csv')"
   ]
  },
  {
   "cell_type": "code",
   "execution_count": 3,
   "metadata": {},
   "outputs": [
    {
     "data": {
      "text/plain": [
       "0    28428\n",
       "1       52\n",
       "Name: Class, dtype: int64"
      ]
     },
     "execution_count": 3,
     "metadata": {},
     "output_type": "execute_result"
    }
   ],
   "source": [
    "data['Class'].value_counts() ## imbalanced"
   ]
  },
  {
   "cell_type": "code",
   "execution_count": 4,
   "metadata": {},
   "outputs": [
    {
     "data": {
      "text/html": [
       "<div>\n",
       "<style scoped>\n",
       "    .dataframe tbody tr th:only-of-type {\n",
       "        vertical-align: middle;\n",
       "    }\n",
       "\n",
       "    .dataframe tbody tr th {\n",
       "        vertical-align: top;\n",
       "    }\n",
       "\n",
       "    .dataframe thead th {\n",
       "        text-align: right;\n",
       "    }\n",
       "</style>\n",
       "<table border=\"1\" class=\"dataframe\">\n",
       "  <thead>\n",
       "    <tr style=\"text-align: right;\">\n",
       "      <th></th>\n",
       "      <th>Time</th>\n",
       "      <th>V1</th>\n",
       "      <th>V2</th>\n",
       "      <th>V3</th>\n",
       "      <th>V4</th>\n",
       "      <th>V5</th>\n",
       "      <th>V6</th>\n",
       "      <th>V7</th>\n",
       "      <th>V8</th>\n",
       "      <th>V9</th>\n",
       "      <th>...</th>\n",
       "      <th>V21</th>\n",
       "      <th>V22</th>\n",
       "      <th>V23</th>\n",
       "      <th>V24</th>\n",
       "      <th>V25</th>\n",
       "      <th>V26</th>\n",
       "      <th>V27</th>\n",
       "      <th>V28</th>\n",
       "      <th>Amount</th>\n",
       "      <th>Class</th>\n",
       "    </tr>\n",
       "  </thead>\n",
       "  <tbody>\n",
       "    <tr>\n",
       "      <th>count</th>\n",
       "      <td>28480.000000</td>\n",
       "      <td>28480.000000</td>\n",
       "      <td>28480.000000</td>\n",
       "      <td>28480.000000</td>\n",
       "      <td>28480.000000</td>\n",
       "      <td>28480.000000</td>\n",
       "      <td>28480.000000</td>\n",
       "      <td>28480.000000</td>\n",
       "      <td>28480.000000</td>\n",
       "      <td>28480.000000</td>\n",
       "      <td>...</td>\n",
       "      <td>28480.000000</td>\n",
       "      <td>28480.000000</td>\n",
       "      <td>28480.000000</td>\n",
       "      <td>28480.000000</td>\n",
       "      <td>28480.000000</td>\n",
       "      <td>28480.000000</td>\n",
       "      <td>28480.000000</td>\n",
       "      <td>28480.000000</td>\n",
       "      <td>28480.000000</td>\n",
       "      <td>28480.000000</td>\n",
       "    </tr>\n",
       "    <tr>\n",
       "      <th>mean</th>\n",
       "      <td>94643.457198</td>\n",
       "      <td>-0.009853</td>\n",
       "      <td>0.002283</td>\n",
       "      <td>0.023257</td>\n",
       "      <td>0.007209</td>\n",
       "      <td>-0.002983</td>\n",
       "      <td>0.001408</td>\n",
       "      <td>0.001781</td>\n",
       "      <td>-0.001175</td>\n",
       "      <td>-0.002359</td>\n",
       "      <td>...</td>\n",
       "      <td>0.001560</td>\n",
       "      <td>0.001996</td>\n",
       "      <td>0.005655</td>\n",
       "      <td>0.000389</td>\n",
       "      <td>0.000116</td>\n",
       "      <td>-0.003401</td>\n",
       "      <td>-0.002118</td>\n",
       "      <td>-0.003817</td>\n",
       "      <td>88.245961</td>\n",
       "      <td>0.001826</td>\n",
       "    </tr>\n",
       "    <tr>\n",
       "      <th>std</th>\n",
       "      <td>47588.652617</td>\n",
       "      <td>1.921643</td>\n",
       "      <td>1.636421</td>\n",
       "      <td>1.485803</td>\n",
       "      <td>1.419452</td>\n",
       "      <td>1.353022</td>\n",
       "      <td>1.321492</td>\n",
       "      <td>1.190563</td>\n",
       "      <td>1.180562</td>\n",
       "      <td>1.092514</td>\n",
       "      <td>...</td>\n",
       "      <td>0.740709</td>\n",
       "      <td>0.721913</td>\n",
       "      <td>0.569450</td>\n",
       "      <td>0.610268</td>\n",
       "      <td>0.515988</td>\n",
       "      <td>0.484652</td>\n",
       "      <td>0.395407</td>\n",
       "      <td>0.304311</td>\n",
       "      <td>235.775903</td>\n",
       "      <td>0.042692</td>\n",
       "    </tr>\n",
       "    <tr>\n",
       "      <th>min</th>\n",
       "      <td>12.000000</td>\n",
       "      <td>-33.669917</td>\n",
       "      <td>-47.429676</td>\n",
       "      <td>-25.188773</td>\n",
       "      <td>-5.600607</td>\n",
       "      <td>-25.025820</td>\n",
       "      <td>-20.054615</td>\n",
       "      <td>-28.011293</td>\n",
       "      <td>-37.353443</td>\n",
       "      <td>-8.960922</td>\n",
       "      <td>...</td>\n",
       "      <td>-15.790142</td>\n",
       "      <td>-8.887017</td>\n",
       "      <td>-14.767079</td>\n",
       "      <td>-2.814898</td>\n",
       "      <td>-3.768740</td>\n",
       "      <td>-1.658162</td>\n",
       "      <td>-9.793568</td>\n",
       "      <td>-8.656570</td>\n",
       "      <td>0.000000</td>\n",
       "      <td>0.000000</td>\n",
       "    </tr>\n",
       "    <tr>\n",
       "      <th>25%</th>\n",
       "      <td>54244.000000</td>\n",
       "      <td>-0.948748</td>\n",
       "      <td>-0.590151</td>\n",
       "      <td>-0.850020</td>\n",
       "      <td>-0.842293</td>\n",
       "      <td>-0.696015</td>\n",
       "      <td>-0.766332</td>\n",
       "      <td>-0.551560</td>\n",
       "      <td>-0.205536</td>\n",
       "      <td>-0.640165</td>\n",
       "      <td>...</td>\n",
       "      <td>-0.226194</td>\n",
       "      <td>-0.532159</td>\n",
       "      <td>-0.160307</td>\n",
       "      <td>-0.354593</td>\n",
       "      <td>-0.316866</td>\n",
       "      <td>-0.329481</td>\n",
       "      <td>-0.071556</td>\n",
       "      <td>-0.053896</td>\n",
       "      <td>5.750000</td>\n",
       "      <td>0.000000</td>\n",
       "    </tr>\n",
       "    <tr>\n",
       "      <th>50%</th>\n",
       "      <td>84099.500000</td>\n",
       "      <td>-0.004241</td>\n",
       "      <td>0.068011</td>\n",
       "      <td>0.207794</td>\n",
       "      <td>-0.005891</td>\n",
       "      <td>-0.057630</td>\n",
       "      <td>-0.269471</td>\n",
       "      <td>0.046837</td>\n",
       "      <td>0.020862</td>\n",
       "      <td>-0.053404</td>\n",
       "      <td>...</td>\n",
       "      <td>-0.029125</td>\n",
       "      <td>0.009972</td>\n",
       "      <td>-0.009117</td>\n",
       "      <td>0.040856</td>\n",
       "      <td>0.013365</td>\n",
       "      <td>-0.060068</td>\n",
       "      <td>0.000948</td>\n",
       "      <td>0.011243</td>\n",
       "      <td>21.980000</td>\n",
       "      <td>0.000000</td>\n",
       "    </tr>\n",
       "    <tr>\n",
       "      <th>75%</th>\n",
       "      <td>139340.250000</td>\n",
       "      <td>1.307201</td>\n",
       "      <td>0.799815</td>\n",
       "      <td>1.040033</td>\n",
       "      <td>0.751093</td>\n",
       "      <td>0.610578</td>\n",
       "      <td>0.401779</td>\n",
       "      <td>0.571420</td>\n",
       "      <td>0.327867</td>\n",
       "      <td>0.588938</td>\n",
       "      <td>...</td>\n",
       "      <td>0.186376</td>\n",
       "      <td>0.522956</td>\n",
       "      <td>0.148473</td>\n",
       "      <td>0.438138</td>\n",
       "      <td>0.349229</td>\n",
       "      <td>0.236058</td>\n",
       "      <td>0.089146</td>\n",
       "      <td>0.077542</td>\n",
       "      <td>77.200000</td>\n",
       "      <td>0.000000</td>\n",
       "    </tr>\n",
       "    <tr>\n",
       "      <th>max</th>\n",
       "      <td>172785.000000</td>\n",
       "      <td>2.439207</td>\n",
       "      <td>14.706335</td>\n",
       "      <td>4.079168</td>\n",
       "      <td>13.143668</td>\n",
       "      <td>29.016124</td>\n",
       "      <td>14.793318</td>\n",
       "      <td>26.237722</td>\n",
       "      <td>15.374630</td>\n",
       "      <td>8.933028</td>\n",
       "      <td>...</td>\n",
       "      <td>27.202839</td>\n",
       "      <td>4.725713</td>\n",
       "      <td>17.606637</td>\n",
       "      <td>3.563214</td>\n",
       "      <td>3.561216</td>\n",
       "      <td>2.992947</td>\n",
       "      <td>6.250240</td>\n",
       "      <td>15.726807</td>\n",
       "      <td>7541.700000</td>\n",
       "      <td>1.000000</td>\n",
       "    </tr>\n",
       "  </tbody>\n",
       "</table>\n",
       "<p>8 rows × 31 columns</p>\n",
       "</div>"
      ],
      "text/plain": [
       "                Time            V1            V2            V3            V4  \\\n",
       "count   28480.000000  28480.000000  28480.000000  28480.000000  28480.000000   \n",
       "mean    94643.457198     -0.009853      0.002283      0.023257      0.007209   \n",
       "std     47588.652617      1.921643      1.636421      1.485803      1.419452   \n",
       "min        12.000000    -33.669917    -47.429676    -25.188773     -5.600607   \n",
       "25%     54244.000000     -0.948748     -0.590151     -0.850020     -0.842293   \n",
       "50%     84099.500000     -0.004241      0.068011      0.207794     -0.005891   \n",
       "75%    139340.250000      1.307201      0.799815      1.040033      0.751093   \n",
       "max    172785.000000      2.439207     14.706335      4.079168     13.143668   \n",
       "\n",
       "                 V5            V6            V7            V8            V9  \\\n",
       "count  28480.000000  28480.000000  28480.000000  28480.000000  28480.000000   \n",
       "mean      -0.002983      0.001408      0.001781     -0.001175     -0.002359   \n",
       "std        1.353022      1.321492      1.190563      1.180562      1.092514   \n",
       "min      -25.025820    -20.054615    -28.011293    -37.353443     -8.960922   \n",
       "25%       -0.696015     -0.766332     -0.551560     -0.205536     -0.640165   \n",
       "50%       -0.057630     -0.269471      0.046837      0.020862     -0.053404   \n",
       "75%        0.610578      0.401779      0.571420      0.327867      0.588938   \n",
       "max       29.016124     14.793318     26.237722     15.374630      8.933028   \n",
       "\n",
       "       ...           V21           V22           V23           V24  \\\n",
       "count  ...  28480.000000  28480.000000  28480.000000  28480.000000   \n",
       "mean   ...      0.001560      0.001996      0.005655      0.000389   \n",
       "std    ...      0.740709      0.721913      0.569450      0.610268   \n",
       "min    ...    -15.790142     -8.887017    -14.767079     -2.814898   \n",
       "25%    ...     -0.226194     -0.532159     -0.160307     -0.354593   \n",
       "50%    ...     -0.029125      0.009972     -0.009117      0.040856   \n",
       "75%    ...      0.186376      0.522956      0.148473      0.438138   \n",
       "max    ...     27.202839      4.725713     17.606637      3.563214   \n",
       "\n",
       "                V25           V26           V27           V28        Amount  \\\n",
       "count  28480.000000  28480.000000  28480.000000  28480.000000  28480.000000   \n",
       "mean       0.000116     -0.003401     -0.002118     -0.003817     88.245961   \n",
       "std        0.515988      0.484652      0.395407      0.304311    235.775903   \n",
       "min       -3.768740     -1.658162     -9.793568     -8.656570      0.000000   \n",
       "25%       -0.316866     -0.329481     -0.071556     -0.053896      5.750000   \n",
       "50%        0.013365     -0.060068      0.000948      0.011243     21.980000   \n",
       "75%        0.349229      0.236058      0.089146      0.077542     77.200000   \n",
       "max        3.561216      2.992947      6.250240     15.726807   7541.700000   \n",
       "\n",
       "              Class  \n",
       "count  28480.000000  \n",
       "mean       0.001826  \n",
       "std        0.042692  \n",
       "min        0.000000  \n",
       "25%        0.000000  \n",
       "50%        0.000000  \n",
       "75%        0.000000  \n",
       "max        1.000000  \n",
       "\n",
       "[8 rows x 31 columns]"
      ]
     },
     "execution_count": 4,
     "metadata": {},
     "output_type": "execute_result"
    }
   ],
   "source": [
    "data.describe() # Scaling을 해보자"
   ]
  },
  {
   "cell_type": "code",
   "execution_count": 5,
   "metadata": {},
   "outputs": [],
   "source": [
    "from sklearn.preprocessing import StandardScaler\n",
    "from sklearn.model_selection import train_test_split\n",
    "from sklearn.linear_model import LogisticRegression\n",
    "from sklearn.metrics import *"
   ]
  },
  {
   "cell_type": "code",
   "execution_count": 6,
   "metadata": {},
   "outputs": [],
   "source": [
    "# X, y 구분\n",
    "X = data.drop('Class', axis = 1)\n",
    "y = data['Class']"
   ]
  },
  {
   "cell_type": "code",
   "execution_count": 7,
   "metadata": {},
   "outputs": [],
   "source": [
    "X_train, X_test, y_train, y_test = train_test_split(X, y, random_state = 0)"
   ]
  },
  {
   "cell_type": "code",
   "execution_count": 8,
   "metadata": {},
   "outputs": [
    {
     "name": "stdout",
     "output_type": "stream",
     "text": [
      "학습데이터 X: (21360, 30), 학습데이터 y: (21360,), 테스트데이터 X: (7120, 30), 테스트데이터 y: (7120,)\n"
     ]
    }
   ],
   "source": [
    "print(\"학습데이터 X: {}, 학습데이터 y: {}, 테스트데이터 X: {}, 테스트데이터 y: {}\".format(X_train.shape, y_train.shape, X_test.shape, y_test.shape))"
   ]
  },
  {
   "cell_type": "code",
   "execution_count": 9,
   "metadata": {},
   "outputs": [
    {
     "data": {
      "text/plain": [
       "array([[-1.14108787,  0.58692535, -0.96859154, ...,  0.10758963,\n",
       "         0.15818377,  0.29765166],\n",
       "       [ 1.45624903,  1.08104822,  0.06234035, ..., -0.01913339,\n",
       "        -0.18118879, -0.36883746],\n",
       "       [ 0.75833894,  0.95436709, -0.60243691, ...,  0.28458186,\n",
       "        -0.08727433, -0.10139278],\n",
       "       ...,\n",
       "       [-1.17848378, -0.39306929,  0.3675534 , ..., -0.29358649,\n",
       "        -0.26392097, -0.06106382],\n",
       "       [ 1.56942307, -0.22082572,  0.14591662, ...,  0.0765422 ,\n",
       "        -0.00476937, -0.28817954],\n",
       "       [ 1.57928619,  0.98278649, -0.10310982, ..., -0.1759003 ,\n",
       "        -0.0853167 , -0.15891461]])"
      ]
     },
     "execution_count": 9,
     "metadata": {},
     "output_type": "execute_result"
    }
   ],
   "source": [
    "ss = StandardScaler()\n",
    "ss.fit_transform(X_train)\n",
    "ss.transform(X_train)"
   ]
  },
  {
   "cell_type": "code",
   "execution_count": 10,
   "metadata": {},
   "outputs": [
    {
     "data": {
      "text/plain": [
       "LogisticRegression(C=1.0, class_weight=None, dual=False, fit_intercept=True,\n",
       "                   intercept_scaling=1, l1_ratio=None, max_iter=100,\n",
       "                   multi_class='warn', n_jobs=None, penalty='l2',\n",
       "                   random_state=None, solver='warn', tol=0.0001, verbose=0,\n",
       "                   warm_start=False)"
      ]
     },
     "execution_count": 10,
     "metadata": {},
     "output_type": "execute_result"
    }
   ],
   "source": [
    "# Model 적합\n",
    "logreg = LogisticRegression()\n",
    "logreg.fit(X_train,y_train)"
   ]
  },
  {
   "cell_type": "markdown",
   "metadata": {},
   "source": [
    "### 1) Accuracy"
   ]
  },
  {
   "cell_type": "code",
   "execution_count": 11,
   "metadata": {},
   "outputs": [
    {
     "data": {
      "text/plain": [
       "0.998876404494382"
      ]
     },
     "execution_count": 11,
     "metadata": {},
     "output_type": "execute_result"
    }
   ],
   "source": [
    "logreg.score(X_test,y_test) # accuracy가 굉장히 높음"
   ]
  },
  {
   "cell_type": "markdown",
   "metadata": {},
   "source": [
    "### 2) Confusion Matrix"
   ]
  },
  {
   "cell_type": "code",
   "execution_count": 12,
   "metadata": {},
   "outputs": [
    {
     "data": {
      "text/plain": [
       "array([[7108,    3],\n",
       "       [   5,    4]], dtype=int64)"
      ]
     },
     "execution_count": 12,
     "metadata": {},
     "output_type": "execute_result"
    }
   ],
   "source": [
    "# Confusion Matrix 찍어보기\n",
    "y_pred = logreg.predict(X_test)\n",
    "confusion_matrix(y_test,y_pred)"
   ]
  },
  {
   "cell_type": "markdown",
   "metadata": {},
   "source": [
    "sklearn의 confusion matrix는   \n",
    "(0,0) : TN  \n",
    "(0,1): FP  \n",
    "(1,0): FN  \n",
    "(1,1): TN\n",
    "\n",
    "즉, logistic regression의 경우 confusion matrix에서 실제 0이지만 1이라고 예측한 경우 3개,    \n",
    "confusion matrix에서 실제 1이지만 0이라고 예측한 경우 1개가 있음을 알 수 있다."
   ]
  },
  {
   "cell_type": "code",
   "execution_count": 13,
   "metadata": {},
   "outputs": [
    {
     "data": {
      "text/plain": [
       "0.4444444444444444"
      ]
     },
     "execution_count": 13,
     "metadata": {},
     "output_type": "execute_result"
    }
   ],
   "source": [
    "# Recall을 찍어보자. (fraud detection의 경우 recall이 가장 적합한 성능 지표)\n",
    "recall_score(y_test, y_pred)"
   ]
  },
  {
   "cell_type": "markdown",
   "metadata": {},
   "source": [
    "확실히 Accuracy에 비해 많이 떨어짐을 알 수 있음"
   ]
  },
  {
   "cell_type": "markdown",
   "metadata": {},
   "source": [
    "### 3) Cut-off 조절\n",
    "최적의 cut-off를 찾기 위해 ROC_curve를 이용할 것."
   ]
  },
  {
   "cell_type": "code",
   "execution_count": 14,
   "metadata": {},
   "outputs": [],
   "source": [
    "pred_score = logreg.predict_proba(X_test)[:,1] # Class = 1일 확률의 예측값"
   ]
  },
  {
   "cell_type": "code",
   "execution_count": 15,
   "metadata": {},
   "outputs": [
    {
     "data": {
      "text/plain": [
       "array([7.90892779e-04, 2.61287000e-04, 1.42048846e-06, ...,\n",
       "       3.65805778e-03, 6.04186590e-04, 4.21885751e-04])"
      ]
     },
     "execution_count": 15,
     "metadata": {},
     "output_type": "execute_result"
    }
   ],
   "source": [
    "pred_score"
   ]
  },
  {
   "cell_type": "code",
   "execution_count": 16,
   "metadata": {},
   "outputs": [],
   "source": [
    "fpr, tpr, thresholds = roc_curve(y_test, pred_score)"
   ]
  },
  {
   "cell_type": "code",
   "execution_count": 17,
   "metadata": {},
   "outputs": [],
   "source": [
    "import matplotlib.pyplot as plt\n",
    "%matplotlib inline"
   ]
  },
  {
   "cell_type": "code",
   "execution_count": 18,
   "metadata": {},
   "outputs": [
    {
     "data": {
      "text/plain": [
       "Text(0, 0.5, 'Sensitivity(TPR)')"
      ]
     },
     "execution_count": 18,
     "metadata": {},
     "output_type": "execute_result"
    },
    {
     "data": {
      "image/png": "[encoded data removed]",
      "text/plain": [
       "<Figure size 432x288 with 1 Axes>"
      ]
     },
     "metadata": {
      "needs_background": "light"
     },
     "output_type": "display_data"
    }
   ],
   "source": [
    "x = fpr\n",
    "y = tpr\n",
    "plt.plot(x,y)\n",
    "plt.xlabel('1-Specificity(FPR)')\n",
    "plt.ylabel('Sensitivity(TPR)')"
   ]
  },
  {
   "cell_type": "code",
   "execution_count": 19,
   "metadata": {},
   "outputs": [],
   "source": [
    "res = {thrs_i: abs(fpr_i - tpr_i) for fpr_i, tpr_i, thrs_i in zip(fpr,tpr,thresholds)}"
   ]
  },
  {
   "cell_type": "code",
   "execution_count": 20,
   "metadata": {
    "collapsed": true,
    "jupyter": {
     "outputs_hidden": true
    }
   },
   "outputs": [
    {
     "data": {
      "text/plain": [
       "{1.9999999627788656: 0.0,\n",
       " 0.9999999627788656: 0.1111111111111111,\n",
       " 0.999974307572721: 0.2222222222222222,\n",
       " 0.9987101047553517: 0.22208159502492225,\n",
       " 0.9614878302795403: 0.33319270613603336,\n",
       " 0.6377949793622499: 0.33291145174143344,\n",
       " 0.5480714724249394: 0.44402256285254454,\n",
       " 0.3677436901126066: 0.4437413084579446,\n",
       " 0.3611646717614541: 0.5548524195690558,\n",
       " 0.1364751087197659: 0.5540086563852561,\n",
       " 0.1340164036437762: 0.6651197674963671,\n",
       " 0.08675003681059006: 0.6637134955233676,\n",
       " 0.07940403150521279: 0.7748246066344787,\n",
       " 0.03257228184080884: 0.7689182643478805,\n",
       " 0.03223047153492957: 0.8800293754589915,\n",
       " 0.013500226499343038: 0.8611853310207972,\n",
       " 0.013377118655341913: 0.9722964421319084,\n",
       " 0.0005966328645439909: 0.6451975812122064,\n",
       " 0.0005963165285946924: 0.6449163268176066,\n",
       " 5.447123249424493e-12: 0.0}"
      ]
     },
     "execution_count": 20,
     "metadata": {},
     "output_type": "execute_result"
    }
   ],
   "source": [
    "res \n",
    "# 1 이상의 확률값이 나오는 이유는 fpr = 0, tpr = 0으로 만들기 위함\n",
    "# abs(fpr - tpr) 값이 클 수록 좋음"
   ]
  },
  {
   "cell_type": "code",
   "execution_count": 21,
   "metadata": {},
   "outputs": [],
   "source": [
    " res_sorted = sorted(res.items(), key=lambda t: t[1], reverse = True)"
   ]
  },
  {
   "cell_type": "code",
   "execution_count": 22,
   "metadata": {},
   "outputs": [
    {
     "data": {
      "text/plain": [
       "0.013377118655341913"
      ]
     },
     "execution_count": 22,
     "metadata": {},
     "output_type": "execute_result"
    }
   ],
   "source": [
    "optimal_cutoff = res_sorted[0][0] # 가장 abs(fpr - tpr) 값이 큰 thresholds를 리턴함\n",
    "optimal_cutoff"
   ]
  },
  {
   "cell_type": "code",
   "execution_count": 23,
   "metadata": {},
   "outputs": [],
   "source": [
    "# 새로운 cut_off로 예측하기\n",
    "y_pred_new = logreg.predict_proba(X_test)[:,1] >= optimal_cutoff"
   ]
  },
  {
   "cell_type": "code",
   "execution_count": 24,
   "metadata": {},
   "outputs": [],
   "source": [
    "y_pred_new = list(map(int, y_pred_new))"
   ]
  },
  {
   "cell_type": "code",
   "execution_count": 25,
   "metadata": {},
   "outputs": [
    {
     "data": {
      "text/plain": [
       "array([[6914,  197],\n",
       "       [   0,    9]], dtype=int64)"
      ]
     },
     "execution_count": 25,
     "metadata": {},
     "output_type": "execute_result"
    }
   ],
   "source": [
    "confusion_matrix(y_test, y_pred_new) # FN 문제를 해결함!"
   ]
  },
  {
   "cell_type": "code",
   "execution_count": 26,
   "metadata": {},
   "outputs": [
    {
     "data": {
      "text/plain": [
       "1.0"
      ]
     },
     "execution_count": 26,
     "metadata": {},
     "output_type": "execute_result"
    }
   ],
   "source": [
    "recall_score(y_test, y_pred_new) # recall == 1 을 보여줌."
   ]
  },
  {
   "cell_type": "markdown",
   "metadata": {},
   "source": [
    "#### 결론\n",
    "1. target 값의 분포가 균형이 깨져있는 경우, 모델의 성능 평가 지표로 Accuracy를 사용하는 것이 부적합하다.\n",
    "2. 사용한 데이터의 특징에 따라 어떤 성능 평가 지표를 사용할지에 대한 고민이 필요하다. 가령, 질병 예측 혹은 사기 탐지(이상치 탐지) 등의 경우에는 False Negative Case를 줄이고, True Positive Case를 높이는 것이 중요하다. (ex. 질병에 걸렸으나 질병에 걸리지 않았다고 하는 경우, 질병에 걸리지 않았으나 질병에 걸렸다고 하는 경우보다 risk가 크기 때문)\n",
    "3. ROC_AUC 커브의 사용법을 익히고 이에 따라 optimal cut-off를 결정할 수 있다."
   ]
  },
  {
   "cell_type": "code",
   "execution_count": null,
   "metadata": {},
   "outputs": [],
   "source": []
  }
 ],
 "metadata": {
  "kernelspec": {
   "display_name": "Python 3",
   "language": "python",
   "name": "python3"
  },
  "language_info": {
   "codemirror_mode": {
    "name": "ipython",
    "version": 3
   },
   "file_extension": ".py",
   "mimetype": "text/x-python",
   "name": "python",
   "nbconvert_exporter": "python",
   "pygments_lexer": "ipython3",
   "version": "3.7.3"
  }
 },
 "nbformat": 4,
 "nbformat_minor": 4
}
