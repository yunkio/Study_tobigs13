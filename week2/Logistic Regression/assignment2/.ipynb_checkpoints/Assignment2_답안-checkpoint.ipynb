{
 "cells": [
  {
   "cell_type": "markdown",
   "metadata": {},
   "source": [
    "# Assignment2: Logistic Regression 구현\n",
    "1) 제가 제시한 틀을 사용하여 구현을 할 필요는 없습니다. 원하시는 대로 구현하시면 됩니다.  \n",
    "2) 단, code copy는 허용하지 않습니다. 코드 주석을 꼭 상세히 달아주세요. 주석이 부족한 경우, 미제출로 간주합니다."
   ]
  },
  {
   "cell_type": "code",
   "execution_count": 1,
   "metadata": {},
   "outputs": [],
   "source": [
    "import math, random\n",
    "from functools import partial,reduce\n",
    "from assignment2 import *\n",
    "import pandas as pd\n",
    "from sklearn.model_selection import train_test_split"
   ]
  },
  {
   "cell_type": "code",
   "execution_count": 2,
   "metadata": {},
   "outputs": [
    {
     "data": {
      "text/plain": [
       "'\\ndata 설명\\n1) Label: 유료 계정 등록 여부(target)\\n2) bias: 회귀 모형에서의 상수항을 위한 term (추정 시 포함하지 않아도 ok)\\n3) experience: 근속연수\\n4) salary: 연봉\\n\\n어떤 사용자가 유료 계정을 등록할지(Label == 1)에 대한 예측을 로지스틱 회귀 모형으로 진행합니다.\\n'"
      ]
     },
     "execution_count": 2,
     "metadata": {},
     "output_type": "execute_result"
    }
   ],
   "source": [
    "\"\"\"\n",
    "data 설명\n",
    "1) Label: 유료 계정 등록 여부(target)\n",
    "2) bias: 회귀 모형에서의 상수항을 위한 term (추정 시 포함하지 않아도 ok)\n",
    "3) experience: 근속연수\n",
    "4) salary: 연봉\n",
    "\n",
    "어떤 사용자가 유료 계정을 등록할지(Label == 1)에 대한 예측을 로지스틱 회귀 모형으로 진행합니다.\n",
    "\"\"\""
   ]
  },
  {
   "cell_type": "code",
   "execution_count": 3,
   "metadata": {},
   "outputs": [],
   "source": [
    "data = pd.read_csv('assignment_2.csv')"
   ]
  },
  {
   "cell_type": "code",
   "execution_count": 4,
   "metadata": {
    "scrolled": true
   },
   "outputs": [
    {
     "data": {
      "text/html": [
       "<div>\n",
       "<style scoped>\n",
       "    .dataframe tbody tr th:only-of-type {\n",
       "        vertical-align: middle;\n",
       "    }\n",
       "\n",
       "    .dataframe tbody tr th {\n",
       "        vertical-align: top;\n",
       "    }\n",
       "\n",
       "    .dataframe thead th {\n",
       "        text-align: right;\n",
       "    }\n",
       "</style>\n",
       "<table border=\"1\" class=\"dataframe\">\n",
       "  <thead>\n",
       "    <tr style=\"text-align: right;\">\n",
       "      <th></th>\n",
       "      <th>Label</th>\n",
       "      <th>bias</th>\n",
       "      <th>experience</th>\n",
       "      <th>salary</th>\n",
       "    </tr>\n",
       "  </thead>\n",
       "  <tbody>\n",
       "    <tr>\n",
       "      <th>0</th>\n",
       "      <td>1</td>\n",
       "      <td>1</td>\n",
       "      <td>0.7</td>\n",
       "      <td>48000</td>\n",
       "    </tr>\n",
       "    <tr>\n",
       "      <th>1</th>\n",
       "      <td>0</td>\n",
       "      <td>1</td>\n",
       "      <td>1.9</td>\n",
       "      <td>48000</td>\n",
       "    </tr>\n",
       "    <tr>\n",
       "      <th>2</th>\n",
       "      <td>1</td>\n",
       "      <td>1</td>\n",
       "      <td>2.5</td>\n",
       "      <td>60000</td>\n",
       "    </tr>\n",
       "    <tr>\n",
       "      <th>3</th>\n",
       "      <td>0</td>\n",
       "      <td>1</td>\n",
       "      <td>4.2</td>\n",
       "      <td>63000</td>\n",
       "    </tr>\n",
       "    <tr>\n",
       "      <th>4</th>\n",
       "      <td>0</td>\n",
       "      <td>1</td>\n",
       "      <td>6.0</td>\n",
       "      <td>76000</td>\n",
       "    </tr>\n",
       "    <tr>\n",
       "      <th>...</th>\n",
       "      <td>...</td>\n",
       "      <td>...</td>\n",
       "      <td>...</td>\n",
       "      <td>...</td>\n",
       "    </tr>\n",
       "    <tr>\n",
       "      <th>195</th>\n",
       "      <td>0</td>\n",
       "      <td>1</td>\n",
       "      <td>6.5</td>\n",
       "      <td>84000</td>\n",
       "    </tr>\n",
       "    <tr>\n",
       "      <th>196</th>\n",
       "      <td>0</td>\n",
       "      <td>1</td>\n",
       "      <td>6.9</td>\n",
       "      <td>73000</td>\n",
       "    </tr>\n",
       "    <tr>\n",
       "      <th>197</th>\n",
       "      <td>0</td>\n",
       "      <td>1</td>\n",
       "      <td>5.1</td>\n",
       "      <td>72000</td>\n",
       "    </tr>\n",
       "    <tr>\n",
       "      <th>198</th>\n",
       "      <td>1</td>\n",
       "      <td>1</td>\n",
       "      <td>9.1</td>\n",
       "      <td>69000</td>\n",
       "    </tr>\n",
       "    <tr>\n",
       "      <th>199</th>\n",
       "      <td>1</td>\n",
       "      <td>1</td>\n",
       "      <td>9.8</td>\n",
       "      <td>79000</td>\n",
       "    </tr>\n",
       "  </tbody>\n",
       "</table>\n",
       "<p>200 rows × 4 columns</p>\n",
       "</div>"
      ],
      "text/plain": [
       "     Label  bias  experience  salary\n",
       "0        1     1         0.7   48000\n",
       "1        0     1         1.9   48000\n",
       "2        1     1         2.5   60000\n",
       "3        0     1         4.2   63000\n",
       "4        0     1         6.0   76000\n",
       "..     ...   ...         ...     ...\n",
       "195      0     1         6.5   84000\n",
       "196      0     1         6.9   73000\n",
       "197      0     1         5.1   72000\n",
       "198      1     1         9.1   69000\n",
       "199      1     1         9.8   79000\n",
       "\n",
       "[200 rows x 4 columns]"
      ]
     },
     "execution_count": 4,
     "metadata": {},
     "output_type": "execute_result"
    }
   ],
   "source": [
    "data"
   ]
  },
  {
   "cell_type": "markdown",
   "metadata": {},
   "source": [
    "### 0. Gradient Descent"
   ]
  },
  {
   "cell_type": "code",
   "execution_count": 5,
   "metadata": {},
   "outputs": [],
   "source": [
    "def step(v, direction, step_size):\n",
    "    \"\"\"\n",
    "    한 지점에서 step size만큼 이동하는 step 함수를 구현하세요.\n",
    "    필요한 인자는 3가지입니다.\n",
    "    \"\"\"\n",
    "    return [v_i + step_size*direction_i for v_i, direction_i in zip(v,direction)]"
   ]
  },
  {
   "cell_type": "code",
   "execution_count": 6,
   "metadata": {},
   "outputs": [],
   "source": [
    "def safe(f):\n",
    "    \"\"\"\n",
    "    f에 대한 예외처리를 위한 함수(f가 infinite일 때)\n",
    "    \"\"\"\n",
    "    def safe_f(*args, **kargs):\n",
    "        try:\n",
    "            return f(*args, **kwargs)\n",
    "        except:\n",
    "            return float('inf')\n",
    "    return safe_f"
   ]
  },
  {
   "cell_type": "code",
   "execution_count": 7,
   "metadata": {},
   "outputs": [],
   "source": [
    "def minimize_bgd(target_fn, gradient_fn, theta_0, tolerance = 0.00001): # bgd: batch gradient descent\n",
    "    \"\"\"\n",
    "    목적함수를 최소화시키는 theta를 경사 하강법을 사용해서 찾는다.\n",
    "    \"\"\"\n",
    "    step_sizes = [100, 10, 1, 0.1, 0.01, 0.001, 0.0001, 0.00001]\n",
    "    \n",
    "    # 시작점 설정\n",
    "    theta = theta_0\n",
    "    #target_fn = safe(target_fn) # 오류를 처리할 수 있는 target_fn으로 변환\n",
    "    value = target_fn(theta) # 최소화시키려는 값\n",
    "    \n",
    "    while True:\n",
    "        gradient = gradient_fn(theta) # gradient값 계산\n",
    "        next_thetas = [step(theta, gradient, -step_size) for step_size in step_sizes] #### update thetas --> 각 step sizes에 따른 theta값을 list형태로 리턴\n",
    "        \n",
    "        # 함수를 최소화시키는 theta 선택\n",
    "        obj =  next_thetas ## 알맞은 obj, key 값을 채워넣으세요.\n",
    "        key = target_fn\n",
    "        next_theta = min(obj, key = key)\n",
    "        next_value = target_fn(next_theta)\n",
    "        \n",
    "        # tolerance만큼 수렴하면 멈춤\n",
    "        temp = abs(value-next_value) # temp 채워넣으세요\n",
    "        if temp < tolerance:\n",
    "            return theta\n",
    "        else: #### 어떻게 업데이트 시킬지 채워넣으세요\n",
    "            theta, value = next_theta, next_value\n",
    "        "
   ]
  },
  {
   "cell_type": "code",
   "execution_count": 8,
   "metadata": {},
   "outputs": [],
   "source": [
    "def minimize_sgd(target_fn, gradient_fn, x, y, theta_0, step_size_0 = 0.01):\n",
    "    \"\"\"\n",
    "    minimize_sgd\n",
    "    step_size_0: step_size 초기값\n",
    "    x,y가 필요한 이유는 minimize_sgd 내에서 random sampling이 이루어지기 때문\n",
    "    \"\"\"\n",
    "    data = zip(x,y)\n",
    "    \n",
    "    # 초기값 설정\n",
    "    theta = theta_0\n",
    "    step_size = step_size_0\n",
    "    min_theta, min_value = None, float(\"inf\") # 기준이 되는 값 설정\n",
    "    iter_wo_improve = 0\n",
    "    \n",
    "    # 100번의 반복 동안 값의 개선이 일어나지 않으면 멈춤\n",
    "    while iter_wo_improve < 100:\n",
    "        value = sum(target_fn(x_i, y_i, theta) for x_i, y_i in data) # 하나의 데이터에 대해서만 목적함수 값을 구함\n",
    "        \n",
    "        if value < min_value: # 값 개선이 이루어지면\n",
    "            min_theta, min_value = theta, value\n",
    "            iter_wo_improve = 0 # iter~ & step_size 초기화함\n",
    "            step_size = step_size_0\n",
    "        else:\n",
    "            # 개선이 없을 때, step_size 조정\n",
    "            iter_wo_improve += 1\n",
    "            step_size *= 0.9 # 0.9는 파라미터로 전달 받을 수 있음(하이퍼 파라미터)\n",
    "            \n",
    "            \n",
    "    # random sampling으로 하나의 데이터를 뽑은 후, gradient 계산해서 step\n",
    "        indexes = [i for i in range(len(x))]\n",
    "        random.shuffle(indexes) # index 무작위로 섞음\n",
    "    \n",
    "        for rand_i in indexes:\n",
    "            gradient_i = gradient_fn(x[rand_i], y[rand_i], theta)\n",
    "            theta = vector_add(theta, [-step_size*gradient_ij for gradient_ij in gradient_i])\n",
    "    \n",
    "    return min_theta # 최종 theta값을 리턴함\n",
    "    "
   ]
  },
  {
   "cell_type": "markdown",
   "metadata": {},
   "source": [
    "### 1. 로지스틱 함수\n",
    "해당 함수는 1/(1+exp[-(ax+b)]로 표현되었음을 기억합시다."
   ]
  },
  {
   "cell_type": "code",
   "execution_count": 9,
   "metadata": {},
   "outputs": [],
   "source": [
    "def logistic(x):\n",
    "    try:\n",
    "        return 1.0 / (1 + math.exp(-x))\n",
    "    except:\n",
    "        return 1e-9"
   ]
  },
  {
   "cell_type": "code",
   "execution_count": 10,
   "metadata": {},
   "outputs": [],
   "source": [
    "# 추가문제: softmax 구현\n",
    "def softmax(v): # 벡터를 인자로 받는다\n",
    "    summation = sum([math.exp(v_i) for v_i in arr])\n",
    "    return [math.exp(v_i)/summation for v_i in v]"
   ]
  },
  {
   "cell_type": "code",
   "execution_count": 11,
   "metadata": {},
   "outputs": [
    {
     "data": {
      "text/plain": [
       "[0.018211273295547534, 0.2451918129350739, 0.7365969137693785]"
      ]
     },
     "execution_count": 11,
     "metadata": {},
     "output_type": "execute_result"
    }
   ],
   "source": [
    "arr = [0.3, 2.9, 4.0]\n",
    "softmax(arr)"
   ]
  },
  {
   "cell_type": "markdown",
   "metadata": {},
   "source": [
    "### 2. 목적함수 구현\n",
    "최적화할 목적함수를 구현합니다."
   ]
  },
  {
   "cell_type": "code",
   "execution_count": 12,
   "metadata": {},
   "outputs": [],
   "source": [
    "def logistic_log_likelihood_i(x_i, y_i, beta): # 개별 데이터포인트(한 개의 row)에 대한 likelihood 값\n",
    "    \"\"\"\n",
    "    None 부분을 채워서 함수를 완성하세요.\n",
    "    \"\"\"\n",
    "    cond = y_i == 1\n",
    "    if cond:\n",
    "        return math.log(logistic(dot(x_i, beta)))\n",
    "    else:\n",
    "        return math.log(1-logistic(dot(x_i, beta))+1e-9) ## log 진수값이 0이 되는 걸 방지"
   ]
  },
  {
   "cell_type": "code",
   "execution_count": 13,
   "metadata": {},
   "outputs": [],
   "source": [
    "def logistic_log_likelihood(x,y,beta): # 전체 데이터에 대한 likelihood\n",
    "    \"\"\"\n",
    "    함수의 인자를 채워넣고,return 문을 완성하세요.\n",
    "    \"\"\"\n",
    "    return sum(logistic_log_likelihood_i(x_i,y_i,beta) for x_i,y_i in zip(x,y))"
   ]
  },
  {
   "cell_type": "markdown",
   "metadata": {},
   "source": [
    "### 3. Gradient for Log Reg\n",
    "아래 3가지 함수에 대해 해당 함수의 인자와 기능을 자세히 설명하세요."
   ]
  },
  {
   "cell_type": "code",
   "execution_count": 14,
   "metadata": {},
   "outputs": [],
   "source": [
    "def logistic_log_partial_ij(x_i, y_i, beta, j):\n",
    "    \"\"\"\n",
    "    특정 데이터 x_i에 대한 beta_j의 gradient 값 --> 상수 형태의 리턴값\n",
    "    \"\"\"\n",
    "    return (y_i - logistic(dot(x_i, beta))) * x_i[j] # j: beta의 index\n",
    "\n",
    "def logistic_log_gradient_i(x_i, y_i, beta):\n",
    "    \"\"\"\n",
    "    x_i(row)에 대한 beta의 gradient 값(column 개수만큼) --> 리스트 형태의 리턴값을 가짐\n",
    "    \"\"\"\n",
    "    return [logistic_log_partial_ij(x_i, y_i, beta, j) for j, _ in enumerate(beta)]\n",
    "\n",
    "def logistic_log_gradient(x, y, beta):\n",
    "    \"\"\"\n",
    "    전체 데이터에 대한 beta의 gradient 값 \n",
    "    --> 이중 리스트를 vector_add 시켜서 beta_j에 대한 gradient값들을 rowSum 해놓은 리스트를 리턴\n",
    "    \"\"\"\n",
    "    return reduce(vector_add, [logistic_log_gradient_i(x_i, y_i, beta) for x_i, y_i in zip(x,y)])\n",
    "# reduce ~ == np.sum(iter, axis = 0)"
   ]
  },
  {
   "attachments": {
    "image.png": {
     "image/png": "[encoded data removed]"
    }
   },
   "cell_type": "markdown",
   "metadata": {},
   "source": [
    "1) 참고 (logistic_log_partial_ij)  \n",
    "![image.png](attachment:image.png)"
   ]
  },
  {
   "cell_type": "markdown",
   "metadata": {},
   "source": [
    "### 4. Model Fitting\n",
    "위에서 구현한 목적함수와 Gradient Descent Algorithm을 이용하여 Model을 Fitting 시켜보세요.  "
   ]
  },
  {
   "cell_type": "code",
   "execution_count": 15,
   "metadata": {},
   "outputs": [
    {
     "data": {
      "text/html": [
       "<div>\n",
       "<style scoped>\n",
       "    .dataframe tbody tr th:only-of-type {\n",
       "        vertical-align: middle;\n",
       "    }\n",
       "\n",
       "    .dataframe tbody tr th {\n",
       "        vertical-align: top;\n",
       "    }\n",
       "\n",
       "    .dataframe thead th {\n",
       "        text-align: right;\n",
       "    }\n",
       "</style>\n",
       "<table border=\"1\" class=\"dataframe\">\n",
       "  <thead>\n",
       "    <tr style=\"text-align: right;\">\n",
       "      <th></th>\n",
       "      <th>Label</th>\n",
       "      <th>bias</th>\n",
       "      <th>experience</th>\n",
       "      <th>salary</th>\n",
       "    </tr>\n",
       "  </thead>\n",
       "  <tbody>\n",
       "    <tr>\n",
       "      <th>0</th>\n",
       "      <td>1</td>\n",
       "      <td>1</td>\n",
       "      <td>0.7</td>\n",
       "      <td>48000</td>\n",
       "    </tr>\n",
       "    <tr>\n",
       "      <th>1</th>\n",
       "      <td>0</td>\n",
       "      <td>1</td>\n",
       "      <td>1.9</td>\n",
       "      <td>48000</td>\n",
       "    </tr>\n",
       "    <tr>\n",
       "      <th>2</th>\n",
       "      <td>1</td>\n",
       "      <td>1</td>\n",
       "      <td>2.5</td>\n",
       "      <td>60000</td>\n",
       "    </tr>\n",
       "    <tr>\n",
       "      <th>3</th>\n",
       "      <td>0</td>\n",
       "      <td>1</td>\n",
       "      <td>4.2</td>\n",
       "      <td>63000</td>\n",
       "    </tr>\n",
       "    <tr>\n",
       "      <th>4</th>\n",
       "      <td>0</td>\n",
       "      <td>1</td>\n",
       "      <td>6.0</td>\n",
       "      <td>76000</td>\n",
       "    </tr>\n",
       "    <tr>\n",
       "      <th>...</th>\n",
       "      <td>...</td>\n",
       "      <td>...</td>\n",
       "      <td>...</td>\n",
       "      <td>...</td>\n",
       "    </tr>\n",
       "    <tr>\n",
       "      <th>195</th>\n",
       "      <td>0</td>\n",
       "      <td>1</td>\n",
       "      <td>6.5</td>\n",
       "      <td>84000</td>\n",
       "    </tr>\n",
       "    <tr>\n",
       "      <th>196</th>\n",
       "      <td>0</td>\n",
       "      <td>1</td>\n",
       "      <td>6.9</td>\n",
       "      <td>73000</td>\n",
       "    </tr>\n",
       "    <tr>\n",
       "      <th>197</th>\n",
       "      <td>0</td>\n",
       "      <td>1</td>\n",
       "      <td>5.1</td>\n",
       "      <td>72000</td>\n",
       "    </tr>\n",
       "    <tr>\n",
       "      <th>198</th>\n",
       "      <td>1</td>\n",
       "      <td>1</td>\n",
       "      <td>9.1</td>\n",
       "      <td>69000</td>\n",
       "    </tr>\n",
       "    <tr>\n",
       "      <th>199</th>\n",
       "      <td>1</td>\n",
       "      <td>1</td>\n",
       "      <td>9.8</td>\n",
       "      <td>79000</td>\n",
       "    </tr>\n",
       "  </tbody>\n",
       "</table>\n",
       "<p>200 rows × 4 columns</p>\n",
       "</div>"
      ],
      "text/plain": [
       "     Label  bias  experience  salary\n",
       "0        1     1         0.7   48000\n",
       "1        0     1         1.9   48000\n",
       "2        1     1         2.5   60000\n",
       "3        0     1         4.2   63000\n",
       "4        0     1         6.0   76000\n",
       "..     ...   ...         ...     ...\n",
       "195      0     1         6.5   84000\n",
       "196      0     1         6.9   73000\n",
       "197      0     1         5.1   72000\n",
       "198      1     1         9.1   69000\n",
       "199      1     1         9.8   79000\n",
       "\n",
       "[200 rows x 4 columns]"
      ]
     },
     "execution_count": 15,
     "metadata": {},
     "output_type": "execute_result"
    }
   ],
   "source": [
    "data"
   ]
  },
  {
   "cell_type": "code",
   "execution_count": 16,
   "metadata": {},
   "outputs": [],
   "source": [
    "X = data.drop('Label', axis = 1)\n",
    "y = data['Label']"
   ]
  },
  {
   "cell_type": "code",
   "execution_count": 17,
   "metadata": {},
   "outputs": [
    {
     "name": "stderr",
     "output_type": "stream",
     "text": [
      "C:\\Users\\daeba\\Anaconda3\\envs\\pytorch\\lib\\site-packages\\ipykernel_launcher.py:1: FutureWarning: Method .as_matrix will be removed in a future version. Use .values instead.\n",
      "  \"\"\"Entry point for launching an IPython kernel.\n",
      "C:\\Users\\daeba\\Anaconda3\\envs\\pytorch\\lib\\site-packages\\ipykernel_launcher.py:2: FutureWarning: Method .as_matrix will be removed in a future version. Use .values instead.\n",
      "  \n"
     ]
    }
   ],
   "source": [
    "X=X.as_matrix() # matrix로 변환해주어야 합니다!\n",
    "y=y.as_matrix()"
   ]
  },
  {
   "cell_type": "code",
   "execution_count": 18,
   "metadata": {},
   "outputs": [
    {
     "data": {
      "text/plain": [
       "array([[1.0e+00, 7.0e-01, 4.8e+04],\n",
       "       [1.0e+00, 1.9e+00, 4.8e+04],\n",
       "       [1.0e+00, 2.5e+00, 6.0e+04],\n",
       "       [1.0e+00, 4.2e+00, 6.3e+04],\n",
       "       [1.0e+00, 6.0e+00, 7.6e+04],\n",
       "       [1.0e+00, 6.5e+00, 6.9e+04],\n",
       "       [1.0e+00, 7.5e+00, 7.6e+04],\n",
       "       [1.0e+00, 8.1e+00, 8.8e+04],\n",
       "       [1.0e+00, 8.7e+00, 8.3e+04],\n",
       "       [1.0e+00, 1.0e+01, 8.3e+04]])"
      ]
     },
     "execution_count": 18,
     "metadata": {},
     "output_type": "execute_result"
    }
   ],
   "source": [
    "X[:10] ## X: 데이터 스케일이 필요함."
   ]
  },
  {
   "cell_type": "code",
   "execution_count": 19,
   "metadata": {},
   "outputs": [],
   "source": [
    "from sklearn.preprocessing import StandardScaler"
   ]
  },
  {
   "cell_type": "code",
   "execution_count": 20,
   "metadata": {},
   "outputs": [],
   "source": [
    "ss = StandardScaler()\n",
    "X_scaled = ss.fit_transform(data.drop(['Label'], axis = 1)) # X_scaled"
   ]
  },
  {
   "cell_type": "code",
   "execution_count": 21,
   "metadata": {},
   "outputs": [],
   "source": [
    "for i,_ in enumerate(X_scaled):\n",
    "    X_scaled[i][0] = 1 # bias term 추가"
   ]
  },
  {
   "cell_type": "code",
   "execution_count": 22,
   "metadata": {},
   "outputs": [],
   "source": [
    "random.seed(0)\n",
    "x_train, x_test, y_train, y_test = train_test_split(X_scaled, y)"
   ]
  },
  {
   "cell_type": "markdown",
   "metadata": {},
   "source": [
    "##### Partial 함수\n",
    "http://www.incodom.kr/%ED%8C%8C%EC%9D%B4%EC%8D%AC/%ED%95%A8%EC%88%98  \n",
    "--> partial 함수 설명입니다!(혹시 생소하신 분들을 위해..!)  \n",
    "여기에서는 x_train과 y_train 인자를 포함시켜서 fn, gradient_fn을 기존 구현해놓은 목적함수, 그래디언트 함수를 활용해서(재활용하여) 만들도록 partial함수를 사용합니다.  \n",
    "(gradient descent 함수가 x,y를 포함 시킨 함수임을 가정하고 구현된 함수이기 때문)"
   ]
  },
  {
   "cell_type": "code",
   "execution_count": 23,
   "metadata": {},
   "outputs": [],
   "source": [
    "# 아래에 Model Fitting 진행\n",
    "# partial을 이용해 fn과 gradient_fn 구현\n",
    "\n",
    "fn = partial(logistic_log_likelihood, x_train, y_train)\n",
    "gradient_fn = partial(logistic_log_gradient, x_train, y_train)\n",
    "\n",
    "beta_0 = [random.random() for _ in range(3)] # 임의의 시작점\n",
    "#beta_0 = [1,1,1]\n",
    "\n",
    "# 경사 하강법으로 최적화\n",
    "beta_hat = minimize_bgd(neg(fn), neg_all(gradient_fn), beta_0)"
   ]
  },
  {
   "cell_type": "code",
   "execution_count": 24,
   "metadata": {},
   "outputs": [
    {
     "data": {
      "text/plain": [
       "[-2.3632744821600635, 4.982248330800093, -4.975294631267929]"
      ]
     },
     "execution_count": 24,
     "metadata": {},
     "output_type": "execute_result"
    }
   ],
   "source": [
    "beta_hat"
   ]
  },
  {
   "cell_type": "markdown",
   "metadata": {},
   "source": [
    "### SGD로 계수 추정"
   ]
  },
  {
   "cell_type": "code",
   "execution_count": null,
   "metadata": {},
   "outputs": [],
   "source": [
    "fn_sgd = neg(logistic_log_likelihood_i)\n",
    "gradient_fn_sgd = neg_all(logistic_log_gradient_i)\n",
    "beta_sgd_0 = [random.random() for _ in range(3)]\n",
    "\n",
    "beta_hat_sgd = minimize_sgd(fn_sgd,gradient_fn_sgd, x_train, y_train, beta_sgd_0)"
   ]
  },
  {
   "cell_type": "code",
   "execution_count": 26,
   "metadata": {},
   "outputs": [
    {
     "data": {
      "text/plain": [
       "[-0.11639980404756523, 0.4454301501915983, 0.0616993388112555]"
      ]
     },
     "execution_count": 26,
     "metadata": {},
     "output_type": "execute_result"
    }
   ],
   "source": [
    "beta_hat_sgd"
   ]
  },
  {
   "cell_type": "markdown",
   "metadata": {},
   "source": [
    "### Valid한 결과인지 check (답에만 있는 부분)\n",
    "Accuracy를 찍어보겠습니다."
   ]
  },
  {
   "cell_type": "code",
   "execution_count": 27,
   "metadata": {},
   "outputs": [
    {
     "name": "stdout",
     "output_type": "stream",
     "text": [
      "accuracy for batch gradient descent: 0.86\n",
      "accuracy for stochastic gradient descent: 0.58\n"
     ]
    }
   ],
   "source": [
    "def calc_accuracy(x_test, y_test, theta, threshold = 0.5):\n",
    "    true_positives = false_positives = true_negatives = false_negatives = 0\n",
    "\n",
    "    # threshold: 0.5\n",
    "    for x_i, y_i in zip(x_test, y_test):# x_i: i번째 row, y_i: i번째 label\n",
    "        predict = logistic(dot(x_i, theta))\n",
    "\n",
    "        if y_i == 1 and predict >= threshold: # y_i == 1 & pred >= .5: 실제값 1 and 예측 1 (TP)\n",
    "            true_positives += 1\n",
    "        elif y_i == 1: # y_i == 1 & pred < .5: 실제값 1 but 예측 0 (FN)\n",
    "            false_negatives += 1\n",
    "        elif predict >= 0.5: # y_i == 0 & pred >= 0.5: 실제값 0 but 예측 1 (FP)\n",
    "            false_positives += 1\n",
    "        else: # y_i == 0 & pred < 0.5: 실제값 0 and 예측 0 (TN)\n",
    "            true_negatives += 1\n",
    "\n",
    "    accuracy = (true_positives + true_negatives) / (true_positives+false_negatives+false_positives+true_negatives)\n",
    "    return accuracy\n",
    "\n",
    "accuracy = calc_accuracy(x_test, y_test, beta_hat)\n",
    "accuracy_sgd = calc_accuracy(x_test, y_test, beta_hat_sgd)\n",
    "print(\"accuracy for batch gradient descent: {}\".format(accuracy))\n",
    "print(\"accuracy for stochastic gradient descent: {}\".format(accuracy_sgd))"
   ]
  }
 ],
 "metadata": {
  "kernelspec": {
   "display_name": "PyTorch&Tensorflow",
   "language": "python",
   "name": "pytorch"
  },
  "language_info": {
   "codemirror_mode": {
    "name": "ipython",
    "version": 3
   },
   "file_extension": ".py",
   "mimetype": "text/x-python",
   "name": "python",
   "nbconvert_exporter": "python",
   "pygments_lexer": "ipython3",
   "version": "3.7.4"
  }
 },
 "nbformat": 4,
 "nbformat_minor": 2
}
