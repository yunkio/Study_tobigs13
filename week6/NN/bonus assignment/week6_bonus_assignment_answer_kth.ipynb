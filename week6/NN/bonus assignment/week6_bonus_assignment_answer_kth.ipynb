{
 "cells": [
  {
   "cell_type": "markdown",
   "metadata": {},
   "source": [
    "# 안녕하세요 투빅스 보충 과제입니다 :)\n",
    "\n",
    "안녕하세요 투빅스 12기 김태한입니다 :)\n",
    "\n",
    "이번 과제는 코로나 바이러스로 예상치 못한 휴식시간이 생겨 여러분의 딥러닝 감을 유지하고자 드리게 되었습니다.  \n",
    "\n",
    "투빅이분들이라면 분명 쉽게 해낼거라 믿습니다!!\n",
    "\n",
    "\n",
    "모르시는 거 있으시면 저 그리고 12기 멘토분들을 많이 많이 괴롭혀주세요!!!"
   ]
  },
  {
   "cell_type": "markdown",
   "metadata": {},
   "source": [
    "# Assignment 1"
   ]
  },
  {
   "cell_type": "markdown",
   "metadata": {},
   "source": [
    "여러분들은 저번 과제로 뉴럴넷 구현을 이미 한번 하셨습니다!  \n",
    "\n",
    "사실 이번 과제의 최종 목적도 뉴럴넷 구현인데요 이미 한번 하셨고 실력들이 워낙 출중하셔서 금방금방 하실수 있으실거에요.  \n",
    "\n",
    "구현에 바로 들어가기에 앞서 전체 네트워크 구조와 각 구성요소의 행렬 차원 및 오차역전파(back propagation) 복습이 1번 과제입니다.  \n",
    "\n",
    "**?** 에 들어갈 수식을 채워주시면 됩니다!!  \n",
    "\n",
    "마크다운에 수식넣는건 여기서 http://www.hostmath.com/ 수식 만든 후 latex언어를 $$사이에 넣어주시면 됩니다.  \n",
    "제가 예시로 해놓으신거 보시면 알거에요."
   ]
  },
  {
   "cell_type": "markdown",
   "metadata": {},
   "source": [
    "## Matrix Shape 정리\n",
    "\n",
    "n : sample_data 수  \n",
    "d : input_dimension  \n",
    "h : hidden_layer_dimension  \n",
    "c : output_dimension  \n",
    "\n",
    "X : input_data  \n",
    "W1 : layer1_weight  \n",
    "b1 : layer1_bias  \n",
    "H : X*W1+b1  \n",
    "A : activation function 거친 value  \n",
    "W2 : layer2_weight  \n",
    "b2 : layer2_bias  \n",
    "S : A*W2+b2  \n",
    "P : softmax 거친 value  \n",
    "\n",
    "**X==(n,d)  \n",
    "W1==(d,h)  \n",
    "b1==(h,)  \n",
    "H==(n,h)  \n",
    "A==(n,h)  \n",
    "W2==(h,c)  \n",
    "b2==(c,)  \n",
    "S==(n,c)  \n",
    "P==(n,c)**"
   ]
  },
  {
   "cell_type": "markdown",
   "metadata": {},
   "source": [
    "## Matrix 미분 정리\n",
    "$H = XW+b　　　(n,h) = (n,d)x(d,h)+(h,)$  \n",
    "$L = f(H)$  \n",
    "$\\frac{\\partial L}{\\partial W} = X^{T}\\frac{\\partial L}{\\partial H} = \\frac{\\partial H}{\\partial W} \\times \\frac{\\partial L}{\\partial H}$  \n",
    "$\\frac{\\partial L}{\\partial X} = \\frac{\\partial L}{\\partial H}W^{T} = \\frac{\\partial H}{\\partial W} \\times \\frac{\\partial L}{\\partial H}$  \n",
    "$\\frac{\\partial L}{\\partial b} = 1*\\frac{\\partial L}{\\partial H}$  "
   ]
  },
  {
   "cell_type": "markdown",
   "metadata": {},
   "source": [
    "## 2Layers Chain Rule 정리\n",
    "**Forward** \n",
    "\n",
    "$H = XW_{1} + b$  \n",
    "$A = ReLU(H)$  \n",
    "$S = AW_{2} + b_{2}$  \n",
    "$P = Softmax(S)$  \n",
    "$L = -LogLikelihood(P)$\n",
    "\n",
    "\n",
    "**Backward**\n",
    "\n",
    "$\\frac{\\partial L}{\\partial S} = P-T$　:　T는 Label  \n",
    "$\\frac{\\partial L}{\\partial W_{2}} = \\frac{\\partial S}{\\partial W_{2}}\\frac{\\partial L}{\\partial S} = A^{T}(P-T)$  \n",
    "$\\frac{\\partial L}{\\partial b_{2}} = 1*\\frac{\\partial L}{\\partial S} = P-T$  \n",
    "$\\frac{\\partial L}{\\partial A} = \\frac{\\partial L}{\\partial S}\\frac{\\partial S}{\\partial A} = (P-T)W_{2}^{T}$  \n",
    "$\\frac{\\partial L}{\\partial H} = \\frac{\\partial A}{\\partial H}\\frac{\\partial L}{\\partial A}$  \n",
    "$\\frac{\\partial L}{\\partial W_{1}} = \\frac{\\partial H}{\\partial W_{1}}\\frac{\\partial L}{\\partial H} = X^{T}\\frac{\\partial L}{\\partial H}$  \n",
    "$\\frac{\\partial L}{\\partial b_{1}} = \\frac{\\partial L}{\\partial H}$  "
   ]
  },
  {
   "cell_type": "markdown",
   "metadata": {},
   "source": [
    "# Assignment 2"
   ]
  },
  {
   "cell_type": "markdown",
   "metadata": {},
   "source": [
    "같이 드린 파일중 model.py라는 파일이 있을거에요!!!  \n",
    "그 친구의 빈칸을 채워주시면 되겠습니다~!!  \n",
    "model.py의 함수는 assignment3의 모델 만들기에서 사용되니 참고하시면서 채워주시면 도움이 될거에요!"
   ]
  },
  {
   "cell_type": "markdown",
   "metadata": {},
   "source": [
    "# Assignment 3"
   ]
  },
  {
   "cell_type": "markdown",
   "metadata": {},
   "source": [
    "자 이제 저희가 구현한 모델을 가지고 한번 cifar-10 dataset을 학습해볼게요!!  \n",
    "근데 시작하기에 앞서 pip install keras 를 해주세요!!  \n",
    "\n",
    "3번과제의 목적은 하이퍼파라미터를 튜닝하던 다른방법을 사용하던 해서 마지막에 그림그리기에서 높은 validation accuracy가 나오도록 하는 과제입니다!!  \n",
    "\n",
    "모델을 2층이아니라 본인만의 3층으로 발전시켜도 좋구요 다른 여러가지 방법들이 있겠죠!?!?!?  \n",
    "\n",
    "가장 높은 validation accuracy를 뽑으신 분께 상품을 드리겠습니다아~!!!"
   ]
  },
  {
   "cell_type": "markdown",
   "metadata": {},
   "source": [
    "### 데이터 load\n",
    "\n",
    "keras 프레임워크를 이용하여 데이터를 로드해 옵니다.  \n",
    "32*32*3차원의 데이터를 3072차원으로 바꾸는 것 까지 해드릴게요.\n",
    "필요하면 sklearn.preprocessing의 scaler를 사용해보셔도 좋습니다!"
   ]
  },
  {
   "cell_type": "code",
   "execution_count": 1,
   "metadata": {},
   "outputs": [
    {
     "name": "stderr",
     "output_type": "stream",
     "text": [
      "Using TensorFlow backend.\n"
     ]
    }
   ],
   "source": [
    "from keras.datasets import cifar10\n",
    "import numpy as np\n",
    "from Model import TwoLayerNet\n",
    "from matplotlib import pyplot as plt"
   ]
  },
  {
   "cell_type": "code",
   "execution_count": 2,
   "metadata": {},
   "outputs": [],
   "source": [
    "(x_train, y_train), (x_test, y_test) = cifar10.load_data()"
   ]
  },
  {
   "cell_type": "code",
   "execution_count": 3,
   "metadata": {},
   "outputs": [],
   "source": [
    "def preprocessing_data(x_train, x_test, y_train, y_test):\n",
    "    #change dtype\n",
    "    x_train = np.array(x_train, dtype=np.float64)\n",
    "    x_test = np.array(x_test, dtype=np.float64)\n",
    "    \n",
    "    #reshaping\n",
    "    x_train = np.reshape(x_train, (x_train.shape[0], -1))\n",
    "    x_test = np.reshape(x_test, (x_test.shape[0], -1))\n",
    "    \n",
    "    y_train = np.reshape(y_train, (y_train.shape[0],))\n",
    "    y_test = np.reshape(y_test, (y_test.shape[0],))\n",
    "        \n",
    "    #normalizing\n",
    "    mean_value = np.mean(x_train, axis=0)\n",
    "    x_train -= mean_value\n",
    "    x_test -= mean_value\n",
    "    \n",
    "    return x_train, x_test, y_train, y_test"
   ]
  },
  {
   "cell_type": "code",
   "execution_count": 4,
   "metadata": {},
   "outputs": [],
   "source": [
    "x_train, x_test, y_train, y_test = preprocessing_data(x_train, x_test, y_train, y_test)"
   ]
  },
  {
   "cell_type": "code",
   "execution_count": 5,
   "metadata": {},
   "outputs": [
    {
     "name": "stdout",
     "output_type": "stream",
     "text": [
      "(50000, 3072)\n",
      "(10000, 3072)\n",
      "(50000,)\n",
      "(10000,)\n"
     ]
    }
   ],
   "source": [
    "print(x_train.shape)\n",
    "print(x_test.shape)\n",
    "print(y_train.shape)\n",
    "print(y_test.shape)"
   ]
  },
  {
   "cell_type": "markdown",
   "metadata": {},
   "source": [
    "데이터가 너무 많아서 5000개랑 1000개만 사용해보도록 할게요"
   ]
  },
  {
   "cell_type": "code",
   "execution_count": 6,
   "metadata": {},
   "outputs": [],
   "source": [
    "x_train = x_train[:5000]\n",
    "y_train = y_train[:5000]\n",
    "x_test = x_test[:1000]\n",
    "y_test = y_test[:1000]"
   ]
  },
  {
   "cell_type": "markdown",
   "metadata": {},
   "source": [
    "### 데이터 확인\n",
    "\n",
    "실제 데이터가 어떻게 생겼는지 한번 봅시다"
   ]
  },
  {
   "cell_type": "code",
   "execution_count": 7,
   "metadata": {},
   "outputs": [
    {
     "data": {
      "text/plain": [
       "array([[ -71.71074,  -74.05614,  -69.5538 , ...,   -3.63908,  -33.8503 ,\n",
       "         -42.38186],\n",
       "       [  23.28926,   40.94386,   54.4462 , ...,   16.36092,    7.1497 ,\n",
       "          29.61814],\n",
       "       [ 124.28926,  118.94386,  122.4462 , ...,  -46.63908,  -39.8503 ,\n",
       "         -30.38186],\n",
       "       ...,\n",
       "       [  36.28926,   26.94386,   12.4462 , ...,  -84.63908,  -47.8503 ,\n",
       "         -30.38186],\n",
       "       [  23.28926,   15.94386,   -7.5538 , ...,   67.36092,  121.1497 ,\n",
       "          -0.38186],\n",
       "       [ -85.71074, -104.05614, -111.5538 , ...,   29.36092,   16.1497 ,\n",
       "         -14.38186]])"
      ]
     },
     "execution_count": 7,
     "metadata": {},
     "output_type": "execute_result"
    }
   ],
   "source": [
    "x_train"
   ]
  },
  {
   "cell_type": "markdown",
   "metadata": {},
   "source": [
    "### 하이퍼파라미터 설정\n",
    "\n",
    "이제 하이퍼파라미터를 설정해볼게요.  \n",
    "hidden_size, epoch_size, batch_size, learning_rate등은 전부 하이퍼 파라미터이니 바꾸면서 도전해보세요!!"
   ]
  },
  {
   "cell_type": "code",
   "execution_count": 8,
   "metadata": {},
   "outputs": [],
   "source": [
    "input_size = 32 * 32 * 3\n",
    "hidden_size = 50\n",
    "output_size = 10\n",
    "epoch_size = 1000\n",
    "batch_size = 100\n",
    "learning_rate = 0.0001\n",
    "N = x_train.shape[0]"
   ]
  },
  {
   "cell_type": "markdown",
   "metadata": {},
   "source": [
    "### 모델 만들기\n",
    "\n",
    "input_size, hidden_size, output_size는 데이터에 맞게 잘 설정해주세요."
   ]
  },
  {
   "cell_type": "code",
   "execution_count": 9,
   "metadata": {},
   "outputs": [],
   "source": [
    "batch_mask = np.random.choice(N, batch_size) #이번 배치에서 쓸 데이터들 인덱스 추출\n",
    "x_batch = x_train[batch_mask]"
   ]
  },
  {
   "cell_type": "code",
   "execution_count": 10,
   "metadata": {},
   "outputs": [],
   "source": [
    "nn = TwoLayerNet(x_batch, input_size=input_size, hidden_size=hidden_size, output_size=output_size)"
   ]
  },
  {
   "cell_type": "code",
   "execution_count": 13,
   "metadata": {},
   "outputs": [
    {
     "name": "stdout",
     "output_type": "stream",
     "text": [
      "0 test accuracy : 0.397\n",
      "0 test loss     : 1693.6303996922597\n",
      "10 test accuracy : 0.398\n",
      "10 test loss     : 1692.8408358774795\n",
      "20 test accuracy : 0.398\n",
      "20 test loss     : 1693.974658190939\n",
      "30 test accuracy : 0.394\n",
      "30 test loss     : 1697.6862934585722\n",
      "40 test accuracy : 0.4\n",
      "40 test loss     : 1696.698996171339\n",
      "50 test accuracy : 0.399\n",
      "50 test loss     : 1698.265877741888\n",
      "60 test accuracy : 0.399\n",
      "60 test loss     : 1699.0055894492011\n",
      "70 test accuracy : 0.397\n",
      "70 test loss     : 1699.7072300834284\n",
      "80 test accuracy : 0.407\n",
      "80 test loss     : 1703.0940857202422\n",
      "90 test accuracy : 0.4\n",
      "90 test loss     : 1706.1783543231413\n",
      "100 test accuracy : 0.4\n",
      "100 test loss     : 1706.603160284604\n",
      "110 test accuracy : 0.402\n",
      "110 test loss     : 1707.2458476340505\n",
      "120 test accuracy : 0.398\n",
      "120 test loss     : 1710.5214917326168\n",
      "130 test accuracy : 0.397\n",
      "130 test loss     : 1712.3418178581671\n",
      "140 test accuracy : 0.401\n",
      "140 test loss     : 1713.0588480595295\n",
      "150 test accuracy : 0.393\n",
      "150 test loss     : 1715.025915092418\n",
      "160 test accuracy : 0.4\n",
      "160 test loss     : 1717.8017584227266\n",
      "170 test accuracy : 0.396\n",
      "170 test loss     : 1716.286826193316\n",
      "180 test accuracy : 0.396\n",
      "180 test loss     : 1720.1324717222208\n",
      "190 test accuracy : 0.392\n",
      "190 test loss     : 1720.787306888228\n",
      "200 test accuracy : 0.394\n",
      "200 test loss     : 1724.0489977347465\n",
      "210 test accuracy : 0.398\n",
      "210 test loss     : 1725.2935255179138\n",
      "220 test accuracy : 0.391\n",
      "220 test loss     : 1725.5067553968122\n",
      "230 test accuracy : 0.392\n",
      "230 test loss     : 1726.6645505891893\n",
      "240 test accuracy : 0.386\n",
      "240 test loss     : 1731.7687763566205\n",
      "250 test accuracy : 0.393\n",
      "250 test loss     : 1733.5224163040127\n",
      "260 test accuracy : 0.396\n",
      "260 test loss     : 1733.6393522503195\n",
      "270 test accuracy : 0.39\n",
      "270 test loss     : 1736.7161859504517\n",
      "280 test accuracy : 0.395\n",
      "280 test loss     : 1737.2570807669301\n",
      "290 test accuracy : 0.392\n",
      "290 test loss     : 1741.445180861354\n",
      "300 test accuracy : 0.392\n",
      "300 test loss     : 1742.0811415499068\n",
      "310 test accuracy : 0.389\n",
      "310 test loss     : 1743.879417720322\n",
      "320 test accuracy : 0.391\n",
      "320 test loss     : 1745.233599722162\n",
      "330 test accuracy : 0.389\n",
      "330 test loss     : 1748.74185478123\n",
      "340 test accuracy : 0.391\n",
      "340 test loss     : 1750.4914299238692\n",
      "350 test accuracy : 0.387\n",
      "350 test loss     : 1752.8326464550807\n",
      "360 test accuracy : 0.392\n",
      "360 test loss     : 1754.7007224142708\n",
      "370 test accuracy : 0.393\n",
      "370 test loss     : 1758.3452077244533\n",
      "380 test accuracy : 0.39\n",
      "380 test loss     : 1762.7525873712957\n",
      "390 test accuracy : 0.388\n",
      "390 test loss     : 1764.8230626576271\n",
      "400 test accuracy : 0.389\n",
      "400 test loss     : 1769.198741631671\n",
      "410 test accuracy : 0.386\n",
      "410 test loss     : 1768.6823391925284\n",
      "420 test accuracy : 0.39\n",
      "420 test loss     : 1772.8743083332681\n",
      "430 test accuracy : 0.385\n",
      "430 test loss     : 1776.1271301913966\n",
      "440 test accuracy : 0.39\n",
      "440 test loss     : 1781.5929211114196\n",
      "450 test accuracy : 0.392\n",
      "450 test loss     : 1786.7163867140769\n",
      "460 test accuracy : 0.388\n",
      "460 test loss     : 1787.932126003102\n",
      "470 test accuracy : 0.391\n",
      "470 test loss     : 1793.364987222011\n",
      "480 test accuracy : 0.39\n",
      "480 test loss     : 1794.848876002499\n",
      "490 test accuracy : 0.389\n",
      "490 test loss     : 1798.847150909119\n",
      "500 test accuracy : 0.388\n",
      "500 test loss     : 1802.1359401318123\n",
      "510 test accuracy : 0.391\n",
      "510 test loss     : 1803.9633326143505\n",
      "520 test accuracy : 0.394\n",
      "520 test loss     : 1809.307843499853\n",
      "530 test accuracy : 0.391\n",
      "530 test loss     : 1811.427030802043\n",
      "540 test accuracy : 0.392\n",
      "540 test loss     : 1818.877015955082\n",
      "550 test accuracy : 0.39\n",
      "550 test loss     : 1819.7406445661968\n",
      "560 test accuracy : 0.39\n",
      "560 test loss     : 1823.1509863471754\n",
      "570 test accuracy : 0.385\n",
      "570 test loss     : 1828.1675530820607\n",
      "580 test accuracy : 0.382\n",
      "580 test loss     : 1834.1493996845563\n",
      "590 test accuracy : 0.387\n",
      "590 test loss     : 1838.9236705946953\n",
      "600 test accuracy : 0.389\n",
      "600 test loss     : 1842.402100675796\n",
      "610 test accuracy : 0.387\n",
      "610 test loss     : 1843.2578974247108\n",
      "620 test accuracy : 0.381\n",
      "620 test loss     : 1849.5442054798095\n",
      "630 test accuracy : 0.38\n",
      "630 test loss     : 1853.466736327305\n",
      "640 test accuracy : 0.384\n",
      "640 test loss     : 1858.1582048732926\n",
      "650 test accuracy : 0.381\n",
      "650 test loss     : 1861.0164910618998\n",
      "660 test accuracy : 0.379\n",
      "660 test loss     : 1870.264386698274\n",
      "670 test accuracy : 0.383\n",
      "670 test loss     : 1869.3357938553975\n",
      "680 test accuracy : 0.387\n",
      "680 test loss     : 1870.4152298055078\n",
      "690 test accuracy : 0.38\n",
      "690 test loss     : 1879.3725181916498\n",
      "700 test accuracy : 0.386\n",
      "700 test loss     : 1884.6694912442124\n",
      "710 test accuracy : 0.38\n",
      "710 test loss     : 1891.9685670225708\n",
      "720 test accuracy : 0.378\n",
      "720 test loss     : 1893.9967703830487\n",
      "730 test accuracy : 0.384\n",
      "730 test loss     : 1903.1437166404467\n",
      "740 test accuracy : 0.379\n",
      "740 test loss     : 1908.1761952501734\n",
      "750 test accuracy : 0.381\n",
      "750 test loss     : 1910.405525855964\n",
      "760 test accuracy : 0.376\n",
      "760 test loss     : 1917.0425466206866\n",
      "770 test accuracy : 0.377\n",
      "770 test loss     : 1925.3149466792356\n",
      "780 test accuracy : 0.38\n",
      "780 test loss     : 1930.0179110666384\n",
      "790 test accuracy : 0.378\n",
      "790 test loss     : 1934.2571255851788\n",
      "800 test accuracy : 0.373\n",
      "800 test loss     : 1935.667785125845\n",
      "810 test accuracy : 0.377\n",
      "810 test loss     : 1939.937258414081\n",
      "820 test accuracy : 0.372\n",
      "820 test loss     : 1946.13610378252\n",
      "830 test accuracy : 0.378\n",
      "830 test loss     : 1952.9163457891882\n",
      "840 test accuracy : 0.371\n",
      "840 test loss     : 1956.2524625861017\n",
      "850 test accuracy : 0.375\n",
      "850 test loss     : 1964.1041437882166\n",
      "860 test accuracy : 0.378\n",
      "860 test loss     : 1970.3735499704492\n",
      "870 test accuracy : 0.378\n",
      "870 test loss     : 1971.5740088571\n",
      "880 test accuracy : 0.375\n",
      "880 test loss     : 1978.3339691103045\n",
      "890 test accuracy : 0.374\n",
      "890 test loss     : 1981.6058769342894\n",
      "900 test accuracy : 0.373\n",
      "900 test loss     : 1987.283173996835\n",
      "910 test accuracy : 0.371\n",
      "910 test loss     : 1990.0743323116787\n",
      "920 test accuracy : 0.367\n",
      "920 test loss     : 1998.6632141290336\n",
      "930 test accuracy : 0.37\n",
      "930 test loss     : 2005.3844192937947\n",
      "940 test accuracy : 0.374\n",
      "940 test loss     : 2012.6142830457277\n",
      "950 test accuracy : 0.368\n",
      "950 test loss     : 2017.8223139765423\n",
      "960 test accuracy : 0.371\n",
      "960 test loss     : 2017.3419256774719\n",
      "970 test accuracy : 0.374\n",
      "970 test loss     : 2027.8423475107772\n",
      "980 test accuracy : 0.371\n",
      "980 test loss     : 2032.7763354710637\n",
      "990 test accuracy : 0.372\n",
      "990 test loss     : 2037.7068425226885\n"
     ]
    }
   ],
   "source": [
    "history = {'val_acc': [],'val_loss': []} #기록해서 그림 그리자!\n",
    "\n",
    "#코드를 보며 epoch, batch에 대해서 이해해봅시다.\n",
    "for i in range(epoch_size):\n",
    "    for j in range(N//batch_size):\n",
    "        batch_mask = np.random.choice(N, batch_size) #이번 배치에서 쓸 데이터들 인덱스 추출\n",
    "        x_batch = x_train[batch_mask]\n",
    "        t_batch = y_train[batch_mask]\n",
    "        \n",
    "        nn.backward(x_batch, t_batch, 1e-7) # 가중치 갱신\n",
    "    \n",
    "    #accuracy와 loss를 기록해둡시다.\n",
    "    history[\"val_acc\"].append(nn.accuracy(x_test, y_test))\n",
    "    history[\"val_loss\"].append(nn.forward(x_test, y_test))\n",
    "    \n",
    "    if i % 10 == 0:\n",
    "        print(i, \"test accuracy :\", nn.accuracy(x_test, y_test))\n",
    "        print(i, \"test loss     :\", nn.forward(x_test, y_test))"
   ]
  },
  {
   "cell_type": "markdown",
   "metadata": {},
   "source": [
    "### 그림 그리기"
   ]
  },
  {
   "cell_type": "code",
   "execution_count": 12,
   "metadata": {},
   "outputs": [
    {
     "data": {
      "image/png": "[encoded data removed]",
      "text/plain": [
       "<Figure size 432x288 with 2 Axes>"
      ]
     },
     "metadata": {
      "needs_background": "light"
     },
     "output_type": "display_data"
    },
    {
     "name": "stdout",
     "output_type": "stream",
     "text": [
      "나의 최고 validation loss :  0.416\n"
     ]
    }
   ],
   "source": [
    "fig = plt.figure()\n",
    "ax_acc = fig.add_subplot(111)\n",
    "\n",
    "ax_acc.plot(range(epoch_size), history['val_acc'], label='정확도(%)', color='darkred')\n",
    "#plt.text(3, 14.7, \"<----------------정확도(%)\", verticalalignment='top', horizontalalignment='right')\n",
    "plt.xlabel('epochs')\n",
    "plt.ylabel('Validation Accuracy(%)')\n",
    "ax_acc.grid(linestyle='--', color='lavender')\n",
    "ax_loss = ax_acc.twinx()\n",
    "ax_loss.plot(range(epoch_size), history['val_loss'], label='오차', color='darkblue')\n",
    "#plt.text(3, 2.2, \"<----------------오차\", verticalalignment='top', horizontalalignment='left')\n",
    "plt.ylabel('Validation Error')\n",
    "ax_loss.yaxis.tick_right()\n",
    "ax_loss.grid(linestyle='--', color='lavender')\n",
    "\n",
    "# 그래프 표시\n",
    "plt.show()\n",
    "\n",
    "# 나의 최고 validation accuracy는? 두구두구~\n",
    "print(\"나의 최고 validation loss : \",max(history['val_acc']))"
   ]
  }
 ],
 "metadata": {
  "kernelspec": {
   "display_name": "Python 3",
   "language": "python",
   "name": "python3"
  },
  "language_info": {
   "codemirror_mode": {
    "name": "ipython",
    "version": 3
   },
   "file_extension": ".py",
   "mimetype": "text/x-python",
   "name": "python",
   "nbconvert_exporter": "python",
   "pygments_lexer": "ipython3",
   "version": "3.7.3"
  }
 },
 "nbformat": 4,
 "nbformat_minor": 4
}
