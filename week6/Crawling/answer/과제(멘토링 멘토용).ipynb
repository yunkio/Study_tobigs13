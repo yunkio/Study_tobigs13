{
 "cells": [
  {
   "cell_type": "markdown",
   "metadata": {},
   "source": [
    "# 과제: 네이버 영화 정보 및 평점 크롤링"
   ]
  },
  {
   "cell_type": "markdown",
   "metadata": {},
   "source": [
    "- 대상: 예매순 상위 5개의 현재 상영 중인 영화\n",
    "- 수집할 항목: 영화 제목, 주연배우 3인, 네티즌 평점, 관람객 평점, 기자/평론가 평점, 관람객 별점 리뷰 20건 공감순으로(평점, 작성자닉네임, 리뷰본문)"
   ]
  },
  {
   "cell_type": "markdown",
   "metadata": {},
   "source": [
    "★ 이 파일은 모듈화 안돼있는거 테스트하는 용도로 만들었음"
   ]
  },
  {
   "cell_type": "markdown",
   "metadata": {},
   "source": [
    "##### 가이드라인\n",
    "1. 아래 가이드라인은 채점 방식과 무관 과제하기 편하라고 임의로 만든 틀입니다. 다 지우고 본인 편한 방식대로 해도 됩니다!\n",
    "2. 채점할 때 경로 문제가 발생하지 않도록 경로는 전부 상대경로로 지정해 주세요. (경로 이름에 직접적으로 C: D: 등이 들어가지 않음)"
   ]
  },
  {
   "cell_type": "markdown",
   "metadata": {},
   "source": [
    "##### 멘토링 가이드라인\n",
    "1. 답지는 번호를 임의로 나눠둔 부분에 대해서 함수를 만든 거라서 더 효율적인 방법이 있으면 그렇게 해도 됨\n",
    "2. 강의 때 안 배운 함수들이 답지에 있어서 찾아보면서 해야 함\n",
    "3. 정적 크롤링 방식으로 했을 때 바로 안 뜨는 부분은 selenium으로 해도 되겠지만 웬만하면 네트워크에서 받아와서 하는 방식으로\n",
    "\n",
    "[네트워크에서 별점 리뷰 찾기] https://www.yceffort.kr/2018/11/05/web-crwaling-for-naver-movie/\n",
    "> https://movie.naver.com/movie/bi/mi/pointWriteFormList.nhn?code=186821&type=after&isActualPointWriteExecute=false&isMileageSubscriptionAlready=false&isMileageSubscriptionReject=false&page=2\n",
    "\n",
    "4. n 번째 태그 찾는 방법 https://stackoverflow.com/questions/37149955/find-third-occurring-p-tag-using-with-beautiful-soup\n",
    "5. 정답은 json 파일로 저장하는 걸로 만들었지만 저장 방식은 자유~~!\n",
    "6. 그리고 크롤링 방법이 정말 다양하기 때문에 정답이 뭐라고 알려주기보다 이런 방식도 있다고 알려주면 좋을듯"
   ]
  },
  {
   "cell_type": "markdown",
   "metadata": {},
   "source": [
    "."
   ]
  },
  {
   "cell_type": "code",
   "execution_count": 47,
   "metadata": {},
   "outputs": [],
   "source": [
    "import requests\n",
    "from bs4 import BeautifulSoup\n",
    "import re"
   ]
  },
  {
   "cell_type": "markdown",
   "metadata": {},
   "source": [
    "### 1. 예매순 상위 5개의 현재 상영 중인 영화 가져오기"
   ]
  },
  {
   "cell_type": "markdown",
   "metadata": {},
   "source": [
    "영화 제목, 주연배우 3인"
   ]
  },
  {
   "cell_type": "code",
   "execution_count": 3,
   "metadata": {},
   "outputs": [],
   "source": [
    "url = 'https://movie.naver.com/movie/running/current.nhn'"
   ]
  },
  {
   "cell_type": "code",
   "execution_count": 4,
   "metadata": {},
   "outputs": [],
   "source": [
    "res = requests.get(url, headers={'User-Agent':'Mozilla/5.0'})\n",
    "html = res.text"
   ]
  },
  {
   "cell_type": "code",
   "execution_count": 5,
   "metadata": {},
   "outputs": [],
   "source": [
    "soup = BeautifulSoup(html, 'html.parser')"
   ]
  },
  {
   "cell_type": "code",
   "execution_count": 25,
   "metadata": {},
   "outputs": [
    {
     "name": "stdout",
     "output_type": "stream",
     "text": [
      "정직한 후보\n",
      "/movie/bi/mi/basic.nhn?code=186821\n",
      "작은 아씨들\n",
      "/movie/bi/mi/basic.nhn?code=186613\n",
      "클로젯\n",
      "/movie/bi/mi/basic.nhn?code=181925\n",
      "기생충\n",
      "/movie/bi/mi/basic.nhn?code=161967\n",
      "수퍼 소닉\n",
      "/movie/bi/mi/basic.nhn?code=172816\n"
     ]
    }
   ],
   "source": [
    "titles = soup.find_all(class_ ='tit')\n",
    "for title in titles[0:5]:\n",
    "    print(title.find('a').text)    \n",
    "    print(title.find('a').get('href'))"
   ]
  },
  {
   "cell_type": "code",
   "execution_count": 70,
   "metadata": {},
   "outputs": [
    {
     "name": "stdout",
     "output_type": "stream",
     "text": [
      "라미란\n",
      "김무열\n",
      "나문희\n",
      "시얼샤 로넌\n",
      "엠마 왓슨\n",
      "플로렌스 퓨\n",
      "하정우\n",
      "김남길\n",
      "허율\n",
      "송강호\n",
      "이선균\n",
      "조여정\n",
      "짐 캐리\n",
      "제임스 마스던\n",
      "벤 슈와츠\n"
     ]
    }
   ],
   "source": [
    "infos = soup.find_all(class_ ='info_txt1')\n",
    "for info in infos[0:5]:\n",
    "    actors_list = info.select_one(\"dd:nth-of-type(3)\").text.strip().split(',')\n",
    "    actors = []\n",
    "    n = 1\n",
    "    for actor in actors_list:\n",
    "        if n==4:\n",
    "            break\n",
    "        print(actor.strip())\n",
    "        n+=1"
   ]
  },
  {
   "cell_type": "markdown",
   "metadata": {},
   "source": [
    "### 2. 해당 영화의 평점 가져오기"
   ]
  },
  {
   "cell_type": "markdown",
   "metadata": {},
   "source": [
    "네티즌 평점, 관람객 평점, 기자/평론가 평점"
   ]
  },
  {
   "cell_type": "code",
   "execution_count": 71,
   "metadata": {},
   "outputs": [],
   "source": [
    "address = '/movie/bi/mi/basic.nhn?code=186821'\n",
    "url = 'https://movie.naver.com'+address"
   ]
  },
  {
   "cell_type": "code",
   "execution_count": 82,
   "metadata": {},
   "outputs": [],
   "source": [
    "res = requests.get(url, headers={'User-Agent':'Mozilla/5.0'})\n",
    "html = res.text"
   ]
  },
  {
   "cell_type": "code",
   "execution_count": 83,
   "metadata": {},
   "outputs": [],
   "source": [
    "soup = BeautifulSoup(html, 'html.parser')"
   ]
  },
  {
   "cell_type": "code",
   "execution_count": 136,
   "metadata": {},
   "outputs": [],
   "source": [
    "p = re.compile('[0-9]{2}.[0-9]{1}')"
   ]
  },
  {
   "cell_type": "code",
   "execution_count": 137,
   "metadata": {},
   "outputs": [],
   "source": [
    "likey = soup.find_all(class_ ='st_on')"
   ]
  },
  {
   "cell_type": "code",
   "execution_count": 141,
   "metadata": {},
   "outputs": [
    {
     "name": "stdout",
     "output_type": "stream",
     "text": [
      "9.14\n",
      "5.38\n",
      "7.96\n"
     ]
    }
   ],
   "source": [
    "for like in likey[0:3]:\n",
    "    print(float(p.findall(like.get('style'))[0])*0.1)"
   ]
  },
  {
   "cell_type": "markdown",
   "metadata": {},
   "source": [
    "### 3. 관람객 평점 공감순 20건 가져오기"
   ]
  },
  {
   "cell_type": "markdown",
   "metadata": {},
   "source": [
    "평점, 평점 작성자 닉네임, 리뷰 본문"
   ]
  },
  {
   "cell_type": "code",
   "execution_count": 143,
   "metadata": {},
   "outputs": [],
   "source": [
    "url = 'https://movie.naver.com/movie/bi/mi/pointWriteFormList.nhn?code={code}&type=after&isActualPointWriteExecute=false&isMileageSubscriptionAlready=false&isMileageSubscriptionReject=false&page={page}'.format(code=186821, page=1)"
   ]
  },
  {
   "cell_type": "code",
   "execution_count": 144,
   "metadata": {},
   "outputs": [],
   "source": [
    "res = requests.get(url, headers={'User-Agent':'Mozilla/5.0'})\n",
    "html = res.text"
   ]
  },
  {
   "cell_type": "code",
   "execution_count": 145,
   "metadata": {},
   "outputs": [],
   "source": [
    "soup = BeautifulSoup(html, 'html.parser')"
   ]
  },
  {
   "cell_type": "code",
   "execution_count": 163,
   "metadata": {},
   "outputs": [
    {
     "data": {
      "text/plain": [
       "<li>\n",
       "<div class=\"star_score\">\n",
       "<span class=\"st_off\"><span class=\"st_on\" style=\"width:100.0%\"></span></span><em>10</em>\n",
       "</div>\n",
       "<div class=\"score_reple\">\n",
       "<p>\n",
       "<span class=\"ico_viewer\">관람객</span>\n",
       "<!-- 스포일러 컨텐츠로 처리되는지 여부 -->\n",
       "<span id=\"_filtered_ment_0\">\n",
       "\t\t\t\t\t\t\t\t\t\t\t\t\t\t\n",
       "\t\t\t\t\t\t\t\t\t\t\t\t\t\t\t\n",
       "\t\t\t\t\t\t\t\t\t\t\t\t\t\t\t\n",
       "\t\t\t\t\t\t\t\t\t\t\t\t\t\t\t\t너무 재밌었어용ㅠ 라미란 짱멋… \n",
       "\t\t\t\t\t\t\t\t\t\t\t\t\t\t\t\n",
       "\t\t\t\t\t\t\t\t\t\t\t\t\t\t\n",
       "\t\t\t\t\t\t\t\t\t\t\t\t\t\t\n",
       "\t\t\t\t\t\t\t\t\t\t\t\t\t</span>\n",
       "</p>\n",
       "<dl>\n",
       "<dt>\n",
       "<em>\n",
       "<a href=\"#\" onclick=\"javascript:showPointListByNid(16703919, 'after');parent.clickcr(this, 'ara.uid', '', '', event); return false;\" target=\"_top\">\n",
       "<span>김다솜(kmjd****)</span>\n",
       "</a>\n",
       "</em>\n",
       "<em>2020.02.12 17:13</em>\n",
       "</dt>\n",
       "<dd>\n",
       "<a class=\"go_report2\" href=\"#\" onclick=\"parent.clickcr(this, 'ara.report', '', '', event); common.report('false','kmjd****', 'rO9vfZ1PtXZ9oGjeSw0ncGyezfFWblnS8ArF32eaIAI=', '너무 재밌었어용ㅠ 라미란 짱멋… ', '16703919', 'point_after', false);return false;\"><em>신고</em></a>\n",
       "</dd>\n",
       "</dl>\n",
       "</div>\n",
       "<div class=\"btn_area\">\n",
       "<a class=\"_sympathyButton\" href=\"#\" onclick=\"parent.clickcr(this, 'ara.sym', '', '', event);\">\n",
       "<span class=\"ico_up\"></span>\n",
       "<span class=\"blind\">공감</span>\n",
       "<strong class=\"sympathy_16703919\">607</strong>\n",
       "</a>\n",
       "<a class=\"_notSympathyButton\" href=\"#\" onclick=\"parent.clickcr(this, 'ara.opp', '', '', event);\">\n",
       "<span class=\"ico_down\"></span>\n",
       "<span class=\"blind\">비공감</span>\n",
       "<strong class=\"notSympathy_16703919\">370</strong>\n",
       "</a>\n",
       "</div>\n",
       "</li>"
      ]
     },
     "execution_count": 163,
     "metadata": {},
     "output_type": "execute_result"
    }
   ],
   "source": [
    "score_result = soup.find('div', {'class': 'score_result'})\n",
    "lis = score_result.findAll('li')\n",
    "lis[0]"
   ]
  },
  {
   "cell_type": "code",
   "execution_count": 176,
   "metadata": {},
   "outputs": [
    {
     "data": {
      "text/plain": [
       "'너무 재밌었어용ㅠ 라미란 짱멋…'"
      ]
     },
     "execution_count": 176,
     "metadata": {},
     "output_type": "execute_result"
    }
   ],
   "source": [
    "review_text = lis[0].find('p').text\n",
    "review_text[4:].strip()"
   ]
  },
  {
   "cell_type": "code",
   "execution_count": 166,
   "metadata": {},
   "outputs": [
    {
     "data": {
      "text/plain": [
       "'10'"
      ]
     },
     "execution_count": 166,
     "metadata": {},
     "output_type": "execute_result"
    }
   ],
   "source": [
    "lis[0].find('em').text"
   ]
  },
  {
   "cell_type": "code",
   "execution_count": 169,
   "metadata": {},
   "outputs": [
    {
     "data": {
      "text/plain": [
       "'김다솜(kmjd****)'"
      ]
     },
     "execution_count": 169,
     "metadata": {},
     "output_type": "execute_result"
    }
   ],
   "source": [
    "nickname = lis[0].findAll('a')[0].find('span').getText()\n",
    "nickname"
   ]
  }
 ],
 "metadata": {
  "kernelspec": {
   "display_name": "Python 3",
   "language": "python",
   "name": "python3"
  },
  "language_info": {
   "codemirror_mode": {
    "name": "ipython",
    "version": 3
   },
   "file_extension": ".py",
   "mimetype": "text/x-python",
   "name": "python",
   "nbconvert_exporter": "python",
   "pygments_lexer": "ipython3",
   "version": "3.7.3"
  }
 },
 "nbformat": 4,
 "nbformat_minor": 2
}
