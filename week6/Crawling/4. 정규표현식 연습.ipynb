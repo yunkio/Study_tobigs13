{
 "cells": [
  {
   "cell_type": "markdown",
   "metadata": {},
   "source": [
    "# 정규표현식 연습"
   ]
  },
  {
   "cell_type": "code",
   "execution_count": 1,
   "metadata": {},
   "outputs": [],
   "source": [
    "import re"
   ]
  },
  {
   "cell_type": "markdown",
   "metadata": {},
   "source": [
    "### 1. 휴대폰 번호만 뽑기"
   ]
  },
  {
   "cell_type": "code",
   "execution_count": 2,
   "metadata": {},
   "outputs": [],
   "source": [
    "chat = \"\"\"\n",
    "    김수아: 도연아 너 민정이 번호 아니\n",
    "    이도연: 아니 몰라\n",
    "    김수아: ㅜㅜ\n",
    "    이유진: 민정이 번호 010-1234-5678아니야?\n",
    "    김수아: 오 감사감사\n",
    "    이도연: 저 번호 안 받는데?\n",
    "    이세윤: 아냐 010-5678-1234 일걸?\n",
    "    이유진: 헐 맞네\n",
    "\"\"\""
   ]
  },
  {
   "cell_type": "code",
   "execution_count": 3,
   "metadata": {},
   "outputs": [],
   "source": [
    "p = re.compile('010-?[0-9]{4}-?[0-9]{4}')"
   ]
  },
  {
   "cell_type": "code",
   "execution_count": 4,
   "metadata": {},
   "outputs": [
    {
     "data": {
      "text/plain": [
       "['010-1234-5678', '010-5678-1234']"
      ]
     },
     "execution_count": 4,
     "metadata": {},
     "output_type": "execute_result"
    }
   ],
   "source": [
    "p.findall(chat)"
   ]
  },
  {
   "cell_type": "markdown",
   "metadata": {},
   "source": [
    "### 2. 영문자만 뽑기"
   ]
  },
  {
   "cell_type": "code",
   "execution_count": 5,
   "metadata": {},
   "outputs": [
    {
     "name": "stdout",
     "output_type": "stream",
     "text": [
      "<re.Match object; span=(0, 6), match='python'>\n",
      "<re.Match object; span=(0, 6), match='python'>\n",
      "<re.Match object; span=(0, 6), match='python'>\n",
      "<re.Match object; span=(0, 6), match='python'>\n",
      "['life', 'is', 'too', 'short']\n",
      "<callable_iterator object at 0x00000214B93A3080>\n"
     ]
    }
   ],
   "source": [
    "p = re.compile('[a-z]+')\n",
    "\n",
    "# match\n",
    "m = p.match(\"python\")\n",
    "print(m) # <_sre.SRE_Match object at 0x01F3F9F8> m이 정규식에 부합하므로 match 객체가 리턴된다.\n",
    "\n",
    "m = p.match(\"python 3\")\n",
    "print(m) # 3이라는 문자가 정규식 [a-z]+에 부합하지 않으므로 None이 리턴된다.\n",
    "\n",
    "m = p.search(\"python\")\n",
    "print(m) # m이 정규식에 부합하므로 search 객체가 리턴된다.\n",
    "\n",
    "m = p.search(\"python 3\")\n",
    "print(m) # 문자열 전체를 검색하기 때문에 \"python\"이라는 문자열과 매치\n",
    "\n",
    "result = p.findall(\"life is too short\")\n",
    "print(result) # 단어들이 각각 [a-z]+ 정규식과 매치되어 리스트로 리턴된다.\n",
    "\n",
    "result = p.finditer(\"life is too short\")\n",
    "print(result) # 반복 가능한 객체(iterator object)를 리턴한다."
   ]
  },
  {
   "cell_type": "markdown",
   "metadata": {},
   "source": [
    "### 3. 기타 예시"
   ]
  },
  {
   "cell_type": "markdown",
   "metadata": {},
   "source": [
    "[정규표현식 다양한 사용 예 모음](https://nachwon.github.io/regular-expressions/)"
   ]
  },
  {
   "cell_type": "markdown",
   "metadata": {},
   "source": [
    "### 4. 정규식 개념 모음"
   ]
  },
  {
   "cell_type": "markdown",
   "metadata": {},
   "source": [
    "[07-1 정규 표현식 살펴보기](https://wikidocs.net/1642)"
   ]
  },
  {
   "cell_type": "markdown",
   "metadata": {},
   "source": [
    "[07-2 정규 표현식 시작하기](https://wikidocs.net/4308)"
   ]
  },
  {
   "cell_type": "markdown",
   "metadata": {},
   "source": [
    "[07-3 강력한 정규 표현식의 세계로](https://wikidocs.net/4309)"
   ]
  }
 ],
 "metadata": {
  "kernelspec": {
   "display_name": "Python 3",
   "language": "python",
   "name": "python3"
  },
  "language_info": {
   "codemirror_mode": {
    "name": "ipython",
    "version": 3
   },
   "file_extension": ".py",
   "mimetype": "text/x-python",
   "name": "python",
   "nbconvert_exporter": "python",
   "pygments_lexer": "ipython3",
   "version": "3.7.3"
  }
 },
 "nbformat": 4,
 "nbformat_minor": 2
}
