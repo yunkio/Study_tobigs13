{
 "cells": [
  {
   "cell_type": "code",
   "execution_count": 1,
   "metadata": {},
   "outputs": [],
   "source": [
    "import pandas as pd\n",
    "import numpy as np\n",
    "import tqdm\n",
    "from imblearn.over_sampling import SMOTE\n",
    "from sklearn.model_selection import train_test_split"
   ]
  },
  {
   "cell_type": "code",
   "execution_count": 2,
   "metadata": {},
   "outputs": [],
   "source": [
    "df = pd.read_csv('creditcard.csv')"
   ]
  },
  {
   "cell_type": "code",
   "execution_count": 3,
   "metadata": {},
   "outputs": [],
   "source": [
    "X = df.loc[:, df.columns != \"Class\"]\n",
    "Y = df[\"Class\"]\n",
    "X_train, X_test, Y_train, Y_test = train_test_split(X, Y, test_size=0.2, random_state=77)"
   ]
  },
  {
   "cell_type": "code",
   "execution_count": 31,
   "metadata": {},
   "outputs": [],
   "source": [
    "sm = SMOTE(ratio=\"auto\", kind='regular')"
   ]
  },
  {
   "cell_type": "code",
   "execution_count": 32,
   "metadata": {},
   "outputs": [
    {
     "data": {
      "text/plain": [
       "1    227450\n",
       "0    227450\n",
       "dtype: int64"
      ]
     },
     "execution_count": 32,
     "metadata": {},
     "output_type": "execute_result"
    }
   ],
   "source": [
    "X_train_resampled, Y_train_resampled = sm.fit_sample(X_train, Y_train)\n",
    "pd.Series(Y_train_resampled).value_counts()"
   ]
  },
  {
   "cell_type": "code",
   "execution_count": 34,
   "metadata": {},
   "outputs": [
    {
     "data": {
      "text/plain": [
       "Time      2.255111e+09\n",
       "V1        3.836502e+00\n",
       "V2        2.726829e+00\n",
       "V3        2.299036e+00\n",
       "V4        2.004690e+00\n",
       "V5        1.905088e+00\n",
       "V6        1.774951e+00\n",
       "V7        1.530397e+00\n",
       "V8        1.426483e+00\n",
       "V9        1.206996e+00\n",
       "V10       1.185595e+00\n",
       "V11       1.041855e+00\n",
       "V12       9.984069e-01\n",
       "V13       9.905741e-01\n",
       "V14       9.189087e-01\n",
       "V15       8.378063e-01\n",
       "V16       7.678215e-01\n",
       "V17       7.213744e-01\n",
       "V18       7.025417e-01\n",
       "V19       6.626640e-01\n",
       "V20       5.943270e-01\n",
       "V21       5.395272e-01\n",
       "V22       5.266432e-01\n",
       "V23       3.899515e-01\n",
       "V24       3.668097e-01\n",
       "V25       2.717310e-01\n",
       "V26       2.325414e-01\n",
       "V27       1.629198e-01\n",
       "V28       1.089553e-01\n",
       "Amount    6.256023e+04\n",
       "dtype: float64"
      ]
     },
     "execution_count": 34,
     "metadata": {},
     "output_type": "execute_result"
    }
   ],
   "source": [
    "X.var()"
   ]
  },
  {
   "cell_type": "code",
   "execution_count": null,
   "metadata": {},
   "outputs": [],
   "source": []
  }
 ],
 "metadata": {
  "kernelspec": {
   "display_name": "Python 3",
   "language": "python",
   "name": "python3"
  },
  "language_info": {
   "codemirror_mode": {
    "name": "ipython",
    "version": 3
   },
   "file_extension": ".py",
   "mimetype": "text/x-python",
   "name": "python",
   "nbconvert_exporter": "python",
   "pygments_lexer": "ipython3",
   "version": "3.7.4"
  }
 },
 "nbformat": 4,
 "nbformat_minor": 4
}
