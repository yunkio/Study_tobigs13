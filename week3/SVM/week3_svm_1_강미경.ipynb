{
 "cells": [
  {
   "cell_type": "code",
   "execution_count": 1,
   "metadata": {},
   "outputs": [],
   "source": [
    "import numpy as np\n",
    "import pandas as pd\n",
    "import matplotlib.pyplot as plt\n",
    "import seaborn as sns\n",
    "from sklearn.svm import SVC\n",
    "from sklearn.model_selection import train_test_split\n",
    "from sklearn.pipeline import Pipeline\n",
    "from sklearn.preprocessing import StandardScaler\n",
    "\n",
    "#IRIS 데이터 로드\n",
    "iris =  sns.load_dataset('iris') \n",
    "X= iris.iloc[:,:4] #학습할데이터\n",
    "y = iris.iloc[:,-1] #타겟"
   ]
  },
  {
   "cell_type": "code",
   "execution_count": 11,
   "metadata": {},
   "outputs": [],
   "source": [
    "#Scailing\n",
    "scal = StandardScaler() \n",
    "X = scal.fit_transform(X) #X를 스케일링한 데이터로 교체"
   ]
  },
  {
   "cell_type": "code",
   "execution_count": 6,
   "metadata": {},
   "outputs": [],
   "source": [
    "# One Versus Rest 구현을 위해 class가 0인것과 아닌것을 구분하기위한 machine class가 1인것과 아닌 것을 구분하기 위한 머신 등을 미리만들어줌\n",
    "svm_1 = SVC(kernel ='rbf', C = 5, gamma = 5)\n",
    "svm_2 = SVC(kernel ='rbf', C = 5, gamma = 5)\n",
    "svm_3 = SVC(kernel ='rbf', C = 5, gamma = 5)"
   ]
  },
  {
   "cell_type": "code",
   "execution_count": 7,
   "metadata": {},
   "outputs": [],
   "source": [
    "from sklearn.model_selection import train_test_split #테스트/트레인 데이터로 분리\n",
    "X_train, X_test, y_train, y_test = train_test_split(X, y, test_size=0.2, random_state=48)"
   ]
  },
  {
   "cell_type": "code",
   "execution_count": 8,
   "metadata": {},
   "outputs": [
    {
     "data": {
      "text/html": [
       "<div>\n",
       "<style scoped>\n",
       "    .dataframe tbody tr th:only-of-type {\n",
       "        vertical-align: middle;\n",
       "    }\n",
       "\n",
       "    .dataframe tbody tr th {\n",
       "        vertical-align: top;\n",
       "    }\n",
       "\n",
       "    .dataframe thead th {\n",
       "        text-align: right;\n",
       "    }\n",
       "</style>\n",
       "<table border=\"1\" class=\"dataframe\">\n",
       "  <thead>\n",
       "    <tr style=\"text-align: right;\">\n",
       "      <th></th>\n",
       "      <th>setosa</th>\n",
       "      <th>versicolor</th>\n",
       "      <th>virginica</th>\n",
       "    </tr>\n",
       "  </thead>\n",
       "  <tbody>\n",
       "    <tr>\n",
       "      <td>110</td>\n",
       "      <td>0</td>\n",
       "      <td>0</td>\n",
       "      <td>1</td>\n",
       "    </tr>\n",
       "    <tr>\n",
       "      <td>69</td>\n",
       "      <td>0</td>\n",
       "      <td>1</td>\n",
       "      <td>0</td>\n",
       "    </tr>\n",
       "    <tr>\n",
       "      <td>148</td>\n",
       "      <td>0</td>\n",
       "      <td>0</td>\n",
       "      <td>1</td>\n",
       "    </tr>\n",
       "    <tr>\n",
       "      <td>39</td>\n",
       "      <td>1</td>\n",
       "      <td>0</td>\n",
       "      <td>0</td>\n",
       "    </tr>\n",
       "    <tr>\n",
       "      <td>53</td>\n",
       "      <td>0</td>\n",
       "      <td>1</td>\n",
       "      <td>0</td>\n",
       "    </tr>\n",
       "    <tr>\n",
       "      <td>...</td>\n",
       "      <td>...</td>\n",
       "      <td>...</td>\n",
       "      <td>...</td>\n",
       "    </tr>\n",
       "    <tr>\n",
       "      <td>64</td>\n",
       "      <td>0</td>\n",
       "      <td>1</td>\n",
       "      <td>0</td>\n",
       "    </tr>\n",
       "    <tr>\n",
       "      <td>91</td>\n",
       "      <td>0</td>\n",
       "      <td>1</td>\n",
       "      <td>0</td>\n",
       "    </tr>\n",
       "    <tr>\n",
       "      <td>81</td>\n",
       "      <td>0</td>\n",
       "      <td>1</td>\n",
       "      <td>0</td>\n",
       "    </tr>\n",
       "    <tr>\n",
       "      <td>51</td>\n",
       "      <td>0</td>\n",
       "      <td>1</td>\n",
       "      <td>0</td>\n",
       "    </tr>\n",
       "    <tr>\n",
       "      <td>0</td>\n",
       "      <td>1</td>\n",
       "      <td>0</td>\n",
       "      <td>0</td>\n",
       "    </tr>\n",
       "  </tbody>\n",
       "</table>\n",
       "<p>120 rows × 3 columns</p>\n",
       "</div>"
      ],
      "text/plain": [
       "     setosa  versicolor  virginica\n",
       "110       0           0          1\n",
       "69        0           1          0\n",
       "148       0           0          1\n",
       "39        1           0          0\n",
       "53        0           1          0\n",
       "..      ...         ...        ...\n",
       "64        0           1          0\n",
       "91        0           1          0\n",
       "81        0           1          0\n",
       "51        0           1          0\n",
       "0         1           0          0\n",
       "\n",
       "[120 rows x 3 columns]"
      ]
     },
     "execution_count": 8,
     "metadata": {},
     "output_type": "execute_result"
    }
   ],
   "source": [
    "y_train = pd.get_dummies(y_train) #one hot encoding을 먼저해보자\n",
    "y_train"
   ]
  },
  {
   "cell_type": "code",
   "execution_count": 23,
   "metadata": {},
   "outputs": [
    {
     "data": {
      "text/plain": [
       "SVC(C=5, cache_size=200, class_weight=None, coef0=0.0,\n",
       "    decision_function_shape='ovr', degree=3, gamma=5, kernel='rbf', max_iter=-1,\n",
       "    probability=False, random_state=None, shrinking=True, tol=0.001,\n",
       "    verbose=False)"
      ]
     },
     "execution_count": 23,
     "metadata": {},
     "output_type": "execute_result"
    }
   ],
   "source": [
    "svm_1.fit(X_train,y_train.iloc[:,0]) # 데이터 클레스가 0인 애인지 아닌지 구분해주는 머신\n",
    "svm_2.fit(X_train,y_train.iloc[:,1]) # 데이터 클레스가 1인 애인지 아닌지 구분해주는 머신\n",
    "svm_3.fit(X_train,y_train.iloc[:,2]) # 데이터 클레스가 2인 애인지 아닌지 구분해주는 머신"
   ]
  },
  {
   "cell_type": "code",
   "execution_count": 24,
   "metadata": {},
   "outputs": [
    {
     "name": "stdout",
     "output_type": "stream",
     "text": [
      "[0 0 0 0 0 0 1 0 1 0 0 1 1 0 0 0 1 0 0 0 1 0 0 0 0 1 1 0 0 0]\n",
      "[-1.12470845 -0.86326953 -0.65281099 -0.50248821 -0.76284323 -0.87465573\n",
      "  1.07709345 -0.99281647  0.47441336 -0.99842743 -0.83989348  0.15633457\n",
      "  0.32871788 -0.97965464 -0.72385083 -0.92638376  1.28322481 -0.56240455\n",
      " -0.72719892 -0.99509775  0.43166724 -0.96451557 -0.82991366 -1.03020581\n",
      " -0.75166835  1.13461335  0.39943974 -1.04194106 -0.93376548 -1.06133798]\n"
     ]
    }
   ],
   "source": [
    "print(svm_1.predict(X_test)) #데이터 클래스가 0인지 아닌지 구분해주는 애를 통해서 테스트데이터의 클래스가 0인지 0이 아닌인지 예측해보자\n",
    "print(svm_1.decision_function(X_test)) #decision_function hyperplane과의 거리를 구하는 방법 필요하다면 활용해주세요"
   ]
  },
  {
   "cell_type": "code",
   "execution_count": 25,
   "metadata": {},
   "outputs": [
    {
     "name": "stdout",
     "output_type": "stream",
     "text": [
      "[1 1 1 0 0 0 0 0 0 1 0 0 0 0 1 1 0 0 0 0 0 0 1 1 0 0 0 0 0 1]\n",
      "[ 1.36054602  0.62859488  0.0580828  -0.36987093 -0.25686625 -0.79229874\n",
      " -1.03195247 -0.87132049 -0.77957234  0.99327762 -0.73309581 -0.64607768\n",
      " -0.71843897 -0.80882458  0.47748663  0.69953462 -1.11879121 -0.1870504\n",
      " -0.24458236 -0.99337352 -0.76149141 -0.96812018  0.11310267  1.06892719\n",
      " -0.56749692 -1.05639624 -0.74817515 -1.0537858  -0.89721836  1.17126024]\n"
     ]
    }
   ],
   "source": [
    "print(svm_2.predict(X_test)) #데이터 클래스가 0인지 아닌지 구분해주는 애를 통해서 테스트데이터의 클래스가 0인지 0이 아닌인지 예측해보자\n",
    "print(svm_2.decision_function(X_test)) #decision_function hyperplane과의 거리를 구하는 방법 필요하다면 활용해주세요"
   ]
  },
  {
   "cell_type": "code",
   "execution_count": 26,
   "metadata": {},
   "outputs": [
    {
     "name": "stdout",
     "output_type": "stream",
     "text": [
      "[0 0 0 0 1 1 0 1 0 0 1 0 0 1 0 0 0 0 0 1 0 1 0 0 1 0 0 1 1 0]\n",
      "[-1.26277651 -0.77964936 -0.40539105 -0.13070947  0.02643314  0.57365649\n",
      " -1.04443118  0.88027844 -0.69605517 -0.99074328  0.52442024 -0.51171892\n",
      " -0.61157919  0.78148257 -0.75517707 -0.76905925 -1.16380018 -0.25333938\n",
      " -0.0251979   0.98843144 -0.67129528  0.89577306 -0.30363489 -1.03647008\n",
      "  0.31622662 -1.07758405 -0.65251719  1.09632055  0.85541707 -1.11042784]\n"
     ]
    }
   ],
   "source": [
    "print(svm_3.predict(X_test)) #데이터 클래스가 0인지 아닌지 구분해주는 애를 통해서 테스트데이터의 클래스가 0인지 0이 아닌인지 예측해보자\n",
    "print(svm_3.decision_function(X_test)) #decision_function hyperplane과의 거리를 구하는 방법 필요하다면 활용해주세요"
   ]
  },
  {
   "cell_type": "code",
   "execution_count": 33,
   "metadata": {},
   "outputs": [
    {
     "name": "stdout",
     "output_type": "stream",
     "text": [
      "3\n",
      "17\n",
      "18\n"
     ]
    }
   ],
   "source": [
    "# 부호가 모든 같은 경우가 있는가? 요모두 동점인 경우가 생길것이다.\n",
    "for i in range(len(X_test)):\n",
    "    # ~. decision_function을 이용하면 해당 데이터가 하이퍼플레인으로부터 얼마나 떨어져있는 지 거리가 나온다 다음은 그 값의 부호를 이용해\n",
    "    # 모두가 동점인 경우가 있는지 출력하는 함수 \n",
    "    if (np.sign(svm_1.decision_function(X_test)[i]) == np.sign(svm_2.decision_function(X_test)[i])) and (np.sign(svm_2.decision_function(X_test)[i]) == np.sign(svm_3.decision_function(X_test)[i])):\n",
    "        print(i)"
   ]
  },
  {
   "cell_type": "markdown",
   "metadata": {},
   "source": [
    "# SVM :: One vs rest\n",
    " Case 1 : One vs Rest SVM을 이부분에 구현해주세요 위 결과들을 이용해서 multi class SVM을 직접 구현해주세요! 하드코딩이 하시기 편할겁니다.\n"
   ]
  },
  {
   "cell_type": "code",
   "execution_count": 226,
   "metadata": {},
   "outputs": [],
   "source": [
    "#각 모델의 결과를 ndarray에 넣고 합침. \n",
    "# svm_t는 2차원 배열의 형태로 1열은 A모델의 결과, 2열은 B모델의 결과, 3열은 C모델의 결과를 담고 있다.\n",
    "svm1 = svm_1.predict(X_test)\n",
    "svm2 = svm_2.predict(X_test)\n",
    "svm3 = svm_3.predict(X_test)\n",
    "svm_t = np.column_stack([svm1.T, svm2.T, svm3.T])"
   ]
  },
  {
   "cell_type": "code",
   "execution_count": 227,
   "metadata": {},
   "outputs": [],
   "source": [
    "#초기 인자 선언\n",
    "# svm_res : 각 레코드에 대해 세 가지 모델이 투표한 결과를 담은 array, 0~3의 값을 가진다.\n",
    "svm_res = []\n",
    "\n",
    "for i in range(len(svm_t)): #for문으로 각 레코드를 차례대로 순환한다.\n",
    "    sum = 0 #레코드의 시작마다 sum을 초기화시킴.\n",
    "    \n",
    "    for j in range(3): #각 svm1, svm2, svm3 모델에 대해 순환한다.\n",
    "        sum += svm_t[i][j] #하나의 레코드에 대해 각 머신의 결과 (0 or 1)를 더함.\n",
    "    \n",
    "    svm_res.append(sum) #한 레코드에 대해 순환이 되었으면 해당 결과를 sum_res에 넣고 다음 레코드로 이동"
   ]
  },
  {
   "cell_type": "code",
   "execution_count": 228,
   "metadata": {},
   "outputs": [],
   "source": [
    "#그리고 위에서 얻은 결과를 기존 세 가지 모델의 결과가 들어있던 데이터와 합침.\n",
    "# svm_tres : 각 머신에 대한 결과와 투표수의 합이 들어있는 2차원 배열\n",
    "svm_tres = np.column_stack([svm_t, svm_res])"
   ]
  },
  {
   "cell_type": "code",
   "execution_count": 229,
   "metadata": {},
   "outputs": [],
   "source": [
    "#레코드가 받은 총 투표수를 이용해 결과를 return하는 함수\n",
    "def vote(svm_tres):\n",
    "    vote_res = []\n",
    "    for i in range(len(svm_tres)):\n",
    "        if svm_tres[i][3] == 1: #투표를 하나 받은 경우\n",
    "            vote_res.append(single_vote(i))\n",
    "    \n",
    "        elif svm_tres[i][3] == 0: #투표를 아무것도 받지 못한 경우\n",
    "            vote_res.append(zero_vote(i))\n",
    "        \n",
    "        else: #투표를 두 개 이상 받은 경우\n",
    "            vote_res.append(multi_vote(i))\n",
    "    return vote_res"
   ]
  },
  {
   "cell_type": "code",
   "execution_count": 230,
   "metadata": {},
   "outputs": [],
   "source": [
    "#레코드가 투표를 하나 받은 경우 어떤 머신에서 투표를 받았는 지 검색하여 해당 값을 반환해주는 함수\n",
    "def single_vote(i): #몇 번째 레코드인지에 대한 정보를 인자로 전달받음.\n",
    "    for j in range(3):\n",
    "        if svm_tres[i][j] == 1:\n",
    "            return j  "
   ]
  },
  {
   "cell_type": "code",
   "execution_count": 231,
   "metadata": {},
   "outputs": [],
   "source": [
    "from random import randint\n",
    "#어떤 머신에서도 1값을 받지 못한 레코드의 경우 전체 경우의 수 중 랜덤으로 하나를 반환함. 그 함수임\n",
    "\n",
    "def zero_vote(i):\n",
    "    j = randint(0, 2) #0 or 1 or 2 중 하나를 랜덤으로 추출하여 해당 값을 반환함.\n",
    "    return j"
   ]
  },
  {
   "cell_type": "code",
   "execution_count": 232,
   "metadata": {},
   "outputs": [],
   "source": [
    "# 두 개 이상의 투표를 받은 경우에는 그 값들 중 랜덤으로 선택하여 반환함.\n",
    "def multi_vote(i):\n",
    "    while True:\n",
    "        vote_res = randint(0, 2) #0~2사이의 난수를 추출하여\n",
    "        if svm_tres[i][vote_res] == 1: #그 난수번째 머신에게 투표를 받았다면\n",
    "            return vote_res #그 난수를 반환하고\n",
    "            break #무한루프를 나감.\n",
    "        else: #만약 난수번째 머신이 투표를 0으로 했다면\n",
    "            continue #난수 추출 다시함."
   ]
  },
  {
   "cell_type": "code",
   "execution_count": 248,
   "metadata": {},
   "outputs": [],
   "source": [
    "def iris_encoding(n): #0, 1, 2로 코딩되어 있는 결과를 문자로 인코딩\n",
    "    n_res = np.array([])\n",
    "    for i in range(len(n)):\n",
    "        if n[i] == 0:\n",
    "            n_res = np.append(n_res, \"setosa\")\n",
    "        elif n[i] == 1:\n",
    "            n_res = np.append(n_res, \"versicolor\")\n",
    "        else:\n",
    "            n_res = np.append(n_res, \"virginica\")\n",
    "    return n_res"
   ]
  },
  {
   "cell_type": "code",
   "execution_count": 306,
   "metadata": {},
   "outputs": [
    {
     "name": "stdout",
     "output_type": "stream",
     "text": [
      "['versicolor' 'versicolor' 'versicolor' 'setosa' 'virginica' 'virginica'\n",
      " 'setosa' 'virginica' 'setosa' 'versicolor' 'virginica' 'setosa' 'setosa'\n",
      " 'virginica' 'versicolor' 'versicolor' 'setosa' 'versicolor' 'versicolor'\n",
      " 'virginica' 'setosa' 'virginica' 'versicolor' 'versicolor' 'virginica'\n",
      " 'setosa' 'setosa' 'virginica' 'virginica' 'versicolor']\n",
      "0.9333333333333333\n"
     ]
    }
   ],
   "source": [
    "svm_en = iris_encoding(vote(svm_tres))\n",
    "print(svm_en)\n",
    "\n",
    "from sklearn import metrics #model evaluation하는 라이브러리\n",
    "print(metrics.accuracy_score(y_test,svm_en)) #스코어 확인"
   ]
  },
  {
   "cell_type": "markdown",
   "metadata": {},
   "source": [
    "# 성능 시험\n",
    "그냥 원래 라이브러리가 제공하는 멀티클래스 SVM과 여러분이 구현한 multiclass SVM결과를 한 번 비교해주세요\n"
   ]
  },
  {
   "cell_type": "code",
   "execution_count": 309,
   "metadata": {},
   "outputs": [
    {
     "data": {
      "text/plain": [
       "0.8333333333333334"
      ]
     },
     "execution_count": 309,
     "metadata": {},
     "output_type": "execute_result"
    }
   ],
   "source": [
    "from sklearn.model_selection import train_test_split #데이터셋 분리\n",
    "X_train_2, X_test_2, y_train_2, y_test_2 = train_test_split(X, y, test_size=0.2, random_state=48)\n",
    "\n",
    "svm_4 = SVC(kernel ='rbf', C = 5, gamma = 5)\n",
    "svm_4.fit(X_train_2, y_train_2)\n",
    "y_pred = svm_4.predict(X_test_2)\n",
    "\n",
    "metrics.accuracy_score(y_test_2,y_pred)"
   ]
  },
  {
   "cell_type": "code",
   "execution_count": 310,
   "metadata": {},
   "outputs": [
    {
     "data": {
      "text/html": [
       "<div>\n",
       "<style scoped>\n",
       "    .dataframe tbody tr th:only-of-type {\n",
       "        vertical-align: middle;\n",
       "    }\n",
       "\n",
       "    .dataframe tbody tr th {\n",
       "        vertical-align: top;\n",
       "    }\n",
       "\n",
       "    .dataframe thead th {\n",
       "        text-align: right;\n",
       "    }\n",
       "</style>\n",
       "<table border=\"1\" class=\"dataframe\">\n",
       "  <thead>\n",
       "    <tr style=\"text-align: right;\">\n",
       "      <th></th>\n",
       "      <th>setosa</th>\n",
       "      <th>versicolor</th>\n",
       "      <th>virginica</th>\n",
       "    </tr>\n",
       "  </thead>\n",
       "  <tbody>\n",
       "    <tr>\n",
       "      <td>110</td>\n",
       "      <td>0</td>\n",
       "      <td>0</td>\n",
       "      <td>1</td>\n",
       "    </tr>\n",
       "    <tr>\n",
       "      <td>69</td>\n",
       "      <td>0</td>\n",
       "      <td>1</td>\n",
       "      <td>0</td>\n",
       "    </tr>\n",
       "    <tr>\n",
       "      <td>148</td>\n",
       "      <td>0</td>\n",
       "      <td>0</td>\n",
       "      <td>1</td>\n",
       "    </tr>\n",
       "    <tr>\n",
       "      <td>39</td>\n",
       "      <td>1</td>\n",
       "      <td>0</td>\n",
       "      <td>0</td>\n",
       "    </tr>\n",
       "    <tr>\n",
       "      <td>53</td>\n",
       "      <td>0</td>\n",
       "      <td>1</td>\n",
       "      <td>0</td>\n",
       "    </tr>\n",
       "    <tr>\n",
       "      <td>...</td>\n",
       "      <td>...</td>\n",
       "      <td>...</td>\n",
       "      <td>...</td>\n",
       "    </tr>\n",
       "    <tr>\n",
       "      <td>64</td>\n",
       "      <td>0</td>\n",
       "      <td>1</td>\n",
       "      <td>0</td>\n",
       "    </tr>\n",
       "    <tr>\n",
       "      <td>91</td>\n",
       "      <td>0</td>\n",
       "      <td>1</td>\n",
       "      <td>0</td>\n",
       "    </tr>\n",
       "    <tr>\n",
       "      <td>81</td>\n",
       "      <td>0</td>\n",
       "      <td>1</td>\n",
       "      <td>0</td>\n",
       "    </tr>\n",
       "    <tr>\n",
       "      <td>51</td>\n",
       "      <td>0</td>\n",
       "      <td>1</td>\n",
       "      <td>0</td>\n",
       "    </tr>\n",
       "    <tr>\n",
       "      <td>0</td>\n",
       "      <td>1</td>\n",
       "      <td>0</td>\n",
       "      <td>0</td>\n",
       "    </tr>\n",
       "  </tbody>\n",
       "</table>\n",
       "<p>120 rows × 3 columns</p>\n",
       "</div>"
      ],
      "text/plain": [
       "     setosa  versicolor  virginica\n",
       "110       0           0          1\n",
       "69        0           1          0\n",
       "148       0           0          1\n",
       "39        1           0          0\n",
       "53        0           1          0\n",
       "..      ...         ...        ...\n",
       "64        0           1          0\n",
       "91        0           1          0\n",
       "81        0           1          0\n",
       "51        0           1          0\n",
       "0         1           0          0\n",
       "\n",
       "[120 rows x 3 columns]"
      ]
     },
     "execution_count": 310,
     "metadata": {},
     "output_type": "execute_result"
    }
   ],
   "source": [
    "y_train_2 = pd.get_dummies(y_train_2) #one hot encoding을 먼저해보자\n",
    "y_train_2"
   ]
  },
  {
   "cell_type": "code",
   "execution_count": 312,
   "metadata": {},
   "outputs": [
    {
     "data": {
      "text/plain": [
       "SVC(C=5, cache_size=200, class_weight=None, coef0=0.0,\n",
       "    decision_function_shape='ovr', degree=3, gamma=5, kernel='rbf', max_iter=-1,\n",
       "    probability=False, random_state=None, shrinking=True, tol=0.001,\n",
       "    verbose=False)"
      ]
     },
     "execution_count": 312,
     "metadata": {},
     "output_type": "execute_result"
    }
   ],
   "source": [
    "svm_1.fit(X_train_2,y_train_2.iloc[:,0]) # 데이터 클레스가 0인 애인지 아닌지 구분해주는 머신\n",
    "svm_2.fit(X_train_2,y_train_2.iloc[:,1]) # 데이터 클레스가 1인 애인지 아닌지 구분해주는 머신\n",
    "svm_3.fit(X_train_2,y_train_2.iloc[:,2]) # 데이터 클레스가 2인 애인지 아닌지 구분해주는 머신|"
   ]
  },
  {
   "cell_type": "code",
   "execution_count": 313,
   "metadata": {},
   "outputs": [],
   "source": [
    "svm1 = svm_1.predict(X_test_2)\n",
    "svm2 = svm_2.predict(X_test_2)\n",
    "svm3 = svm_3.predict(X_test_2)\n",
    "svm_t = np.column_stack([svm1.T, svm2.T, svm3.T])"
   ]
  },
  {
   "cell_type": "code",
   "execution_count": 315,
   "metadata": {},
   "outputs": [],
   "source": [
    "svm_res = []\n",
    "for i in range(len(svm_t)): #for문으로 각 레코드를 차례대로 순환한다.\n",
    "    sum = 0 #레코드의 시작마다 sum을 초기화시킴.\n",
    "    for j in range(3): #각 svm1, svm2, svm3 모델에 대해 순환한다.\n",
    "        sum += svm_t[i][j] #하나의 레코드에 대해 각 머신의 결과 (0 or 1)를 더함.\n",
    "    svm_res.append(sum) #한 레코드에 대해 순환이 되었으면 해당 결과를 sum_res에 넣고 다음 레코드로 이동\n",
    "    \n",
    "svm_tres = np.column_stack([svm_t, svm_res])"
   ]
  },
  {
   "cell_type": "code",
   "execution_count": 331,
   "metadata": {},
   "outputs": [
    {
     "name": "stdout",
     "output_type": "stream",
     "text": [
      "['versicolor' 'versicolor' 'versicolor' 'setosa' 'virginica' 'virginica'\n",
      " 'setosa' 'virginica' 'setosa' 'versicolor' 'virginica' 'setosa' 'setosa'\n",
      " 'virginica' 'versicolor' 'versicolor' 'setosa' 'setosa' 'versicolor'\n",
      " 'virginica' 'setosa' 'virginica' 'versicolor' 'versicolor' 'virginica'\n",
      " 'setosa' 'setosa' 'virginica' 'virginica' 'versicolor']\n",
      "0.9\n"
     ]
    }
   ],
   "source": [
    "svm_en = iris_encoding(vote(svm_tres))\n",
    "print(svm_en)\n",
    "print(metrics.accuracy_score(y_test_2,svm_en)) #스코어 확인"
   ]
  },
  {
   "cell_type": "code",
   "execution_count": null,
   "metadata": {},
   "outputs": [],
   "source": []
  }
 ],
 "metadata": {
  "file_extension": ".py",
  "kernelspec": {
   "display_name": "Python 3",
   "language": "python",
   "name": "python3"
  },
  "language_info": {
   "codemirror_mode": {
    "name": "ipython",
    "version": 3
   },
   "file_extension": ".py",
   "mimetype": "text/x-python",
   "name": "python",
   "nbconvert_exporter": "python",
   "pygments_lexer": "ipython3",
   "version": "3.7.3"
  },
  "mimetype": "text/x-python",
  "name": "python",
  "npconvert_exporter": "python",
  "pygments_lexer": "ipython3",
  "version": 3
 },
 "nbformat": 4,
 "nbformat_minor": 4
}
